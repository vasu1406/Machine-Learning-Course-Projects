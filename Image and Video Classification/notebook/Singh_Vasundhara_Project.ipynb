{
  "cells": [
    {
      "cell_type": "code",
      "execution_count": 11,
      "metadata": {
        "colab": {
          "base_uri": "https://localhost:8080/"
        },
        "id": "131abbe7",
        "outputId": "4a5f8835-87d1-45a7-bb73-8e8d643a7e48"
      },
      "outputs": [
        {
          "output_type": "stream",
          "name": "stdout",
          "text": [
            "Looking in indexes: https://pypi.org/simple, https://us-python.pkg.dev/colab-wheels/public/simple/\n",
            "Collecting tensorflow==2.9.0\n",
            "  Downloading tensorflow-2.9.0-cp310-cp310-manylinux_2_17_x86_64.manylinux2014_x86_64.whl (511.7 MB)\n",
            "\u001b[2K     \u001b[90m━━━━━━━━━━━━━━━━━━━━━━━━━━━━━━━━━━━━━━━\u001b[0m \u001b[32m511.7/511.7 MB\u001b[0m \u001b[31m2.2 MB/s\u001b[0m eta \u001b[36m0:00:00\u001b[0m\n",
            "\u001b[?25hRequirement already satisfied: wrapt>=1.11.0 in /usr/local/lib/python3.10/dist-packages (from tensorflow==2.9.0) (1.14.1)\n",
            "Collecting flatbuffers<2,>=1.12\n",
            "  Downloading flatbuffers-1.12-py2.py3-none-any.whl (15 kB)\n",
            "Requirement already satisfied: packaging in /usr/local/lib/python3.10/dist-packages (from tensorflow==2.9.0) (23.1)\n",
            "Requirement already satisfied: gast<=0.4.0,>=0.2.1 in /usr/local/lib/python3.10/dist-packages (from tensorflow==2.9.0) (0.4.0)\n",
            "Requirement already satisfied: google-pasta>=0.1.1 in /usr/local/lib/python3.10/dist-packages (from tensorflow==2.9.0) (0.2.0)\n",
            "Requirement already satisfied: numpy>=1.20 in /usr/local/lib/python3.10/dist-packages (from tensorflow==2.9.0) (1.22.4)\n",
            "Requirement already satisfied: grpcio<2.0,>=1.24.3 in /usr/local/lib/python3.10/dist-packages (from tensorflow==2.9.0) (1.54.0)\n",
            "Requirement already satisfied: protobuf>=3.9.2 in /usr/local/lib/python3.10/dist-packages (from tensorflow==2.9.0) (3.20.3)\n",
            "Requirement already satisfied: h5py>=2.9.0 in /usr/local/lib/python3.10/dist-packages (from tensorflow==2.9.0) (3.8.0)\n",
            "Requirement already satisfied: typing-extensions>=3.6.6 in /usr/local/lib/python3.10/dist-packages (from tensorflow==2.9.0) (4.5.0)\n",
            "Requirement already satisfied: absl-py>=1.0.0 in /usr/local/lib/python3.10/dist-packages (from tensorflow==2.9.0) (1.4.0)\n",
            "Requirement already satisfied: tensorflow-io-gcs-filesystem>=0.23.1 in /usr/local/lib/python3.10/dist-packages (from tensorflow==2.9.0) (0.32.0)\n",
            "Requirement already satisfied: setuptools in /usr/local/lib/python3.10/dist-packages (from tensorflow==2.9.0) (67.7.2)\n",
            "Collecting tensorflow-estimator<2.10.0,>=2.9.0rc0\n",
            "  Downloading tensorflow_estimator-2.9.0-py2.py3-none-any.whl (438 kB)\n",
            "\u001b[2K     \u001b[90m━━━━━━━━━━━━━━━━━━━━━━━━━━━━━━━━━━━━━━\u001b[0m \u001b[32m438.7/438.7 kB\u001b[0m \u001b[31m43.8 MB/s\u001b[0m eta \u001b[36m0:00:00\u001b[0m\n",
            "\u001b[?25hRequirement already satisfied: opt-einsum>=2.3.2 in /usr/local/lib/python3.10/dist-packages (from tensorflow==2.9.0) (3.3.0)\n",
            "Collecting keras<2.10.0,>=2.9.0rc0\n",
            "  Downloading keras-2.9.0-py2.py3-none-any.whl (1.6 MB)\n",
            "\u001b[2K     \u001b[90m━━━━━━━━━━━━━━━━━━━━━━━━━━━━━━━━━━━━━━━━\u001b[0m \u001b[32m1.6/1.6 MB\u001b[0m \u001b[31m78.7 MB/s\u001b[0m eta \u001b[36m0:00:00\u001b[0m\n",
            "\u001b[?25hRequirement already satisfied: termcolor>=1.1.0 in /usr/local/lib/python3.10/dist-packages (from tensorflow==2.9.0) (2.3.0)\n",
            "Requirement already satisfied: astunparse>=1.6.0 in /usr/local/lib/python3.10/dist-packages (from tensorflow==2.9.0) (1.6.3)\n",
            "Collecting keras-preprocessing>=1.1.1\n",
            "  Downloading Keras_Preprocessing-1.1.2-py2.py3-none-any.whl (42 kB)\n",
            "\u001b[2K     \u001b[90m━━━━━━━━━━━━━━━━━━━━━━━━━━━━━━━━━━━━━━━━\u001b[0m \u001b[32m42.6/42.6 kB\u001b[0m \u001b[31m5.7 MB/s\u001b[0m eta \u001b[36m0:00:00\u001b[0m\n",
            "\u001b[?25hRequirement already satisfied: six>=1.12.0 in /usr/local/lib/python3.10/dist-packages (from tensorflow==2.9.0) (1.16.0)\n",
            "Requirement already satisfied: libclang>=13.0.0 in /usr/local/lib/python3.10/dist-packages (from tensorflow==2.9.0) (16.0.0)\n",
            "Collecting tensorboard<2.10,>=2.9\n",
            "  Downloading tensorboard-2.9.1-py3-none-any.whl (5.8 MB)\n",
            "\u001b[2K     \u001b[90m━━━━━━━━━━━━━━━━━━━━━━━━━━━━━━━━━━━━━━━━\u001b[0m \u001b[32m5.8/5.8 MB\u001b[0m \u001b[31m99.1 MB/s\u001b[0m eta \u001b[36m0:00:00\u001b[0m\n",
            "\u001b[?25hRequirement already satisfied: wheel<1.0,>=0.23.0 in /usr/local/lib/python3.10/dist-packages (from astunparse>=1.6.0->tensorflow==2.9.0) (0.40.0)\n",
            "Collecting google-auth-oauthlib<0.5,>=0.4.1\n",
            "  Downloading google_auth_oauthlib-0.4.6-py2.py3-none-any.whl (18 kB)\n",
            "Requirement already satisfied: google-auth<3,>=1.6.3 in /usr/local/lib/python3.10/dist-packages (from tensorboard<2.10,>=2.9->tensorflow==2.9.0) (2.17.3)\n",
            "Requirement already satisfied: requests<3,>=2.21.0 in /usr/local/lib/python3.10/dist-packages (from tensorboard<2.10,>=2.9->tensorflow==2.9.0) (2.27.1)\n",
            "Collecting tensorboard-data-server<0.7.0,>=0.6.0\n",
            "  Downloading tensorboard_data_server-0.6.1-py3-none-manylinux2010_x86_64.whl (4.9 MB)\n",
            "\u001b[2K     \u001b[90m━━━━━━━━━━━━━━━━━━━━━━━━━━━━━━━━━━━━━━━━\u001b[0m \u001b[32m4.9/4.9 MB\u001b[0m \u001b[31m98.3 MB/s\u001b[0m eta \u001b[36m0:00:00\u001b[0m\n",
            "\u001b[?25hRequirement already satisfied: werkzeug>=1.0.1 in /usr/local/lib/python3.10/dist-packages (from tensorboard<2.10,>=2.9->tensorflow==2.9.0) (2.3.0)\n",
            "Requirement already satisfied: markdown>=2.6.8 in /usr/local/lib/python3.10/dist-packages (from tensorboard<2.10,>=2.9->tensorflow==2.9.0) (3.4.3)\n",
            "Requirement already satisfied: tensorboard-plugin-wit>=1.6.0 in /usr/local/lib/python3.10/dist-packages (from tensorboard<2.10,>=2.9->tensorflow==2.9.0) (1.8.1)\n",
            "Collecting protobuf>=3.9.2\n",
            "  Downloading protobuf-3.19.6-cp310-cp310-manylinux_2_17_x86_64.manylinux2014_x86_64.whl (1.1 MB)\n",
            "\u001b[2K     \u001b[90m━━━━━━━━━━━━━━━━━━━━━━━━━━━━━━━━━━━━━━━━\u001b[0m \u001b[32m1.1/1.1 MB\u001b[0m \u001b[31m73.6 MB/s\u001b[0m eta \u001b[36m0:00:00\u001b[0m\n",
            "\u001b[?25hRequirement already satisfied: rsa<5,>=3.1.4 in /usr/local/lib/python3.10/dist-packages (from google-auth<3,>=1.6.3->tensorboard<2.10,>=2.9->tensorflow==2.9.0) (4.9)\n",
            "Requirement already satisfied: pyasn1-modules>=0.2.1 in /usr/local/lib/python3.10/dist-packages (from google-auth<3,>=1.6.3->tensorboard<2.10,>=2.9->tensorflow==2.9.0) (0.3.0)\n",
            "Requirement already satisfied: cachetools<6.0,>=2.0.0 in /usr/local/lib/python3.10/dist-packages (from google-auth<3,>=1.6.3->tensorboard<2.10,>=2.9->tensorflow==2.9.0) (5.3.0)\n",
            "Requirement already satisfied: requests-oauthlib>=0.7.0 in /usr/local/lib/python3.10/dist-packages (from google-auth-oauthlib<0.5,>=0.4.1->tensorboard<2.10,>=2.9->tensorflow==2.9.0) (1.3.1)\n",
            "Requirement already satisfied: idna<4,>=2.5 in /usr/local/lib/python3.10/dist-packages (from requests<3,>=2.21.0->tensorboard<2.10,>=2.9->tensorflow==2.9.0) (3.4)\n",
            "Requirement already satisfied: certifi>=2017.4.17 in /usr/local/lib/python3.10/dist-packages (from requests<3,>=2.21.0->tensorboard<2.10,>=2.9->tensorflow==2.9.0) (2022.12.7)\n",
            "Requirement already satisfied: urllib3<1.27,>=1.21.1 in /usr/local/lib/python3.10/dist-packages (from requests<3,>=2.21.0->tensorboard<2.10,>=2.9->tensorflow==2.9.0) (1.26.15)\n",
            "Requirement already satisfied: charset-normalizer~=2.0.0 in /usr/local/lib/python3.10/dist-packages (from requests<3,>=2.21.0->tensorboard<2.10,>=2.9->tensorflow==2.9.0) (2.0.12)\n",
            "Requirement already satisfied: MarkupSafe>=2.1.1 in /usr/local/lib/python3.10/dist-packages (from werkzeug>=1.0.1->tensorboard<2.10,>=2.9->tensorflow==2.9.0) (2.1.2)\n",
            "Requirement already satisfied: pyasn1<0.6.0,>=0.4.6 in /usr/local/lib/python3.10/dist-packages (from pyasn1-modules>=0.2.1->google-auth<3,>=1.6.3->tensorboard<2.10,>=2.9->tensorflow==2.9.0) (0.5.0)\n",
            "Requirement already satisfied: oauthlib>=3.0.0 in /usr/local/lib/python3.10/dist-packages (from requests-oauthlib>=0.7.0->google-auth-oauthlib<0.5,>=0.4.1->tensorboard<2.10,>=2.9->tensorflow==2.9.0) (3.2.2)\n",
            "Installing collected packages: keras, flatbuffers, tensorflow-estimator, tensorboard-data-server, protobuf, keras-preprocessing, google-auth-oauthlib, tensorboard, tensorflow\n",
            "  Attempting uninstall: keras\n",
            "    Found existing installation: keras 2.12.0\n",
            "    Uninstalling keras-2.12.0:\n",
            "      Successfully uninstalled keras-2.12.0\n",
            "  Attempting uninstall: flatbuffers\n",
            "    Found existing installation: flatbuffers 23.3.3\n",
            "    Uninstalling flatbuffers-23.3.3:\n",
            "      Successfully uninstalled flatbuffers-23.3.3\n",
            "  Attempting uninstall: tensorflow-estimator\n",
            "    Found existing installation: tensorflow-estimator 2.12.0\n",
            "    Uninstalling tensorflow-estimator-2.12.0:\n",
            "      Successfully uninstalled tensorflow-estimator-2.12.0\n",
            "  Attempting uninstall: tensorboard-data-server\n",
            "    Found existing installation: tensorboard-data-server 0.7.0\n",
            "    Uninstalling tensorboard-data-server-0.7.0:\n",
            "      Successfully uninstalled tensorboard-data-server-0.7.0\n",
            "  Attempting uninstall: protobuf\n",
            "    Found existing installation: protobuf 3.20.3\n",
            "    Uninstalling protobuf-3.20.3:\n",
            "      Successfully uninstalled protobuf-3.20.3\n",
            "  Attempting uninstall: google-auth-oauthlib\n",
            "    Found existing installation: google-auth-oauthlib 1.0.0\n",
            "    Uninstalling google-auth-oauthlib-1.0.0:\n",
            "      Successfully uninstalled google-auth-oauthlib-1.0.0\n",
            "  Attempting uninstall: tensorboard\n",
            "    Found existing installation: tensorboard 2.12.2\n",
            "    Uninstalling tensorboard-2.12.2:\n",
            "      Successfully uninstalled tensorboard-2.12.2\n",
            "  Attempting uninstall: tensorflow\n",
            "    Found existing installation: tensorflow 2.12.0\n",
            "    Uninstalling tensorflow-2.12.0:\n",
            "      Successfully uninstalled tensorflow-2.12.0\n",
            "\u001b[31mERROR: pip's dependency resolver does not currently take into account all the packages that are installed. This behaviour is the source of the following dependency conflicts.\n",
            "tensorflow-metadata 1.13.1 requires protobuf<5,>=3.20.3, but you have protobuf 3.19.6 which is incompatible.\n",
            "tensorflow-datasets 4.9.2 requires protobuf>=3.20, but you have protobuf 3.19.6 which is incompatible.\u001b[0m\u001b[31m\n",
            "\u001b[0mSuccessfully installed flatbuffers-1.12 google-auth-oauthlib-0.4.6 keras-2.9.0 keras-preprocessing-1.1.2 protobuf-3.19.6 tensorboard-2.9.1 tensorboard-data-server-0.6.1 tensorflow-2.9.0 tensorflow-estimator-2.9.0\n"
          ]
        }
      ],
      "source": [
        "pip install tensorflow==2.9.0"
      ],
      "id": "131abbe7"
    },
    {
      "cell_type": "code",
      "execution_count": 2,
      "metadata": {
        "colab": {
          "base_uri": "https://localhost:8080/"
        },
        "id": "wNcxVo71U3Qq",
        "outputId": "00af859c-8048-4970-852d-65c9cfb42ed9"
      },
      "outputs": [
        {
          "output_type": "stream",
          "name": "stdout",
          "text": [
            "2.9.0\n"
          ]
        }
      ],
      "source": [
        "import tensorflow as tf\n",
        "print(tf.__version__)"
      ],
      "id": "wNcxVo71U3Qq"
    },
    {
      "cell_type": "code",
      "execution_count": 3,
      "metadata": {
        "colab": {
          "base_uri": "https://localhost:8080/"
        },
        "id": "2755679a",
        "outputId": "13eb3e63-b0a4-47f9-d33f-58a43d0b7d50"
      },
      "outputs": [
        {
          "output_type": "stream",
          "name": "stdout",
          "text": [
            "Looking in indexes: https://pypi.org/simple, https://us-python.pkg.dev/colab-wheels/public/simple/\n",
            "Requirement already satisfied: opencv-python in /usr/local/lib/python3.10/dist-packages (4.7.0.72)\n",
            "Requirement already satisfied: numpy>=1.19.3 in /usr/local/lib/python3.10/dist-packages (from opencv-python) (1.22.4)\n"
          ]
        }
      ],
      "source": [
        "pip install opencv-python\n"
      ],
      "id": "2755679a"
    },
    {
      "cell_type": "code",
      "execution_count": 4,
      "metadata": {
        "id": "aaf033c2"
      },
      "outputs": [],
      "source": [
        "import tensorflow\n",
        "from tensorflow import keras\n",
        "import os\n",
        "import random\n",
        "import cv2\n",
        "from os import listdir\n",
        "import pandas as pd\n",
        "from sklearn.model_selection import train_test_split\n",
        "import tensorflow as tf\n",
        "from tensorflow.keras.applications import EfficientNetB0\n",
        "from tensorflow.keras.models import Sequential\n",
        "from tensorflow.keras import layers\n",
        "import matplotlib.pyplot as plt\n",
        "from keras.preprocessing.image import ImageDataGenerator\n",
        "from keras.applications.vgg16 import VGG16, preprocess_input\n",
        "from keras.layers import Dense, Dropout, Flatten\n",
        "from keras.models import Model\n",
        "from keras.optimizers import Adam\n",
        "from keras.callbacks import ModelCheckpoint\n",
        "from keras.callbacks import EarlyStopping\n",
        "from keras.layers import BatchNormalization\n",
        "import numpy as np\n",
        "from sklearn.metrics import classification_report\n",
        "from tensorflow.keras.applications import ResNet50\n",
        "from sklearn.metrics import confusion_matrix\n",
        "import matplotlib.pyplot as plt\n",
        "import seaborn as sns\n",
        "import numpy as np\n",
        "from math import floor\n",
        "from math import floor\n",
        "from sklearn.metrics import accuracy_score\n",
        "from sklearn.metrics import precision_score\n",
        "from sklearn.metrics import recall_score\n",
        "from sklearn.metrics import f1_score"
      ],
      "id": "aaf033c2"
    },
    {
      "cell_type": "code",
      "execution_count": 5,
      "metadata": {
        "id": "721a9dbf"
      },
      "outputs": [],
      "source": [
        "# path = \"/content/drive/MyDrive/Colab Notebooks/Data/Sport Images\"\n",
        "# # class_names = os.listdir(path)\n",
        "# class_names = [name for name in os.listdir(path) if name != 'Image URLs']\n",
        "# class_names"
      ],
      "id": "721a9dbf"
    },
    {
      "cell_type": "markdown",
      "metadata": {
        "id": "lgj9Hb_2rF5f"
      },
      "source": [],
      "id": "lgj9Hb_2rF5f"
    },
    {
      "cell_type": "code",
      "execution_count": 5,
      "metadata": {
        "colab": {
          "base_uri": "https://localhost:8080/"
        },
        "id": "1ftkqngDplQ9",
        "outputId": "29337d71-2a75-4b96-a842-ab7e7e2bc5fb"
      },
      "outputs": [
        {
          "output_type": "stream",
          "name": "stdout",
          "text": [
            "Mounted at /content/drive\n"
          ]
        },
        {
          "output_type": "execute_result",
          "data": {
            "text/plain": [
              "['baseball', 'tennis', 'basketball', 'fencing', 'volleyball']"
            ]
          },
          "metadata": {},
          "execution_count": 5
        }
      ],
      "source": [
        "from google.colab import drive\n",
        "drive.mount('/content/drive')\n",
        "path = \"/content/drive/MyDrive/Colab Notebooks/Data/Sport Images\"\n",
        "# class_names = os.listdir(path)\n",
        "class_names = [name for name in os.listdir(path) if name != 'Image URLs']\n",
        "class_names"
      ],
      "id": "1ftkqngDplQ9"
    },
    {
      "cell_type": "markdown",
      "metadata": {
        "id": "6PktNiYJraX8"
      },
      "source": [
        "# New Section"
      ],
      "id": "6PktNiYJraX8"
    },
    {
      "cell_type": "code",
      "execution_count": 6,
      "metadata": {
        "id": "67c7dde3"
      },
      "outputs": [],
      "source": [
        "import warnings\n",
        "warnings.filterwarnings(\"ignore\")"
      ],
      "id": "67c7dde3"
    },
    {
      "cell_type": "code",
      "execution_count": 7,
      "metadata": {
        "id": "725e354e"
      },
      "outputs": [],
      "source": [
        "import pandas as pd\n",
        "\n",
        "# Set the fixed image size\n",
        "img_size = (224, 224)\n",
        "\n",
        "# Initialize an empty DataFrame to hold the images and labels for each set\n",
        "data_df = pd.DataFrame(columns=['filepath', 'dataset', 'label'])\n",
        "\n",
        "for i, class_name in enumerate(class_names):\n",
        "    # Set the path to the class folder\n",
        "    class_path = os.path.join(path, class_name)\n",
        "    \n",
        "    # Get the list of image filenames in the class folder\n",
        "    image_filenames = os.listdir(class_path)\n",
        "    \n",
        "    # Randomly shuffle the image filenames\n",
        "    random.shuffle(image_filenames)\n",
        "    \n",
        "    # Calculate the number of images for each set\n",
        "    num_images = len(image_filenames)\n",
        "    num_train_images = int(np.ceil(0.7 * num_images))\n",
        "    num_val_images = int(np.ceil(0.15 * num_images))\n",
        "    num_test_images = num_images - num_train_images - num_val_images\n",
        "    \n",
        "    # Loop through the image filenames and resize or zero-pad the images\n",
        "    for j, image_filename in enumerate(image_filenames):\n",
        "        # Set the path to the image file\n",
        "        image_path = os.path.join(class_path, image_filename)\n",
        "        \n",
        "      \n",
        "        if j < num_train_images:\n",
        "            dataset = 'train'\n",
        "        elif j < num_train_images + num_val_images:\n",
        "            dataset = 'val'\n",
        "        else:\n",
        "            dataset = 'test'\n",
        "        \n",
        "        # Append a new row to the DataFrame with the image filepath, dataset, and label\n",
        "        data_df = pd.concat([data_df, pd.DataFrame({'filepath': [image_path], 'dataset': [dataset], 'label': [i],'class_name' : class_name})], ignore_index = True)\n",
        "\n"
      ],
      "id": "725e354e"
    },
    {
      "cell_type": "code",
      "execution_count": 8,
      "metadata": {
        "colab": {
          "base_uri": "https://localhost:8080/",
          "height": 424
        },
        "id": "a36b7627",
        "outputId": "f81dc90a-9eb9-4e0d-811e-2d9b2badd879"
      },
      "outputs": [
        {
          "output_type": "execute_result",
          "data": {
            "text/plain": [
              "                                               filepath dataset label  \\\n",
              "0     /content/drive/MyDrive/Colab Notebooks/Data/Sp...   train     0   \n",
              "1     /content/drive/MyDrive/Colab Notebooks/Data/Sp...   train     0   \n",
              "2     /content/drive/MyDrive/Colab Notebooks/Data/Sp...   train     0   \n",
              "3     /content/drive/MyDrive/Colab Notebooks/Data/Sp...   train     0   \n",
              "4     /content/drive/MyDrive/Colab Notebooks/Data/Sp...   train     0   \n",
              "...                                                 ...     ...   ...   \n",
              "3460  /content/drive/MyDrive/Colab Notebooks/Data/Sp...    test     4   \n",
              "3461  /content/drive/MyDrive/Colab Notebooks/Data/Sp...    test     4   \n",
              "3462  /content/drive/MyDrive/Colab Notebooks/Data/Sp...    test     4   \n",
              "3463  /content/drive/MyDrive/Colab Notebooks/Data/Sp...    test     4   \n",
              "3464  /content/drive/MyDrive/Colab Notebooks/Data/Sp...    test     4   \n",
              "\n",
              "      class_name  \n",
              "0       baseball  \n",
              "1       baseball  \n",
              "2       baseball  \n",
              "3       baseball  \n",
              "4       baseball  \n",
              "...          ...  \n",
              "3460  volleyball  \n",
              "3461  volleyball  \n",
              "3462  volleyball  \n",
              "3463  volleyball  \n",
              "3464  volleyball  \n",
              "\n",
              "[3465 rows x 4 columns]"
            ],
            "text/html": [
              "\n",
              "  <div id=\"df-e22a5b3c-cd13-4e9e-92bf-32a2d978a8f1\">\n",
              "    <div class=\"colab-df-container\">\n",
              "      <div>\n",
              "<style scoped>\n",
              "    .dataframe tbody tr th:only-of-type {\n",
              "        vertical-align: middle;\n",
              "    }\n",
              "\n",
              "    .dataframe tbody tr th {\n",
              "        vertical-align: top;\n",
              "    }\n",
              "\n",
              "    .dataframe thead th {\n",
              "        text-align: right;\n",
              "    }\n",
              "</style>\n",
              "<table border=\"1\" class=\"dataframe\">\n",
              "  <thead>\n",
              "    <tr style=\"text-align: right;\">\n",
              "      <th></th>\n",
              "      <th>filepath</th>\n",
              "      <th>dataset</th>\n",
              "      <th>label</th>\n",
              "      <th>class_name</th>\n",
              "    </tr>\n",
              "  </thead>\n",
              "  <tbody>\n",
              "    <tr>\n",
              "      <th>0</th>\n",
              "      <td>/content/drive/MyDrive/Colab Notebooks/Data/Sp...</td>\n",
              "      <td>train</td>\n",
              "      <td>0</td>\n",
              "      <td>baseball</td>\n",
              "    </tr>\n",
              "    <tr>\n",
              "      <th>1</th>\n",
              "      <td>/content/drive/MyDrive/Colab Notebooks/Data/Sp...</td>\n",
              "      <td>train</td>\n",
              "      <td>0</td>\n",
              "      <td>baseball</td>\n",
              "    </tr>\n",
              "    <tr>\n",
              "      <th>2</th>\n",
              "      <td>/content/drive/MyDrive/Colab Notebooks/Data/Sp...</td>\n",
              "      <td>train</td>\n",
              "      <td>0</td>\n",
              "      <td>baseball</td>\n",
              "    </tr>\n",
              "    <tr>\n",
              "      <th>3</th>\n",
              "      <td>/content/drive/MyDrive/Colab Notebooks/Data/Sp...</td>\n",
              "      <td>train</td>\n",
              "      <td>0</td>\n",
              "      <td>baseball</td>\n",
              "    </tr>\n",
              "    <tr>\n",
              "      <th>4</th>\n",
              "      <td>/content/drive/MyDrive/Colab Notebooks/Data/Sp...</td>\n",
              "      <td>train</td>\n",
              "      <td>0</td>\n",
              "      <td>baseball</td>\n",
              "    </tr>\n",
              "    <tr>\n",
              "      <th>...</th>\n",
              "      <td>...</td>\n",
              "      <td>...</td>\n",
              "      <td>...</td>\n",
              "      <td>...</td>\n",
              "    </tr>\n",
              "    <tr>\n",
              "      <th>3460</th>\n",
              "      <td>/content/drive/MyDrive/Colab Notebooks/Data/Sp...</td>\n",
              "      <td>test</td>\n",
              "      <td>4</td>\n",
              "      <td>volleyball</td>\n",
              "    </tr>\n",
              "    <tr>\n",
              "      <th>3461</th>\n",
              "      <td>/content/drive/MyDrive/Colab Notebooks/Data/Sp...</td>\n",
              "      <td>test</td>\n",
              "      <td>4</td>\n",
              "      <td>volleyball</td>\n",
              "    </tr>\n",
              "    <tr>\n",
              "      <th>3462</th>\n",
              "      <td>/content/drive/MyDrive/Colab Notebooks/Data/Sp...</td>\n",
              "      <td>test</td>\n",
              "      <td>4</td>\n",
              "      <td>volleyball</td>\n",
              "    </tr>\n",
              "    <tr>\n",
              "      <th>3463</th>\n",
              "      <td>/content/drive/MyDrive/Colab Notebooks/Data/Sp...</td>\n",
              "      <td>test</td>\n",
              "      <td>4</td>\n",
              "      <td>volleyball</td>\n",
              "    </tr>\n",
              "    <tr>\n",
              "      <th>3464</th>\n",
              "      <td>/content/drive/MyDrive/Colab Notebooks/Data/Sp...</td>\n",
              "      <td>test</td>\n",
              "      <td>4</td>\n",
              "      <td>volleyball</td>\n",
              "    </tr>\n",
              "  </tbody>\n",
              "</table>\n",
              "<p>3465 rows × 4 columns</p>\n",
              "</div>\n",
              "      <button class=\"colab-df-convert\" onclick=\"convertToInteractive('df-e22a5b3c-cd13-4e9e-92bf-32a2d978a8f1')\"\n",
              "              title=\"Convert this dataframe to an interactive table.\"\n",
              "              style=\"display:none;\">\n",
              "        \n",
              "  <svg xmlns=\"http://www.w3.org/2000/svg\" height=\"24px\"viewBox=\"0 0 24 24\"\n",
              "       width=\"24px\">\n",
              "    <path d=\"M0 0h24v24H0V0z\" fill=\"none\"/>\n",
              "    <path d=\"M18.56 5.44l.94 2.06.94-2.06 2.06-.94-2.06-.94-.94-2.06-.94 2.06-2.06.94zm-11 1L8.5 8.5l.94-2.06 2.06-.94-2.06-.94L8.5 2.5l-.94 2.06-2.06.94zm10 10l.94 2.06.94-2.06 2.06-.94-2.06-.94-.94-2.06-.94 2.06-2.06.94z\"/><path d=\"M17.41 7.96l-1.37-1.37c-.4-.4-.92-.59-1.43-.59-.52 0-1.04.2-1.43.59L10.3 9.45l-7.72 7.72c-.78.78-.78 2.05 0 2.83L4 21.41c.39.39.9.59 1.41.59.51 0 1.02-.2 1.41-.59l7.78-7.78 2.81-2.81c.8-.78.8-2.07 0-2.86zM5.41 20L4 18.59l7.72-7.72 1.47 1.35L5.41 20z\"/>\n",
              "  </svg>\n",
              "      </button>\n",
              "      \n",
              "  <style>\n",
              "    .colab-df-container {\n",
              "      display:flex;\n",
              "      flex-wrap:wrap;\n",
              "      gap: 12px;\n",
              "    }\n",
              "\n",
              "    .colab-df-convert {\n",
              "      background-color: #E8F0FE;\n",
              "      border: none;\n",
              "      border-radius: 50%;\n",
              "      cursor: pointer;\n",
              "      display: none;\n",
              "      fill: #1967D2;\n",
              "      height: 32px;\n",
              "      padding: 0 0 0 0;\n",
              "      width: 32px;\n",
              "    }\n",
              "\n",
              "    .colab-df-convert:hover {\n",
              "      background-color: #E2EBFA;\n",
              "      box-shadow: 0px 1px 2px rgba(60, 64, 67, 0.3), 0px 1px 3px 1px rgba(60, 64, 67, 0.15);\n",
              "      fill: #174EA6;\n",
              "    }\n",
              "\n",
              "    [theme=dark] .colab-df-convert {\n",
              "      background-color: #3B4455;\n",
              "      fill: #D2E3FC;\n",
              "    }\n",
              "\n",
              "    [theme=dark] .colab-df-convert:hover {\n",
              "      background-color: #434B5C;\n",
              "      box-shadow: 0px 1px 3px 1px rgba(0, 0, 0, 0.15);\n",
              "      filter: drop-shadow(0px 1px 2px rgba(0, 0, 0, 0.3));\n",
              "      fill: #FFFFFF;\n",
              "    }\n",
              "  </style>\n",
              "\n",
              "      <script>\n",
              "        const buttonEl =\n",
              "          document.querySelector('#df-e22a5b3c-cd13-4e9e-92bf-32a2d978a8f1 button.colab-df-convert');\n",
              "        buttonEl.style.display =\n",
              "          google.colab.kernel.accessAllowed ? 'block' : 'none';\n",
              "\n",
              "        async function convertToInteractive(key) {\n",
              "          const element = document.querySelector('#df-e22a5b3c-cd13-4e9e-92bf-32a2d978a8f1');\n",
              "          const dataTable =\n",
              "            await google.colab.kernel.invokeFunction('convertToInteractive',\n",
              "                                                     [key], {});\n",
              "          if (!dataTable) return;\n",
              "\n",
              "          const docLinkHtml = 'Like what you see? Visit the ' +\n",
              "            '<a target=\"_blank\" href=https://colab.research.google.com/notebooks/data_table.ipynb>data table notebook</a>'\n",
              "            + ' to learn more about interactive tables.';\n",
              "          element.innerHTML = '';\n",
              "          dataTable['output_type'] = 'display_data';\n",
              "          await google.colab.output.renderOutput(dataTable, element);\n",
              "          const docLink = document.createElement('div');\n",
              "          docLink.innerHTML = docLinkHtml;\n",
              "          element.appendChild(docLink);\n",
              "        }\n",
              "      </script>\n",
              "    </div>\n",
              "  </div>\n",
              "  "
            ]
          },
          "metadata": {},
          "execution_count": 8
        }
      ],
      "source": [
        "data_df"
      ],
      "id": "a36b7627"
    },
    {
      "cell_type": "code",
      "execution_count": 9,
      "metadata": {
        "id": "ae8d4ff4"
      },
      "outputs": [],
      "source": [
        "X = data_df[['filepath','dataset']]\n",
        "y = pd.get_dummies(data_df['label'])\n",
        "data_df_one_hot = pd.concat([data_df,pd.get_dummies(data_df['label'])],axis=1)\n",
        "cols = data_df_one_hot.columns[-1:-21:-1]\n",
        "\n"
      ],
      "id": "ae8d4ff4"
    },
    {
      "cell_type": "code",
      "source": [
        "  # Load the image using OpenCV\n",
        "#         image = cv2.imread(image_path)\n",
        "        \n",
        "#         # Check if the image was successfully loaded\n",
        "#         if image is None:\n",
        "#             continue\n",
        "        \n",
        "        # Resize or zero-pad the image to the fixed size\n",
        "#         if image.shape[:2] != img_size:\n",
        "#             h, w = image.shape[:2]\n",
        "#             if h > w:\n",
        "#                 scale_factor = img_size[0] / h\n",
        "#                 new_h = img_size[0]\n",
        "#                 new_w = int(w * scale_factor)\n",
        "#             else:\n",
        "#                 scale_factor = img_size[1] / w\n",
        "#                 new_h = int(h * scale_factor)\n",
        "#                 new_w = img_size[1]\n",
        "#             image = cv2.resize(image, (new_w, new_h))\n",
        "#             top = (img_size[0] - new_h) // 2\n",
        "#             bottom = img_size[0] - new_h - top\n",
        "#             left = (img_size[1] - new_w) // 2\n",
        "#             right = img_size[1] - new_w - left\n",
        "#             image = cv2.copyMakeBorder(image, top, bottom, left, right, cv2.BORDER_CONSTANT, value=[0, 0, 0])\n",
        "        \n",
        "        # Determine the dataset for the image"
      ],
      "metadata": {
        "id": "TCoYw6zOlcR2"
      },
      "id": "TCoYw6zOlcR2",
      "execution_count": null,
      "outputs": []
    },
    {
      "cell_type": "code",
      "execution_count": 10,
      "metadata": {
        "id": "f887f7b7"
      },
      "outputs": [],
      "source": [
        "# trainingDataFrame = data_df_one_hot.loc[data_df_one_hot['dataset']=='train']\n",
        "# valDataFrame = data_df_one_hot.loc[data_df_one_hot['dataset']=='val']\n",
        "# testDataFrame = data_df_one_hot.loc[data_df_one_hot['dataset']=='test']\n",
        "\n",
        "\n",
        "trainingDataFrame = data_df_one_hot.query('dataset == \"train\"')\n",
        "valDataFrame = data_df_one_hot.query('dataset == \"val\"')\n",
        "testDataFrame = data_df_one_hot.query('dataset == \"test\"')"
      ],
      "id": "f887f7b7"
    },
    {
      "cell_type": "code",
      "source": [
        "trainingDataFrame"
      ],
      "metadata": {
        "colab": {
          "base_uri": "https://localhost:8080/",
          "height": 424
        },
        "id": "jWT1Lxlberic",
        "outputId": "f7bde96d-123f-4e87-a7a9-b3a0548d0f43"
      },
      "id": "jWT1Lxlberic",
      "execution_count": 12,
      "outputs": [
        {
          "output_type": "execute_result",
          "data": {
            "text/plain": [
              "                                               filepath dataset label  \\\n",
              "0     /content/drive/MyDrive/Colab Notebooks/Data/Sp...   train     0   \n",
              "1     /content/drive/MyDrive/Colab Notebooks/Data/Sp...   train     0   \n",
              "2     /content/drive/MyDrive/Colab Notebooks/Data/Sp...   train     0   \n",
              "3     /content/drive/MyDrive/Colab Notebooks/Data/Sp...   train     0   \n",
              "4     /content/drive/MyDrive/Colab Notebooks/Data/Sp...   train     0   \n",
              "...                                                 ...     ...   ...   \n",
              "3245  /content/drive/MyDrive/Colab Notebooks/Data/Sp...   train     4   \n",
              "3246  /content/drive/MyDrive/Colab Notebooks/Data/Sp...   train     4   \n",
              "3247  /content/drive/MyDrive/Colab Notebooks/Data/Sp...   train     4   \n",
              "3248  /content/drive/MyDrive/Colab Notebooks/Data/Sp...   train     4   \n",
              "3249  /content/drive/MyDrive/Colab Notebooks/Data/Sp...   train     4   \n",
              "\n",
              "      class_name  0  1  2  3  4  \n",
              "0       baseball  1  0  0  0  0  \n",
              "1       baseball  1  0  0  0  0  \n",
              "2       baseball  1  0  0  0  0  \n",
              "3       baseball  1  0  0  0  0  \n",
              "4       baseball  1  0  0  0  0  \n",
              "...          ... .. .. .. .. ..  \n",
              "3245  volleyball  0  0  0  0  1  \n",
              "3246  volleyball  0  0  0  0  1  \n",
              "3247  volleyball  0  0  0  0  1  \n",
              "3248  volleyball  0  0  0  0  1  \n",
              "3249  volleyball  0  0  0  0  1  \n",
              "\n",
              "[2428 rows x 9 columns]"
            ],
            "text/html": [
              "\n",
              "  <div id=\"df-27453bae-b7a7-475b-8243-34be417b962e\">\n",
              "    <div class=\"colab-df-container\">\n",
              "      <div>\n",
              "<style scoped>\n",
              "    .dataframe tbody tr th:only-of-type {\n",
              "        vertical-align: middle;\n",
              "    }\n",
              "\n",
              "    .dataframe tbody tr th {\n",
              "        vertical-align: top;\n",
              "    }\n",
              "\n",
              "    .dataframe thead th {\n",
              "        text-align: right;\n",
              "    }\n",
              "</style>\n",
              "<table border=\"1\" class=\"dataframe\">\n",
              "  <thead>\n",
              "    <tr style=\"text-align: right;\">\n",
              "      <th></th>\n",
              "      <th>filepath</th>\n",
              "      <th>dataset</th>\n",
              "      <th>label</th>\n",
              "      <th>class_name</th>\n",
              "      <th>0</th>\n",
              "      <th>1</th>\n",
              "      <th>2</th>\n",
              "      <th>3</th>\n",
              "      <th>4</th>\n",
              "    </tr>\n",
              "  </thead>\n",
              "  <tbody>\n",
              "    <tr>\n",
              "      <th>0</th>\n",
              "      <td>/content/drive/MyDrive/Colab Notebooks/Data/Sp...</td>\n",
              "      <td>train</td>\n",
              "      <td>0</td>\n",
              "      <td>baseball</td>\n",
              "      <td>1</td>\n",
              "      <td>0</td>\n",
              "      <td>0</td>\n",
              "      <td>0</td>\n",
              "      <td>0</td>\n",
              "    </tr>\n",
              "    <tr>\n",
              "      <th>1</th>\n",
              "      <td>/content/drive/MyDrive/Colab Notebooks/Data/Sp...</td>\n",
              "      <td>train</td>\n",
              "      <td>0</td>\n",
              "      <td>baseball</td>\n",
              "      <td>1</td>\n",
              "      <td>0</td>\n",
              "      <td>0</td>\n",
              "      <td>0</td>\n",
              "      <td>0</td>\n",
              "    </tr>\n",
              "    <tr>\n",
              "      <th>2</th>\n",
              "      <td>/content/drive/MyDrive/Colab Notebooks/Data/Sp...</td>\n",
              "      <td>train</td>\n",
              "      <td>0</td>\n",
              "      <td>baseball</td>\n",
              "      <td>1</td>\n",
              "      <td>0</td>\n",
              "      <td>0</td>\n",
              "      <td>0</td>\n",
              "      <td>0</td>\n",
              "    </tr>\n",
              "    <tr>\n",
              "      <th>3</th>\n",
              "      <td>/content/drive/MyDrive/Colab Notebooks/Data/Sp...</td>\n",
              "      <td>train</td>\n",
              "      <td>0</td>\n",
              "      <td>baseball</td>\n",
              "      <td>1</td>\n",
              "      <td>0</td>\n",
              "      <td>0</td>\n",
              "      <td>0</td>\n",
              "      <td>0</td>\n",
              "    </tr>\n",
              "    <tr>\n",
              "      <th>4</th>\n",
              "      <td>/content/drive/MyDrive/Colab Notebooks/Data/Sp...</td>\n",
              "      <td>train</td>\n",
              "      <td>0</td>\n",
              "      <td>baseball</td>\n",
              "      <td>1</td>\n",
              "      <td>0</td>\n",
              "      <td>0</td>\n",
              "      <td>0</td>\n",
              "      <td>0</td>\n",
              "    </tr>\n",
              "    <tr>\n",
              "      <th>...</th>\n",
              "      <td>...</td>\n",
              "      <td>...</td>\n",
              "      <td>...</td>\n",
              "      <td>...</td>\n",
              "      <td>...</td>\n",
              "      <td>...</td>\n",
              "      <td>...</td>\n",
              "      <td>...</td>\n",
              "      <td>...</td>\n",
              "    </tr>\n",
              "    <tr>\n",
              "      <th>3245</th>\n",
              "      <td>/content/drive/MyDrive/Colab Notebooks/Data/Sp...</td>\n",
              "      <td>train</td>\n",
              "      <td>4</td>\n",
              "      <td>volleyball</td>\n",
              "      <td>0</td>\n",
              "      <td>0</td>\n",
              "      <td>0</td>\n",
              "      <td>0</td>\n",
              "      <td>1</td>\n",
              "    </tr>\n",
              "    <tr>\n",
              "      <th>3246</th>\n",
              "      <td>/content/drive/MyDrive/Colab Notebooks/Data/Sp...</td>\n",
              "      <td>train</td>\n",
              "      <td>4</td>\n",
              "      <td>volleyball</td>\n",
              "      <td>0</td>\n",
              "      <td>0</td>\n",
              "      <td>0</td>\n",
              "      <td>0</td>\n",
              "      <td>1</td>\n",
              "    </tr>\n",
              "    <tr>\n",
              "      <th>3247</th>\n",
              "      <td>/content/drive/MyDrive/Colab Notebooks/Data/Sp...</td>\n",
              "      <td>train</td>\n",
              "      <td>4</td>\n",
              "      <td>volleyball</td>\n",
              "      <td>0</td>\n",
              "      <td>0</td>\n",
              "      <td>0</td>\n",
              "      <td>0</td>\n",
              "      <td>1</td>\n",
              "    </tr>\n",
              "    <tr>\n",
              "      <th>3248</th>\n",
              "      <td>/content/drive/MyDrive/Colab Notebooks/Data/Sp...</td>\n",
              "      <td>train</td>\n",
              "      <td>4</td>\n",
              "      <td>volleyball</td>\n",
              "      <td>0</td>\n",
              "      <td>0</td>\n",
              "      <td>0</td>\n",
              "      <td>0</td>\n",
              "      <td>1</td>\n",
              "    </tr>\n",
              "    <tr>\n",
              "      <th>3249</th>\n",
              "      <td>/content/drive/MyDrive/Colab Notebooks/Data/Sp...</td>\n",
              "      <td>train</td>\n",
              "      <td>4</td>\n",
              "      <td>volleyball</td>\n",
              "      <td>0</td>\n",
              "      <td>0</td>\n",
              "      <td>0</td>\n",
              "      <td>0</td>\n",
              "      <td>1</td>\n",
              "    </tr>\n",
              "  </tbody>\n",
              "</table>\n",
              "<p>2428 rows × 9 columns</p>\n",
              "</div>\n",
              "      <button class=\"colab-df-convert\" onclick=\"convertToInteractive('df-27453bae-b7a7-475b-8243-34be417b962e')\"\n",
              "              title=\"Convert this dataframe to an interactive table.\"\n",
              "              style=\"display:none;\">\n",
              "        \n",
              "  <svg xmlns=\"http://www.w3.org/2000/svg\" height=\"24px\"viewBox=\"0 0 24 24\"\n",
              "       width=\"24px\">\n",
              "    <path d=\"M0 0h24v24H0V0z\" fill=\"none\"/>\n",
              "    <path d=\"M18.56 5.44l.94 2.06.94-2.06 2.06-.94-2.06-.94-.94-2.06-.94 2.06-2.06.94zm-11 1L8.5 8.5l.94-2.06 2.06-.94-2.06-.94L8.5 2.5l-.94 2.06-2.06.94zm10 10l.94 2.06.94-2.06 2.06-.94-2.06-.94-.94-2.06-.94 2.06-2.06.94z\"/><path d=\"M17.41 7.96l-1.37-1.37c-.4-.4-.92-.59-1.43-.59-.52 0-1.04.2-1.43.59L10.3 9.45l-7.72 7.72c-.78.78-.78 2.05 0 2.83L4 21.41c.39.39.9.59 1.41.59.51 0 1.02-.2 1.41-.59l7.78-7.78 2.81-2.81c.8-.78.8-2.07 0-2.86zM5.41 20L4 18.59l7.72-7.72 1.47 1.35L5.41 20z\"/>\n",
              "  </svg>\n",
              "      </button>\n",
              "      \n",
              "  <style>\n",
              "    .colab-df-container {\n",
              "      display:flex;\n",
              "      flex-wrap:wrap;\n",
              "      gap: 12px;\n",
              "    }\n",
              "\n",
              "    .colab-df-convert {\n",
              "      background-color: #E8F0FE;\n",
              "      border: none;\n",
              "      border-radius: 50%;\n",
              "      cursor: pointer;\n",
              "      display: none;\n",
              "      fill: #1967D2;\n",
              "      height: 32px;\n",
              "      padding: 0 0 0 0;\n",
              "      width: 32px;\n",
              "    }\n",
              "\n",
              "    .colab-df-convert:hover {\n",
              "      background-color: #E2EBFA;\n",
              "      box-shadow: 0px 1px 2px rgba(60, 64, 67, 0.3), 0px 1px 3px 1px rgba(60, 64, 67, 0.15);\n",
              "      fill: #174EA6;\n",
              "    }\n",
              "\n",
              "    [theme=dark] .colab-df-convert {\n",
              "      background-color: #3B4455;\n",
              "      fill: #D2E3FC;\n",
              "    }\n",
              "\n",
              "    [theme=dark] .colab-df-convert:hover {\n",
              "      background-color: #434B5C;\n",
              "      box-shadow: 0px 1px 3px 1px rgba(0, 0, 0, 0.15);\n",
              "      filter: drop-shadow(0px 1px 2px rgba(0, 0, 0, 0.3));\n",
              "      fill: #FFFFFF;\n",
              "    }\n",
              "  </style>\n",
              "\n",
              "      <script>\n",
              "        const buttonEl =\n",
              "          document.querySelector('#df-27453bae-b7a7-475b-8243-34be417b962e button.colab-df-convert');\n",
              "        buttonEl.style.display =\n",
              "          google.colab.kernel.accessAllowed ? 'block' : 'none';\n",
              "\n",
              "        async function convertToInteractive(key) {\n",
              "          const element = document.querySelector('#df-27453bae-b7a7-475b-8243-34be417b962e');\n",
              "          const dataTable =\n",
              "            await google.colab.kernel.invokeFunction('convertToInteractive',\n",
              "                                                     [key], {});\n",
              "          if (!dataTable) return;\n",
              "\n",
              "          const docLinkHtml = 'Like what you see? Visit the ' +\n",
              "            '<a target=\"_blank\" href=https://colab.research.google.com/notebooks/data_table.ipynb>data table notebook</a>'\n",
              "            + ' to learn more about interactive tables.';\n",
              "          element.innerHTML = '';\n",
              "          dataTable['output_type'] = 'display_data';\n",
              "          await google.colab.output.renderOutput(dataTable, element);\n",
              "          const docLink = document.createElement('div');\n",
              "          docLink.innerHTML = docLinkHtml;\n",
              "          element.appendChild(docLink);\n",
              "        }\n",
              "      </script>\n",
              "    </div>\n",
              "  </div>\n",
              "  "
            ]
          },
          "metadata": {},
          "execution_count": 12
        }
      ]
    },
    {
      "cell_type": "code",
      "source": [
        "valDataFrame"
      ],
      "metadata": {
        "colab": {
          "base_uri": "https://localhost:8080/",
          "height": 424
        },
        "id": "N5I3abZlerrI",
        "outputId": "0e48df5c-55fe-4f19-e6d0-72f6b5e1ca58"
      },
      "id": "N5I3abZlerrI",
      "execution_count": 13,
      "outputs": [
        {
          "output_type": "execute_result",
          "data": {
            "text/plain": [
              "                                               filepath dataset label  \\\n",
              "530   /content/drive/MyDrive/Colab Notebooks/Data/Sp...     val     0   \n",
              "531   /content/drive/MyDrive/Colab Notebooks/Data/Sp...     val     0   \n",
              "532   /content/drive/MyDrive/Colab Notebooks/Data/Sp...     val     0   \n",
              "533   /content/drive/MyDrive/Colab Notebooks/Data/Sp...     val     0   \n",
              "534   /content/drive/MyDrive/Colab Notebooks/Data/Sp...     val     0   \n",
              "...                                                 ...     ...   ...   \n",
              "3353  /content/drive/MyDrive/Colab Notebooks/Data/Sp...     val     4   \n",
              "3354  /content/drive/MyDrive/Colab Notebooks/Data/Sp...     val     4   \n",
              "3355  /content/drive/MyDrive/Colab Notebooks/Data/Sp...     val     4   \n",
              "3356  /content/drive/MyDrive/Colab Notebooks/Data/Sp...     val     4   \n",
              "3357  /content/drive/MyDrive/Colab Notebooks/Data/Sp...     val     4   \n",
              "\n",
              "      class_name  0  1  2  3  4  \n",
              "530     baseball  1  0  0  0  0  \n",
              "531     baseball  1  0  0  0  0  \n",
              "532     baseball  1  0  0  0  0  \n",
              "533     baseball  1  0  0  0  0  \n",
              "534     baseball  1  0  0  0  0  \n",
              "...          ... .. .. .. .. ..  \n",
              "3353  volleyball  0  0  0  0  1  \n",
              "3354  volleyball  0  0  0  0  1  \n",
              "3355  volleyball  0  0  0  0  1  \n",
              "3356  volleyball  0  0  0  0  1  \n",
              "3357  volleyball  0  0  0  0  1  \n",
              "\n",
              "[523 rows x 9 columns]"
            ],
            "text/html": [
              "\n",
              "  <div id=\"df-5291da74-7252-44d0-a8ce-630e8c055581\">\n",
              "    <div class=\"colab-df-container\">\n",
              "      <div>\n",
              "<style scoped>\n",
              "    .dataframe tbody tr th:only-of-type {\n",
              "        vertical-align: middle;\n",
              "    }\n",
              "\n",
              "    .dataframe tbody tr th {\n",
              "        vertical-align: top;\n",
              "    }\n",
              "\n",
              "    .dataframe thead th {\n",
              "        text-align: right;\n",
              "    }\n",
              "</style>\n",
              "<table border=\"1\" class=\"dataframe\">\n",
              "  <thead>\n",
              "    <tr style=\"text-align: right;\">\n",
              "      <th></th>\n",
              "      <th>filepath</th>\n",
              "      <th>dataset</th>\n",
              "      <th>label</th>\n",
              "      <th>class_name</th>\n",
              "      <th>0</th>\n",
              "      <th>1</th>\n",
              "      <th>2</th>\n",
              "      <th>3</th>\n",
              "      <th>4</th>\n",
              "    </tr>\n",
              "  </thead>\n",
              "  <tbody>\n",
              "    <tr>\n",
              "      <th>530</th>\n",
              "      <td>/content/drive/MyDrive/Colab Notebooks/Data/Sp...</td>\n",
              "      <td>val</td>\n",
              "      <td>0</td>\n",
              "      <td>baseball</td>\n",
              "      <td>1</td>\n",
              "      <td>0</td>\n",
              "      <td>0</td>\n",
              "      <td>0</td>\n",
              "      <td>0</td>\n",
              "    </tr>\n",
              "    <tr>\n",
              "      <th>531</th>\n",
              "      <td>/content/drive/MyDrive/Colab Notebooks/Data/Sp...</td>\n",
              "      <td>val</td>\n",
              "      <td>0</td>\n",
              "      <td>baseball</td>\n",
              "      <td>1</td>\n",
              "      <td>0</td>\n",
              "      <td>0</td>\n",
              "      <td>0</td>\n",
              "      <td>0</td>\n",
              "    </tr>\n",
              "    <tr>\n",
              "      <th>532</th>\n",
              "      <td>/content/drive/MyDrive/Colab Notebooks/Data/Sp...</td>\n",
              "      <td>val</td>\n",
              "      <td>0</td>\n",
              "      <td>baseball</td>\n",
              "      <td>1</td>\n",
              "      <td>0</td>\n",
              "      <td>0</td>\n",
              "      <td>0</td>\n",
              "      <td>0</td>\n",
              "    </tr>\n",
              "    <tr>\n",
              "      <th>533</th>\n",
              "      <td>/content/drive/MyDrive/Colab Notebooks/Data/Sp...</td>\n",
              "      <td>val</td>\n",
              "      <td>0</td>\n",
              "      <td>baseball</td>\n",
              "      <td>1</td>\n",
              "      <td>0</td>\n",
              "      <td>0</td>\n",
              "      <td>0</td>\n",
              "      <td>0</td>\n",
              "    </tr>\n",
              "    <tr>\n",
              "      <th>534</th>\n",
              "      <td>/content/drive/MyDrive/Colab Notebooks/Data/Sp...</td>\n",
              "      <td>val</td>\n",
              "      <td>0</td>\n",
              "      <td>baseball</td>\n",
              "      <td>1</td>\n",
              "      <td>0</td>\n",
              "      <td>0</td>\n",
              "      <td>0</td>\n",
              "      <td>0</td>\n",
              "    </tr>\n",
              "    <tr>\n",
              "      <th>...</th>\n",
              "      <td>...</td>\n",
              "      <td>...</td>\n",
              "      <td>...</td>\n",
              "      <td>...</td>\n",
              "      <td>...</td>\n",
              "      <td>...</td>\n",
              "      <td>...</td>\n",
              "      <td>...</td>\n",
              "      <td>...</td>\n",
              "    </tr>\n",
              "    <tr>\n",
              "      <th>3353</th>\n",
              "      <td>/content/drive/MyDrive/Colab Notebooks/Data/Sp...</td>\n",
              "      <td>val</td>\n",
              "      <td>4</td>\n",
              "      <td>volleyball</td>\n",
              "      <td>0</td>\n",
              "      <td>0</td>\n",
              "      <td>0</td>\n",
              "      <td>0</td>\n",
              "      <td>1</td>\n",
              "    </tr>\n",
              "    <tr>\n",
              "      <th>3354</th>\n",
              "      <td>/content/drive/MyDrive/Colab Notebooks/Data/Sp...</td>\n",
              "      <td>val</td>\n",
              "      <td>4</td>\n",
              "      <td>volleyball</td>\n",
              "      <td>0</td>\n",
              "      <td>0</td>\n",
              "      <td>0</td>\n",
              "      <td>0</td>\n",
              "      <td>1</td>\n",
              "    </tr>\n",
              "    <tr>\n",
              "      <th>3355</th>\n",
              "      <td>/content/drive/MyDrive/Colab Notebooks/Data/Sp...</td>\n",
              "      <td>val</td>\n",
              "      <td>4</td>\n",
              "      <td>volleyball</td>\n",
              "      <td>0</td>\n",
              "      <td>0</td>\n",
              "      <td>0</td>\n",
              "      <td>0</td>\n",
              "      <td>1</td>\n",
              "    </tr>\n",
              "    <tr>\n",
              "      <th>3356</th>\n",
              "      <td>/content/drive/MyDrive/Colab Notebooks/Data/Sp...</td>\n",
              "      <td>val</td>\n",
              "      <td>4</td>\n",
              "      <td>volleyball</td>\n",
              "      <td>0</td>\n",
              "      <td>0</td>\n",
              "      <td>0</td>\n",
              "      <td>0</td>\n",
              "      <td>1</td>\n",
              "    </tr>\n",
              "    <tr>\n",
              "      <th>3357</th>\n",
              "      <td>/content/drive/MyDrive/Colab Notebooks/Data/Sp...</td>\n",
              "      <td>val</td>\n",
              "      <td>4</td>\n",
              "      <td>volleyball</td>\n",
              "      <td>0</td>\n",
              "      <td>0</td>\n",
              "      <td>0</td>\n",
              "      <td>0</td>\n",
              "      <td>1</td>\n",
              "    </tr>\n",
              "  </tbody>\n",
              "</table>\n",
              "<p>523 rows × 9 columns</p>\n",
              "</div>\n",
              "      <button class=\"colab-df-convert\" onclick=\"convertToInteractive('df-5291da74-7252-44d0-a8ce-630e8c055581')\"\n",
              "              title=\"Convert this dataframe to an interactive table.\"\n",
              "              style=\"display:none;\">\n",
              "        \n",
              "  <svg xmlns=\"http://www.w3.org/2000/svg\" height=\"24px\"viewBox=\"0 0 24 24\"\n",
              "       width=\"24px\">\n",
              "    <path d=\"M0 0h24v24H0V0z\" fill=\"none\"/>\n",
              "    <path d=\"M18.56 5.44l.94 2.06.94-2.06 2.06-.94-2.06-.94-.94-2.06-.94 2.06-2.06.94zm-11 1L8.5 8.5l.94-2.06 2.06-.94-2.06-.94L8.5 2.5l-.94 2.06-2.06.94zm10 10l.94 2.06.94-2.06 2.06-.94-2.06-.94-.94-2.06-.94 2.06-2.06.94z\"/><path d=\"M17.41 7.96l-1.37-1.37c-.4-.4-.92-.59-1.43-.59-.52 0-1.04.2-1.43.59L10.3 9.45l-7.72 7.72c-.78.78-.78 2.05 0 2.83L4 21.41c.39.39.9.59 1.41.59.51 0 1.02-.2 1.41-.59l7.78-7.78 2.81-2.81c.8-.78.8-2.07 0-2.86zM5.41 20L4 18.59l7.72-7.72 1.47 1.35L5.41 20z\"/>\n",
              "  </svg>\n",
              "      </button>\n",
              "      \n",
              "  <style>\n",
              "    .colab-df-container {\n",
              "      display:flex;\n",
              "      flex-wrap:wrap;\n",
              "      gap: 12px;\n",
              "    }\n",
              "\n",
              "    .colab-df-convert {\n",
              "      background-color: #E8F0FE;\n",
              "      border: none;\n",
              "      border-radius: 50%;\n",
              "      cursor: pointer;\n",
              "      display: none;\n",
              "      fill: #1967D2;\n",
              "      height: 32px;\n",
              "      padding: 0 0 0 0;\n",
              "      width: 32px;\n",
              "    }\n",
              "\n",
              "    .colab-df-convert:hover {\n",
              "      background-color: #E2EBFA;\n",
              "      box-shadow: 0px 1px 2px rgba(60, 64, 67, 0.3), 0px 1px 3px 1px rgba(60, 64, 67, 0.15);\n",
              "      fill: #174EA6;\n",
              "    }\n",
              "\n",
              "    [theme=dark] .colab-df-convert {\n",
              "      background-color: #3B4455;\n",
              "      fill: #D2E3FC;\n",
              "    }\n",
              "\n",
              "    [theme=dark] .colab-df-convert:hover {\n",
              "      background-color: #434B5C;\n",
              "      box-shadow: 0px 1px 3px 1px rgba(0, 0, 0, 0.15);\n",
              "      filter: drop-shadow(0px 1px 2px rgba(0, 0, 0, 0.3));\n",
              "      fill: #FFFFFF;\n",
              "    }\n",
              "  </style>\n",
              "\n",
              "      <script>\n",
              "        const buttonEl =\n",
              "          document.querySelector('#df-5291da74-7252-44d0-a8ce-630e8c055581 button.colab-df-convert');\n",
              "        buttonEl.style.display =\n",
              "          google.colab.kernel.accessAllowed ? 'block' : 'none';\n",
              "\n",
              "        async function convertToInteractive(key) {\n",
              "          const element = document.querySelector('#df-5291da74-7252-44d0-a8ce-630e8c055581');\n",
              "          const dataTable =\n",
              "            await google.colab.kernel.invokeFunction('convertToInteractive',\n",
              "                                                     [key], {});\n",
              "          if (!dataTable) return;\n",
              "\n",
              "          const docLinkHtml = 'Like what you see? Visit the ' +\n",
              "            '<a target=\"_blank\" href=https://colab.research.google.com/notebooks/data_table.ipynb>data table notebook</a>'\n",
              "            + ' to learn more about interactive tables.';\n",
              "          element.innerHTML = '';\n",
              "          dataTable['output_type'] = 'display_data';\n",
              "          await google.colab.output.renderOutput(dataTable, element);\n",
              "          const docLink = document.createElement('div');\n",
              "          docLink.innerHTML = docLinkHtml;\n",
              "          element.appendChild(docLink);\n",
              "        }\n",
              "      </script>\n",
              "    </div>\n",
              "  </div>\n",
              "  "
            ]
          },
          "metadata": {},
          "execution_count": 13
        }
      ]
    },
    {
      "cell_type": "code",
      "source": [
        "testDataFrame"
      ],
      "metadata": {
        "colab": {
          "base_uri": "https://localhost:8080/",
          "height": 424
        },
        "id": "q3boLM_Verzn",
        "outputId": "6af6d174-8474-4a28-ce94-a18fe807df1e"
      },
      "id": "q3boLM_Verzn",
      "execution_count": 14,
      "outputs": [
        {
          "output_type": "execute_result",
          "data": {
            "text/plain": [
              "                                               filepath dataset label  \\\n",
              "644   /content/drive/MyDrive/Colab Notebooks/Data/Sp...    test     0   \n",
              "645   /content/drive/MyDrive/Colab Notebooks/Data/Sp...    test     0   \n",
              "646   /content/drive/MyDrive/Colab Notebooks/Data/Sp...    test     0   \n",
              "647   /content/drive/MyDrive/Colab Notebooks/Data/Sp...    test     0   \n",
              "648   /content/drive/MyDrive/Colab Notebooks/Data/Sp...    test     0   \n",
              "...                                                 ...     ...   ...   \n",
              "3460  /content/drive/MyDrive/Colab Notebooks/Data/Sp...    test     4   \n",
              "3461  /content/drive/MyDrive/Colab Notebooks/Data/Sp...    test     4   \n",
              "3462  /content/drive/MyDrive/Colab Notebooks/Data/Sp...    test     4   \n",
              "3463  /content/drive/MyDrive/Colab Notebooks/Data/Sp...    test     4   \n",
              "3464  /content/drive/MyDrive/Colab Notebooks/Data/Sp...    test     4   \n",
              "\n",
              "      class_name  0  1  2  3  4  \n",
              "644     baseball  1  0  0  0  0  \n",
              "645     baseball  1  0  0  0  0  \n",
              "646     baseball  1  0  0  0  0  \n",
              "647     baseball  1  0  0  0  0  \n",
              "648     baseball  1  0  0  0  0  \n",
              "...          ... .. .. .. .. ..  \n",
              "3460  volleyball  0  0  0  0  1  \n",
              "3461  volleyball  0  0  0  0  1  \n",
              "3462  volleyball  0  0  0  0  1  \n",
              "3463  volleyball  0  0  0  0  1  \n",
              "3464  volleyball  0  0  0  0  1  \n",
              "\n",
              "[514 rows x 9 columns]"
            ],
            "text/html": [
              "\n",
              "  <div id=\"df-66155252-4c3c-4d5b-93b3-99f0208ccf9e\">\n",
              "    <div class=\"colab-df-container\">\n",
              "      <div>\n",
              "<style scoped>\n",
              "    .dataframe tbody tr th:only-of-type {\n",
              "        vertical-align: middle;\n",
              "    }\n",
              "\n",
              "    .dataframe tbody tr th {\n",
              "        vertical-align: top;\n",
              "    }\n",
              "\n",
              "    .dataframe thead th {\n",
              "        text-align: right;\n",
              "    }\n",
              "</style>\n",
              "<table border=\"1\" class=\"dataframe\">\n",
              "  <thead>\n",
              "    <tr style=\"text-align: right;\">\n",
              "      <th></th>\n",
              "      <th>filepath</th>\n",
              "      <th>dataset</th>\n",
              "      <th>label</th>\n",
              "      <th>class_name</th>\n",
              "      <th>0</th>\n",
              "      <th>1</th>\n",
              "      <th>2</th>\n",
              "      <th>3</th>\n",
              "      <th>4</th>\n",
              "    </tr>\n",
              "  </thead>\n",
              "  <tbody>\n",
              "    <tr>\n",
              "      <th>644</th>\n",
              "      <td>/content/drive/MyDrive/Colab Notebooks/Data/Sp...</td>\n",
              "      <td>test</td>\n",
              "      <td>0</td>\n",
              "      <td>baseball</td>\n",
              "      <td>1</td>\n",
              "      <td>0</td>\n",
              "      <td>0</td>\n",
              "      <td>0</td>\n",
              "      <td>0</td>\n",
              "    </tr>\n",
              "    <tr>\n",
              "      <th>645</th>\n",
              "      <td>/content/drive/MyDrive/Colab Notebooks/Data/Sp...</td>\n",
              "      <td>test</td>\n",
              "      <td>0</td>\n",
              "      <td>baseball</td>\n",
              "      <td>1</td>\n",
              "      <td>0</td>\n",
              "      <td>0</td>\n",
              "      <td>0</td>\n",
              "      <td>0</td>\n",
              "    </tr>\n",
              "    <tr>\n",
              "      <th>646</th>\n",
              "      <td>/content/drive/MyDrive/Colab Notebooks/Data/Sp...</td>\n",
              "      <td>test</td>\n",
              "      <td>0</td>\n",
              "      <td>baseball</td>\n",
              "      <td>1</td>\n",
              "      <td>0</td>\n",
              "      <td>0</td>\n",
              "      <td>0</td>\n",
              "      <td>0</td>\n",
              "    </tr>\n",
              "    <tr>\n",
              "      <th>647</th>\n",
              "      <td>/content/drive/MyDrive/Colab Notebooks/Data/Sp...</td>\n",
              "      <td>test</td>\n",
              "      <td>0</td>\n",
              "      <td>baseball</td>\n",
              "      <td>1</td>\n",
              "      <td>0</td>\n",
              "      <td>0</td>\n",
              "      <td>0</td>\n",
              "      <td>0</td>\n",
              "    </tr>\n",
              "    <tr>\n",
              "      <th>648</th>\n",
              "      <td>/content/drive/MyDrive/Colab Notebooks/Data/Sp...</td>\n",
              "      <td>test</td>\n",
              "      <td>0</td>\n",
              "      <td>baseball</td>\n",
              "      <td>1</td>\n",
              "      <td>0</td>\n",
              "      <td>0</td>\n",
              "      <td>0</td>\n",
              "      <td>0</td>\n",
              "    </tr>\n",
              "    <tr>\n",
              "      <th>...</th>\n",
              "      <td>...</td>\n",
              "      <td>...</td>\n",
              "      <td>...</td>\n",
              "      <td>...</td>\n",
              "      <td>...</td>\n",
              "      <td>...</td>\n",
              "      <td>...</td>\n",
              "      <td>...</td>\n",
              "      <td>...</td>\n",
              "    </tr>\n",
              "    <tr>\n",
              "      <th>3460</th>\n",
              "      <td>/content/drive/MyDrive/Colab Notebooks/Data/Sp...</td>\n",
              "      <td>test</td>\n",
              "      <td>4</td>\n",
              "      <td>volleyball</td>\n",
              "      <td>0</td>\n",
              "      <td>0</td>\n",
              "      <td>0</td>\n",
              "      <td>0</td>\n",
              "      <td>1</td>\n",
              "    </tr>\n",
              "    <tr>\n",
              "      <th>3461</th>\n",
              "      <td>/content/drive/MyDrive/Colab Notebooks/Data/Sp...</td>\n",
              "      <td>test</td>\n",
              "      <td>4</td>\n",
              "      <td>volleyball</td>\n",
              "      <td>0</td>\n",
              "      <td>0</td>\n",
              "      <td>0</td>\n",
              "      <td>0</td>\n",
              "      <td>1</td>\n",
              "    </tr>\n",
              "    <tr>\n",
              "      <th>3462</th>\n",
              "      <td>/content/drive/MyDrive/Colab Notebooks/Data/Sp...</td>\n",
              "      <td>test</td>\n",
              "      <td>4</td>\n",
              "      <td>volleyball</td>\n",
              "      <td>0</td>\n",
              "      <td>0</td>\n",
              "      <td>0</td>\n",
              "      <td>0</td>\n",
              "      <td>1</td>\n",
              "    </tr>\n",
              "    <tr>\n",
              "      <th>3463</th>\n",
              "      <td>/content/drive/MyDrive/Colab Notebooks/Data/Sp...</td>\n",
              "      <td>test</td>\n",
              "      <td>4</td>\n",
              "      <td>volleyball</td>\n",
              "      <td>0</td>\n",
              "      <td>0</td>\n",
              "      <td>0</td>\n",
              "      <td>0</td>\n",
              "      <td>1</td>\n",
              "    </tr>\n",
              "    <tr>\n",
              "      <th>3464</th>\n",
              "      <td>/content/drive/MyDrive/Colab Notebooks/Data/Sp...</td>\n",
              "      <td>test</td>\n",
              "      <td>4</td>\n",
              "      <td>volleyball</td>\n",
              "      <td>0</td>\n",
              "      <td>0</td>\n",
              "      <td>0</td>\n",
              "      <td>0</td>\n",
              "      <td>1</td>\n",
              "    </tr>\n",
              "  </tbody>\n",
              "</table>\n",
              "<p>514 rows × 9 columns</p>\n",
              "</div>\n",
              "      <button class=\"colab-df-convert\" onclick=\"convertToInteractive('df-66155252-4c3c-4d5b-93b3-99f0208ccf9e')\"\n",
              "              title=\"Convert this dataframe to an interactive table.\"\n",
              "              style=\"display:none;\">\n",
              "        \n",
              "  <svg xmlns=\"http://www.w3.org/2000/svg\" height=\"24px\"viewBox=\"0 0 24 24\"\n",
              "       width=\"24px\">\n",
              "    <path d=\"M0 0h24v24H0V0z\" fill=\"none\"/>\n",
              "    <path d=\"M18.56 5.44l.94 2.06.94-2.06 2.06-.94-2.06-.94-.94-2.06-.94 2.06-2.06.94zm-11 1L8.5 8.5l.94-2.06 2.06-.94-2.06-.94L8.5 2.5l-.94 2.06-2.06.94zm10 10l.94 2.06.94-2.06 2.06-.94-2.06-.94-.94-2.06-.94 2.06-2.06.94z\"/><path d=\"M17.41 7.96l-1.37-1.37c-.4-.4-.92-.59-1.43-.59-.52 0-1.04.2-1.43.59L10.3 9.45l-7.72 7.72c-.78.78-.78 2.05 0 2.83L4 21.41c.39.39.9.59 1.41.59.51 0 1.02-.2 1.41-.59l7.78-7.78 2.81-2.81c.8-.78.8-2.07 0-2.86zM5.41 20L4 18.59l7.72-7.72 1.47 1.35L5.41 20z\"/>\n",
              "  </svg>\n",
              "      </button>\n",
              "      \n",
              "  <style>\n",
              "    .colab-df-container {\n",
              "      display:flex;\n",
              "      flex-wrap:wrap;\n",
              "      gap: 12px;\n",
              "    }\n",
              "\n",
              "    .colab-df-convert {\n",
              "      background-color: #E8F0FE;\n",
              "      border: none;\n",
              "      border-radius: 50%;\n",
              "      cursor: pointer;\n",
              "      display: none;\n",
              "      fill: #1967D2;\n",
              "      height: 32px;\n",
              "      padding: 0 0 0 0;\n",
              "      width: 32px;\n",
              "    }\n",
              "\n",
              "    .colab-df-convert:hover {\n",
              "      background-color: #E2EBFA;\n",
              "      box-shadow: 0px 1px 2px rgba(60, 64, 67, 0.3), 0px 1px 3px 1px rgba(60, 64, 67, 0.15);\n",
              "      fill: #174EA6;\n",
              "    }\n",
              "\n",
              "    [theme=dark] .colab-df-convert {\n",
              "      background-color: #3B4455;\n",
              "      fill: #D2E3FC;\n",
              "    }\n",
              "\n",
              "    [theme=dark] .colab-df-convert:hover {\n",
              "      background-color: #434B5C;\n",
              "      box-shadow: 0px 1px 3px 1px rgba(0, 0, 0, 0.15);\n",
              "      filter: drop-shadow(0px 1px 2px rgba(0, 0, 0, 0.3));\n",
              "      fill: #FFFFFF;\n",
              "    }\n",
              "  </style>\n",
              "\n",
              "      <script>\n",
              "        const buttonEl =\n",
              "          document.querySelector('#df-66155252-4c3c-4d5b-93b3-99f0208ccf9e button.colab-df-convert');\n",
              "        buttonEl.style.display =\n",
              "          google.colab.kernel.accessAllowed ? 'block' : 'none';\n",
              "\n",
              "        async function convertToInteractive(key) {\n",
              "          const element = document.querySelector('#df-66155252-4c3c-4d5b-93b3-99f0208ccf9e');\n",
              "          const dataTable =\n",
              "            await google.colab.kernel.invokeFunction('convertToInteractive',\n",
              "                                                     [key], {});\n",
              "          if (!dataTable) return;\n",
              "\n",
              "          const docLinkHtml = 'Like what you see? Visit the ' +\n",
              "            '<a target=\"_blank\" href=https://colab.research.google.com/notebooks/data_table.ipynb>data table notebook</a>'\n",
              "            + ' to learn more about interactive tables.';\n",
              "          element.innerHTML = '';\n",
              "          dataTable['output_type'] = 'display_data';\n",
              "          await google.colab.output.renderOutput(dataTable, element);\n",
              "          const docLink = document.createElement('div');\n",
              "          docLink.innerHTML = docLinkHtml;\n",
              "          element.appendChild(docLink);\n",
              "        }\n",
              "      </script>\n",
              "    </div>\n",
              "  </div>\n",
              "  "
            ]
          },
          "metadata": {},
          "execution_count": 14
        }
      ]
    },
    {
      "cell_type": "code",
      "execution_count": 11,
      "metadata": {
        "id": "86cf3467"
      },
      "outputs": [],
      "source": [
        "# def random_crop(image):\n",
        "#     cropped = tf.image.random_crop(image, size=[200, 200, 3])\n",
        "#     cropped = tf.image.resize(cropped,(224,224))\n",
        "#     return cropped\n",
        "\n",
        "def random_crop(image):\n",
        "  cropped = tf.image.random_crop(image, size=[200, 200, 3])\n",
        "  cropped = tf.image.random_contrast(cropped, lower=1.0, upper=1.0)\n",
        "  cropped = cropped * 0.15\n",
        "  cropped = tf.image.resize(cropped, (224, 224))\n",
        "  return cropped"
      ],
      "id": "86cf3467"
    },
    {
      "cell_type": "code",
      "execution_count": 12,
      "metadata": {
        "id": "9_ZzEXaU7LBa"
      },
      "outputs": [],
      "source": [
        "entire_datagen = ImageDataGenerator(\n",
        "        rotation_range = 20,\n",
        "        zoom_range=0.05,\n",
        "        width_shift_range=0.05,\n",
        "        height_shift_range=0.05,\n",
        "        shear_range=0.05,\n",
        "        horizontal_flip=True,\n",
        "        fill_mode=\"nearest\",\n",
        "        preprocessing_function = random_crop,\n",
        "        brightness_range=(0.3, 1)\n",
        "        )\n"
      ],
      "id": "9_ZzEXaU7LBa"
    },
    {
      "cell_type": "code",
      "execution_count": 13,
      "metadata": {
        "id": "183b3002"
      },
      "outputs": [],
      "source": [
        "train_datagen = ImageDataGenerator(\n",
        "        rotation_range = 20,\n",
        "        zoom_range=0.05,\n",
        "        width_shift_range=0.05,\n",
        "        height_shift_range=0.05,\n",
        "        shear_range=0.05,\n",
        "        horizontal_flip=True,\n",
        "        fill_mode=\"nearest\",\n",
        "        preprocessing_function = random_crop,\n",
        "        brightness_range=(0.3, 1)\n",
        "        )\n"
      ],
      "id": "183b3002"
    },
    {
      "cell_type": "code",
      "execution_count": 14,
      "metadata": {
        "id": "xxCLaicqeIgl"
      },
      "outputs": [],
      "source": [
        "test_datagen = ImageDataGenerator()"
      ],
      "id": "xxCLaicqeIgl"
    },
    {
      "cell_type": "code",
      "execution_count": 15,
      "metadata": {
        "colab": {
          "base_uri": "https://localhost:8080/"
        },
        "id": "cu5VcR-57hp1",
        "outputId": "c10a2e15-10b3-4c9e-ce05-ed1ef34f2edc"
      },
      "outputs": [
        {
          "output_type": "stream",
          "name": "stdout",
          "text": [
            "Found 3444 validated image filenames.\n"
          ]
        }
      ],
      "source": [
        "entire_data_generator = entire_datagen.flow_from_dataframe(\n",
        "    dataframe = data_df_one_hot,\n",
        "    directory = None,\n",
        "    x_col=\"filepath\",\n",
        "    y_col=[x for x in range(0,5)],\n",
        "    target_size=(224, 224),\n",
        "    batch_size = 5,\n",
        "    class_mode=\"raw\",\n",
        "    \n",
        "    seed=42\n",
        ")"
      ],
      "id": "cu5VcR-57hp1"
    },
    {
      "cell_type": "code",
      "execution_count": 16,
      "metadata": {
        "colab": {
          "base_uri": "https://localhost:8080/"
        },
        "id": "5feb9725",
        "outputId": "ab5ab70a-5bb7-49d8-8354-054ec8ef23ca"
      },
      "outputs": [
        {
          "output_type": "stream",
          "name": "stdout",
          "text": [
            "Found 2412 validated image filenames.\n",
            "Found 521 validated image filenames.\n",
            "Found 511 validated image filenames.\n"
          ]
        }
      ],
      "source": [
        "train_generator = train_datagen.flow_from_dataframe(\n",
        "    dataframe = trainingDataFrame,\n",
        "    directory=None,\n",
        "    x_col=\"filepath\",\n",
        "    y_col=[x for x in range(0,5)],\n",
        "    target_size=(224, 224),\n",
        "    batch_size = 5,\n",
        "    class_mode=\"raw\",\n",
        "    \n",
        "    seed=42\n",
        ")\n",
        "valid_generator = test_datagen.flow_from_dataframe(\n",
        "    dataframe = valDataFrame,\n",
        "    directory=None,\n",
        "    x_col=\"filepath\",\n",
        "    y_col=[x for x in range(0,5)],\n",
        "    target_size=(224, 224),\n",
        "    batch_size = 5,\n",
        "    class_mode=\"raw\",\n",
        "    shuffle=False\n",
        ")\n",
        "test_generator= test_datagen.flow_from_dataframe(\n",
        "    dataframe = testDataFrame,\n",
        "    directory = None,\n",
        "    x_col=\"filepath\",\n",
        "    y_col=[x for x in range(0,5)],\n",
        "    target_size=(224, 224),\n",
        "    batch_size = 1,\n",
        "    class_mode=\"raw\",\n",
        "    shuffle=False\n",
        ")\n"
      ],
      "id": "5feb9725"
    },
    {
      "cell_type": "code",
      "execution_count": 17,
      "metadata": {
        "id": "c5678d19"
      },
      "outputs": [],
      "source": [
        "def vggPreprocessCrop(image):\n",
        "    image = preprocess_input(image)\n",
        "    image = random_crop(image)\n",
        "    return image"
      ],
      "id": "c5678d19"
    },
    {
      "cell_type": "code",
      "execution_count": 18,
      "metadata": {
        "id": "gcJfLgh9-g3r"
      },
      "outputs": [],
      "source": [
        "entire_datagenerator_vgg = ImageDataGenerator(\n",
        "        width_shift_range=0.05,\n",
        "        height_shift_range=0.05,\n",
        "        shear_range=0.05,\n",
        "        horizontal_flip=True,\n",
        "        rotation_range=20,\n",
        "        zoom_range=0.05,\n",
        "        fill_mode=\"nearest\",\n",
        "        preprocessing_function = vggPreprocessCrop,\n",
        "        brightness_range=(0.3, 1)\n",
        "        )"
      ],
      "id": "gcJfLgh9-g3r"
    },
    {
      "cell_type": "code",
      "execution_count": 19,
      "metadata": {
        "id": "51a9b3b3"
      },
      "outputs": [],
      "source": [
        "train_datagenerator_vgg = ImageDataGenerator(\n",
        "        width_shift_range=0.05,\n",
        "        height_shift_range=0.05,\n",
        "        shear_range=0.05,\n",
        "        horizontal_flip=True,\n",
        "        rotation_range=20,\n",
        "        zoom_range=0.05,\n",
        "        fill_mode=\"nearest\",\n",
        "        preprocessing_function = vggPreprocessCrop,\n",
        "        brightness_range=(0.3, 1)\n",
        "        )\n",
        "test_datagenerator_vgg = ImageDataGenerator(preprocessing_function=preprocess_input)"
      ],
      "id": "51a9b3b3"
    },
    {
      "cell_type": "code",
      "execution_count": 20,
      "metadata": {
        "colab": {
          "base_uri": "https://localhost:8080/"
        },
        "id": "7512dd59",
        "outputId": "95a0cf24-3d70-4034-fdce-cb238300f43b"
      },
      "outputs": [
        {
          "output_type": "stream",
          "name": "stdout",
          "text": [
            "Found 3444 validated image filenames.\n",
            "Found 2412 validated image filenames.\n",
            "Found 521 validated image filenames.\n",
            "Found 511 validated image filenames.\n"
          ]
        }
      ],
      "source": [
        "entire_generator_vgg = entire_datagenerator_vgg.flow_from_dataframe(\n",
        "    dataframe = data_df_one_hot,\n",
        "    directory = None,\n",
        "    x_col=\"filepath\",\n",
        "    y_col=[x for x in range(0,5)],\n",
        "    target_size=(224, 224),\n",
        "    batch_size=5,\n",
        "    class_mode=\"raw\",\n",
        "    \n",
        "    seed=42\n",
        ")\n",
        "\n",
        "train_generator_vgg = train_datagenerator_vgg.flow_from_dataframe(\n",
        "    dataframe = trainingDataFrame,\n",
        "    directory = None,\n",
        "    x_col=\"filepath\",\n",
        "    y_col=[x for x in range(0,5)],\n",
        "    target_size=(224, 224),\n",
        "    batch_size=5,\n",
        "    class_mode=\"raw\",\n",
        "    \n",
        "    seed=42\n",
        ")\n",
        "valid_generator_vgg = test_datagenerator_vgg.flow_from_dataframe(\n",
        "    dataframe=valDataFrame,\n",
        "    directory=None,\n",
        "    x_col=\"filepath\",\n",
        "    y_col=[x for x in range(0,5)],\n",
        "    target_size=(224, 224),\n",
        "    batch_size=5,\n",
        "    class_mode=\"raw\",\n",
        "    shuffle=False\n",
        ")\n",
        "test_generator_vgg= test_datagenerator_vgg.flow_from_dataframe(\n",
        "    dataframe=testDataFrame,\n",
        "    directory=None,\n",
        "    x_col=\"filepath\",\n",
        "    y_col=[x for x in range(0,5)],\n",
        "    target_size=(224, 224),\n",
        "    batch_size=1,\n",
        "    class_mode=\"raw\",\n",
        "    shuffle=False\n",
        ")"
      ],
      "id": "7512dd59"
    },
    {
      "cell_type": "code",
      "execution_count": 21,
      "metadata": {
        "colab": {
          "base_uri": "https://localhost:8080/",
          "height": 424
        },
        "id": "54c47338",
        "outputId": "22fff684-6800-463c-d996-16f352da8ede"
      },
      "outputs": [
        {
          "output_type": "execute_result",
          "data": {
            "text/plain": [
              "                                               filepath dataset label  \\\n",
              "0     /content/drive/MyDrive/Colab Notebooks/Data/Sp...   train     0   \n",
              "1     /content/drive/MyDrive/Colab Notebooks/Data/Sp...   train     0   \n",
              "2     /content/drive/MyDrive/Colab Notebooks/Data/Sp...   train     0   \n",
              "3     /content/drive/MyDrive/Colab Notebooks/Data/Sp...   train     0   \n",
              "4     /content/drive/MyDrive/Colab Notebooks/Data/Sp...   train     0   \n",
              "...                                                 ...     ...   ...   \n",
              "3460  /content/drive/MyDrive/Colab Notebooks/Data/Sp...    test     4   \n",
              "3461  /content/drive/MyDrive/Colab Notebooks/Data/Sp...    test     4   \n",
              "3462  /content/drive/MyDrive/Colab Notebooks/Data/Sp...    test     4   \n",
              "3463  /content/drive/MyDrive/Colab Notebooks/Data/Sp...    test     4   \n",
              "3464  /content/drive/MyDrive/Colab Notebooks/Data/Sp...    test     4   \n",
              "\n",
              "      class_name  0  1  2  3  4  \n",
              "0       baseball  1  0  0  0  0  \n",
              "1       baseball  1  0  0  0  0  \n",
              "2       baseball  1  0  0  0  0  \n",
              "3       baseball  1  0  0  0  0  \n",
              "4       baseball  1  0  0  0  0  \n",
              "...          ... .. .. .. .. ..  \n",
              "3460  volleyball  0  0  0  0  1  \n",
              "3461  volleyball  0  0  0  0  1  \n",
              "3462  volleyball  0  0  0  0  1  \n",
              "3463  volleyball  0  0  0  0  1  \n",
              "3464  volleyball  0  0  0  0  1  \n",
              "\n",
              "[3465 rows x 9 columns]"
            ],
            "text/html": [
              "\n",
              "  <div id=\"df-6f846501-dc9e-49ae-916c-c805df600369\">\n",
              "    <div class=\"colab-df-container\">\n",
              "      <div>\n",
              "<style scoped>\n",
              "    .dataframe tbody tr th:only-of-type {\n",
              "        vertical-align: middle;\n",
              "    }\n",
              "\n",
              "    .dataframe tbody tr th {\n",
              "        vertical-align: top;\n",
              "    }\n",
              "\n",
              "    .dataframe thead th {\n",
              "        text-align: right;\n",
              "    }\n",
              "</style>\n",
              "<table border=\"1\" class=\"dataframe\">\n",
              "  <thead>\n",
              "    <tr style=\"text-align: right;\">\n",
              "      <th></th>\n",
              "      <th>filepath</th>\n",
              "      <th>dataset</th>\n",
              "      <th>label</th>\n",
              "      <th>class_name</th>\n",
              "      <th>0</th>\n",
              "      <th>1</th>\n",
              "      <th>2</th>\n",
              "      <th>3</th>\n",
              "      <th>4</th>\n",
              "    </tr>\n",
              "  </thead>\n",
              "  <tbody>\n",
              "    <tr>\n",
              "      <th>0</th>\n",
              "      <td>/content/drive/MyDrive/Colab Notebooks/Data/Sp...</td>\n",
              "      <td>train</td>\n",
              "      <td>0</td>\n",
              "      <td>baseball</td>\n",
              "      <td>1</td>\n",
              "      <td>0</td>\n",
              "      <td>0</td>\n",
              "      <td>0</td>\n",
              "      <td>0</td>\n",
              "    </tr>\n",
              "    <tr>\n",
              "      <th>1</th>\n",
              "      <td>/content/drive/MyDrive/Colab Notebooks/Data/Sp...</td>\n",
              "      <td>train</td>\n",
              "      <td>0</td>\n",
              "      <td>baseball</td>\n",
              "      <td>1</td>\n",
              "      <td>0</td>\n",
              "      <td>0</td>\n",
              "      <td>0</td>\n",
              "      <td>0</td>\n",
              "    </tr>\n",
              "    <tr>\n",
              "      <th>2</th>\n",
              "      <td>/content/drive/MyDrive/Colab Notebooks/Data/Sp...</td>\n",
              "      <td>train</td>\n",
              "      <td>0</td>\n",
              "      <td>baseball</td>\n",
              "      <td>1</td>\n",
              "      <td>0</td>\n",
              "      <td>0</td>\n",
              "      <td>0</td>\n",
              "      <td>0</td>\n",
              "    </tr>\n",
              "    <tr>\n",
              "      <th>3</th>\n",
              "      <td>/content/drive/MyDrive/Colab Notebooks/Data/Sp...</td>\n",
              "      <td>train</td>\n",
              "      <td>0</td>\n",
              "      <td>baseball</td>\n",
              "      <td>1</td>\n",
              "      <td>0</td>\n",
              "      <td>0</td>\n",
              "      <td>0</td>\n",
              "      <td>0</td>\n",
              "    </tr>\n",
              "    <tr>\n",
              "      <th>4</th>\n",
              "      <td>/content/drive/MyDrive/Colab Notebooks/Data/Sp...</td>\n",
              "      <td>train</td>\n",
              "      <td>0</td>\n",
              "      <td>baseball</td>\n",
              "      <td>1</td>\n",
              "      <td>0</td>\n",
              "      <td>0</td>\n",
              "      <td>0</td>\n",
              "      <td>0</td>\n",
              "    </tr>\n",
              "    <tr>\n",
              "      <th>...</th>\n",
              "      <td>...</td>\n",
              "      <td>...</td>\n",
              "      <td>...</td>\n",
              "      <td>...</td>\n",
              "      <td>...</td>\n",
              "      <td>...</td>\n",
              "      <td>...</td>\n",
              "      <td>...</td>\n",
              "      <td>...</td>\n",
              "    </tr>\n",
              "    <tr>\n",
              "      <th>3460</th>\n",
              "      <td>/content/drive/MyDrive/Colab Notebooks/Data/Sp...</td>\n",
              "      <td>test</td>\n",
              "      <td>4</td>\n",
              "      <td>volleyball</td>\n",
              "      <td>0</td>\n",
              "      <td>0</td>\n",
              "      <td>0</td>\n",
              "      <td>0</td>\n",
              "      <td>1</td>\n",
              "    </tr>\n",
              "    <tr>\n",
              "      <th>3461</th>\n",
              "      <td>/content/drive/MyDrive/Colab Notebooks/Data/Sp...</td>\n",
              "      <td>test</td>\n",
              "      <td>4</td>\n",
              "      <td>volleyball</td>\n",
              "      <td>0</td>\n",
              "      <td>0</td>\n",
              "      <td>0</td>\n",
              "      <td>0</td>\n",
              "      <td>1</td>\n",
              "    </tr>\n",
              "    <tr>\n",
              "      <th>3462</th>\n",
              "      <td>/content/drive/MyDrive/Colab Notebooks/Data/Sp...</td>\n",
              "      <td>test</td>\n",
              "      <td>4</td>\n",
              "      <td>volleyball</td>\n",
              "      <td>0</td>\n",
              "      <td>0</td>\n",
              "      <td>0</td>\n",
              "      <td>0</td>\n",
              "      <td>1</td>\n",
              "    </tr>\n",
              "    <tr>\n",
              "      <th>3463</th>\n",
              "      <td>/content/drive/MyDrive/Colab Notebooks/Data/Sp...</td>\n",
              "      <td>test</td>\n",
              "      <td>4</td>\n",
              "      <td>volleyball</td>\n",
              "      <td>0</td>\n",
              "      <td>0</td>\n",
              "      <td>0</td>\n",
              "      <td>0</td>\n",
              "      <td>1</td>\n",
              "    </tr>\n",
              "    <tr>\n",
              "      <th>3464</th>\n",
              "      <td>/content/drive/MyDrive/Colab Notebooks/Data/Sp...</td>\n",
              "      <td>test</td>\n",
              "      <td>4</td>\n",
              "      <td>volleyball</td>\n",
              "      <td>0</td>\n",
              "      <td>0</td>\n",
              "      <td>0</td>\n",
              "      <td>0</td>\n",
              "      <td>1</td>\n",
              "    </tr>\n",
              "  </tbody>\n",
              "</table>\n",
              "<p>3465 rows × 9 columns</p>\n",
              "</div>\n",
              "      <button class=\"colab-df-convert\" onclick=\"convertToInteractive('df-6f846501-dc9e-49ae-916c-c805df600369')\"\n",
              "              title=\"Convert this dataframe to an interactive table.\"\n",
              "              style=\"display:none;\">\n",
              "        \n",
              "  <svg xmlns=\"http://www.w3.org/2000/svg\" height=\"24px\"viewBox=\"0 0 24 24\"\n",
              "       width=\"24px\">\n",
              "    <path d=\"M0 0h24v24H0V0z\" fill=\"none\"/>\n",
              "    <path d=\"M18.56 5.44l.94 2.06.94-2.06 2.06-.94-2.06-.94-.94-2.06-.94 2.06-2.06.94zm-11 1L8.5 8.5l.94-2.06 2.06-.94-2.06-.94L8.5 2.5l-.94 2.06-2.06.94zm10 10l.94 2.06.94-2.06 2.06-.94-2.06-.94-.94-2.06-.94 2.06-2.06.94z\"/><path d=\"M17.41 7.96l-1.37-1.37c-.4-.4-.92-.59-1.43-.59-.52 0-1.04.2-1.43.59L10.3 9.45l-7.72 7.72c-.78.78-.78 2.05 0 2.83L4 21.41c.39.39.9.59 1.41.59.51 0 1.02-.2 1.41-.59l7.78-7.78 2.81-2.81c.8-.78.8-2.07 0-2.86zM5.41 20L4 18.59l7.72-7.72 1.47 1.35L5.41 20z\"/>\n",
              "  </svg>\n",
              "      </button>\n",
              "      \n",
              "  <style>\n",
              "    .colab-df-container {\n",
              "      display:flex;\n",
              "      flex-wrap:wrap;\n",
              "      gap: 12px;\n",
              "    }\n",
              "\n",
              "    .colab-df-convert {\n",
              "      background-color: #E8F0FE;\n",
              "      border: none;\n",
              "      border-radius: 50%;\n",
              "      cursor: pointer;\n",
              "      display: none;\n",
              "      fill: #1967D2;\n",
              "      height: 32px;\n",
              "      padding: 0 0 0 0;\n",
              "      width: 32px;\n",
              "    }\n",
              "\n",
              "    .colab-df-convert:hover {\n",
              "      background-color: #E2EBFA;\n",
              "      box-shadow: 0px 1px 2px rgba(60, 64, 67, 0.3), 0px 1px 3px 1px rgba(60, 64, 67, 0.15);\n",
              "      fill: #174EA6;\n",
              "    }\n",
              "\n",
              "    [theme=dark] .colab-df-convert {\n",
              "      background-color: #3B4455;\n",
              "      fill: #D2E3FC;\n",
              "    }\n",
              "\n",
              "    [theme=dark] .colab-df-convert:hover {\n",
              "      background-color: #434B5C;\n",
              "      box-shadow: 0px 1px 3px 1px rgba(0, 0, 0, 0.15);\n",
              "      filter: drop-shadow(0px 1px 2px rgba(0, 0, 0, 0.3));\n",
              "      fill: #FFFFFF;\n",
              "    }\n",
              "  </style>\n",
              "\n",
              "      <script>\n",
              "        const buttonEl =\n",
              "          document.querySelector('#df-6f846501-dc9e-49ae-916c-c805df600369 button.colab-df-convert');\n",
              "        buttonEl.style.display =\n",
              "          google.colab.kernel.accessAllowed ? 'block' : 'none';\n",
              "\n",
              "        async function convertToInteractive(key) {\n",
              "          const element = document.querySelector('#df-6f846501-dc9e-49ae-916c-c805df600369');\n",
              "          const dataTable =\n",
              "            await google.colab.kernel.invokeFunction('convertToInteractive',\n",
              "                                                     [key], {});\n",
              "          if (!dataTable) return;\n",
              "\n",
              "          const docLinkHtml = 'Like what you see? Visit the ' +\n",
              "            '<a target=\"_blank\" href=https://colab.research.google.com/notebooks/data_table.ipynb>data table notebook</a>'\n",
              "            + ' to learn more about interactive tables.';\n",
              "          element.innerHTML = '';\n",
              "          dataTable['output_type'] = 'display_data';\n",
              "          await google.colab.output.renderOutput(dataTable, element);\n",
              "          const docLink = document.createElement('div');\n",
              "          docLink.innerHTML = docLinkHtml;\n",
              "          element.appendChild(docLink);\n",
              "        }\n",
              "      </script>\n",
              "    </div>\n",
              "  </div>\n",
              "  "
            ]
          },
          "metadata": {},
          "execution_count": 21
        }
      ],
      "source": [
        "data_df_one_hot"
      ],
      "id": "54c47338"
    },
    {
      "cell_type": "code",
      "execution_count": 22,
      "metadata": {
        "id": "5CxyDvOnkfAh"
      },
      "outputs": [],
      "source": [
        "input_shape = (224, 224,3)\n",
        "n_classes = 5"
      ],
      "id": "5CxyDvOnkfAh"
    },
    {
      "cell_type": "code",
      "execution_count": 45,
      "metadata": {
        "id": "1c6a0967",
        "colab": {
          "base_uri": "https://localhost:8080/"
        },
        "outputId": "acf2a710-bd38-4c72-9846-1e209959543b"
      },
      "outputs": [
        {
          "output_type": "stream",
          "name": "stdout",
          "text": [
            "Downloading data from https://storage.googleapis.com/tensorflow/keras-applications/vgg16/vgg16_weights_tf_dim_ordering_tf_kernels_notop.h5\n",
            "58889256/58889256 [==============================] - 3s 0us/step\n"
          ]
        }
      ],
      "source": [
        "conv_base = VGG16(include_top = False, weights = 'imagenet', input_shape = input_shape)\n",
        "conv_base.trainable = False\n",
        "\n",
        "best_model = conv_base.output\n",
        "best_model = Flatten(name=\"flatten\")(best_model)\n",
        "best_model= BatchNormalization()(best_model)\n",
        "\n",
        "#Adding layers to improve accuracy\n",
        "best_model = Dense(200, activation='relu')(best_model)\n",
        "best_model = Dense(100, activation='relu')(best_model)\n",
        "best_model = Dense(50, activation='relu')(best_model)\n",
        "\n",
        "#best_model = Dense(n_classes, activation='relu')(best_model)\n",
        "best_model = Dropout(0.2)(best_model)\n",
        "output_layer = Dense(n_classes, activation='softmax')(best_model)\n",
        "vgg_model = Model(inputs = conv_base.input, outputs=output_layer)\n",
        "vgg_model.compile(optimizer = Adam(learning_rate = 0.001), \n",
        "                  loss='categorical_crossentropy',\n",
        "                  metrics=['accuracy'])\n",
        "\n",
        "n_epochs = 50\n"
      ],
      "id": "1c6a0967"
    },
    {
      "cell_type": "code",
      "execution_count": 46,
      "metadata": {
        "colab": {
          "base_uri": "https://localhost:8080/"
        },
        "id": "f17d0a07",
        "outputId": "c4af4c95-9e7e-404e-b370-1b18125a1225"
      },
      "outputs": [
        {
          "output_type": "execute_result",
          "data": {
            "text/plain": [
              "511"
            ]
          },
          "metadata": {},
          "execution_count": 46
        }
      ],
      "source": [
        "filenames = test_generator.filenames\n",
        "nb_samples = len(filenames)\n",
        "nb_samples"
      ],
      "id": "f17d0a07"
    },
    {
      "cell_type": "code",
      "execution_count": 47,
      "metadata": {
        "id": "e68a02c8"
      },
      "outputs": [],
      "source": [
        "def printResults(model,test_generator):\n",
        "    filenames = test_generator.filenames\n",
        "    nb_samples = len(filenames)\n",
        "    y_predict = model.predict(test_generator,steps = nb_samples)\n",
        "    predicted_labels = np.argmax(y_predict,axis=1)\n",
        "    y_true = np.argmax(test_generator.labels,axis=1)\n",
        "    print(classification_report(y_true,predicted_labels,target_names=[str(x) for x in range(0,5)]))\n",
        "    print(confusion_matrix(y_true,predicted_labels))"
      ],
      "id": "e68a02c8"
    },
    {
      "cell_type": "code",
      "source": [
        "from sklearn.metrics import precision_score, recall_score, f1_score, confusion_matrix\n",
        "\n",
        "def printResultsTraining(model,test_generator):\n",
        "    filenames = test_generator.filenames\n",
        "    nb_samples = len(filenames)\n",
        "    y_predict = model.predict(test_generator,steps = nb_samples)\n",
        "    predicted_labels = np.argmax(y_predict,axis=1)\n",
        "    y_true = np.argmax(test_generator.labels,axis=1)\n",
        "    precision = precision_score(y_true, predicted_labels, average='macro')\n",
        "    recall = recall_score(y_true, predicted_labels, average='macro')\n",
        "    f1 = f1_score(y_true, predicted_labels, average='macro')\n",
        "    print(f\"Precision: {precision:.2f}\")\n",
        "    print(f\"Recall: {recall:.2f}\")\n",
        "    print(f\"F1-score: {f1:.2f}\")\n",
        "    print(\"Confusion Matrix:\")\n",
        "    print(confusion_matrix(y_true, predicted_labels))"
      ],
      "metadata": {
        "id": "TvlpSPG-CVr6"
      },
      "id": "TvlpSPG-CVr6",
      "execution_count": 48,
      "outputs": []
    },
    {
      "cell_type": "code",
      "execution_count": 49,
      "metadata": {
        "colab": {
          "base_uri": "https://localhost:8080/"
        },
        "id": "XpDZ0R5Q7oam",
        "outputId": "eb00e4e5-49da-4fdb-8226-26fbe9bf1071"
      },
      "outputs": [
        {
          "output_type": "execute_result",
          "data": {
            "text/plain": [
              "<keras.preprocessing.image.DataFrameIterator at 0x7f88ce042b00>"
            ]
          },
          "metadata": {},
          "execution_count": 49
        }
      ],
      "source": [
        "test_generator"
      ],
      "id": "XpDZ0R5Q7oam"
    },
    {
      "cell_type": "markdown",
      "metadata": {
        "id": "SLbmP-4M0D40"
      },
      "source": [],
      "id": "SLbmP-4M0D40"
    },
    {
      "cell_type": "code",
      "execution_count": 31,
      "metadata": {
        "id": "L7Dkb1lh6SGE"
      },
      "outputs": [],
      "source": [
        "# def printResults2(model, test_generator):\n",
        "#     filenames = test_generator.filenames\n",
        "#     nb_samples = len(filenames)\n",
        "#     y_pred = model.predict(test_generator, steps=nb_samples)\n",
        "#     y_pred_labels = np.argmax(y_pred, axis=1)\n",
        "#     y_true = test_generator.labels\n",
        "#     class_names = dict(zip(range(len(test_generator.class_indices)), test_generator.class_indices))\n",
        "\n",
        "#     # Print classification report\n",
        "#     print(classification_report(y_true, y_pred_labels, target_names=class_names.values()))\n",
        "\n",
        "#     # Compute the confusion matrix\n",
        "#     cm = confusion_matrix(y_true, y_pred_labels)\n",
        "\n",
        "#     # Plot the confusion matrix\n",
        "#     plt.figure(figsize=(8, 8))\n",
        "#     sns.heatmap(cm, annot=True, fmt='g', cmap='Blues', xticklabels=class_names.values(), yticklabels=class_names.values())\n",
        "#     plt.xlabel('Predicted labels')\n",
        "#     plt.ylabel('True labels')\n",
        "#     plt.title('Confusion matrix')\n",
        "#     plt.show()\n"
      ],
      "id": "L7Dkb1lh6SGE"
    },
    {
      "cell_type": "code",
      "execution_count": 50,
      "metadata": {
        "id": "523cc813"
      },
      "outputs": [],
      "source": [
        "modelCheckpoint = ModelCheckpoint(filepath='vgg16b_best.hdf5',\n",
        "                                  save_best_only=True,\n",
        "                                  verbose=1)\n",
        "\n",
        "early_stop = EarlyStopping(monitor='val_loss',\n",
        "                           patience=10,\n",
        "                           restore_best_weights=True,\n",
        "                           mode='min')"
      ],
      "id": "523cc813"
    },
    {
      "cell_type": "code",
      "execution_count": 51,
      "metadata": {
        "colab": {
          "base_uri": "https://localhost:8080/"
        },
        "id": "fbe6cf7e",
        "outputId": "2bb9802b-f65e-4406-9154-bcdba16064df"
      },
      "outputs": [
        {
          "output_type": "stream",
          "name": "stdout",
          "text": [
            "Epoch 1/50\n",
            "483/483 [==============================] - ETA: 0s - loss: 1.0133 - accuracy: 0.6459\n",
            "Epoch 1: val_loss improved from inf to 0.60003, saving model to vgg16b_best.hdf5\n",
            "483/483 [==============================] - 47s 95ms/step - loss: 1.0133 - accuracy: 0.6459 - val_loss: 0.6000 - val_accuracy: 0.8560\n",
            "Epoch 2/50\n",
            "483/483 [==============================] - ETA: 0s - loss: 0.6574 - accuracy: 0.7612\n",
            "Epoch 2: val_loss did not improve from 0.60003\n",
            "483/483 [==============================] - 45s 94ms/step - loss: 0.6574 - accuracy: 0.7612 - val_loss: 0.6510 - val_accuracy: 0.8772\n",
            "Epoch 3/50\n",
            "483/483 [==============================] - ETA: 0s - loss: 0.5937 - accuracy: 0.8031\n",
            "Epoch 3: val_loss improved from 0.60003 to 0.39681, saving model to vgg16b_best.hdf5\n",
            "483/483 [==============================] - 45s 94ms/step - loss: 0.5937 - accuracy: 0.8031 - val_loss: 0.3968 - val_accuracy: 0.9040\n",
            "Epoch 4/50\n",
            "483/483 [==============================] - ETA: 0s - loss: 0.5079 - accuracy: 0.8329\n",
            "Epoch 4: val_loss did not improve from 0.39681\n",
            "483/483 [==============================] - 45s 94ms/step - loss: 0.5079 - accuracy: 0.8329 - val_loss: 0.4365 - val_accuracy: 0.9213\n",
            "Epoch 5/50\n",
            "483/483 [==============================] - ETA: 0s - loss: 0.4482 - accuracy: 0.8528\n",
            "Epoch 5: val_loss did not improve from 0.39681\n",
            "483/483 [==============================] - 45s 93ms/step - loss: 0.4482 - accuracy: 0.8528 - val_loss: 0.4834 - val_accuracy: 0.9098\n",
            "Epoch 6/50\n",
            "483/483 [==============================] - ETA: 0s - loss: 0.4135 - accuracy: 0.8657\n",
            "Epoch 6: val_loss did not improve from 0.39681\n",
            "483/483 [==============================] - 45s 93ms/step - loss: 0.4135 - accuracy: 0.8657 - val_loss: 0.5442 - val_accuracy: 0.9290\n",
            "Epoch 7/50\n",
            "483/483 [==============================] - ETA: 0s - loss: 0.3865 - accuracy: 0.8727\n",
            "Epoch 7: val_loss did not improve from 0.39681\n",
            "483/483 [==============================] - 45s 93ms/step - loss: 0.3865 - accuracy: 0.8727 - val_loss: 0.6954 - val_accuracy: 0.9117\n",
            "Epoch 8/50\n",
            "483/483 [==============================] - ETA: 0s - loss: 0.3553 - accuracy: 0.8773\n",
            "Epoch 8: val_loss did not improve from 0.39681\n",
            "483/483 [==============================] - 45s 93ms/step - loss: 0.3553 - accuracy: 0.8773 - val_loss: 0.5041 - val_accuracy: 0.9232\n",
            "Epoch 9/50\n",
            "483/483 [==============================] - ETA: 0s - loss: 0.3441 - accuracy: 0.8818\n",
            "Epoch 9: val_loss did not improve from 0.39681\n",
            "483/483 [==============================] - 45s 94ms/step - loss: 0.3441 - accuracy: 0.8818 - val_loss: 0.6178 - val_accuracy: 0.9079\n",
            "Epoch 10/50\n",
            "483/483 [==============================] - ETA: 0s - loss: 0.2852 - accuracy: 0.9055\n",
            "Epoch 10: val_loss did not improve from 0.39681\n",
            "483/483 [==============================] - 45s 93ms/step - loss: 0.2852 - accuracy: 0.9055 - val_loss: 0.5910 - val_accuracy: 0.9309\n",
            "Epoch 11/50\n",
            "483/483 [==============================] - ETA: 0s - loss: 0.2898 - accuracy: 0.9084\n",
            "Epoch 11: val_loss did not improve from 0.39681\n",
            "483/483 [==============================] - 45s 93ms/step - loss: 0.2898 - accuracy: 0.9084 - val_loss: 0.8924 - val_accuracy: 0.9060\n",
            "Epoch 12/50\n",
            "483/483 [==============================] - ETA: 0s - loss: 0.2670 - accuracy: 0.9142\n",
            "Epoch 12: val_loss did not improve from 0.39681\n",
            "483/483 [==============================] - 45s 93ms/step - loss: 0.2670 - accuracy: 0.9142 - val_loss: 1.0024 - val_accuracy: 0.9040\n",
            "Epoch 13/50\n",
            "483/483 [==============================] - ETA: 0s - loss: 0.2900 - accuracy: 0.9150\n",
            "Epoch 13: val_loss did not improve from 0.39681\n",
            "483/483 [==============================] - 45s 93ms/step - loss: 0.2900 - accuracy: 0.9150 - val_loss: 0.9898 - val_accuracy: 0.9175\n"
          ]
        }
      ],
      "source": [
        "vgg_history = vgg_model.fit(train_generator_vgg,\n",
        "                            epochs = n_epochs,\n",
        "                            batch_size = 5,\n",
        "                            validation_data=valid_generator_vgg,\n",
        "                            callbacks=[modelCheckpoint, early_stop],\n",
        "                            verbose=1)"
      ],
      "id": "fbe6cf7e"
    },
    {
      "cell_type": "code",
      "execution_count": 52,
      "metadata": {
        "id": "e80104f6"
      },
      "outputs": [],
      "source": [
        "def plot_epoch_vs_acc(history):\n",
        "    plt.plot([1-x for x in history.history['accuracy']])\n",
        "    plt.plot([1-x for x in history.history['val_accuracy']])\n",
        "    plt.title('Error vs Epoch')\n",
        "    plt.ylabel('error')\n",
        "    plt.xlabel('epoch')\n",
        "    plt.legend(['train', 'val'], loc='upper left')\n",
        "    plt.show()"
      ],
      "id": "e80104f6"
    },
    {
      "cell_type": "code",
      "execution_count": 53,
      "metadata": {
        "colab": {
          "base_uri": "https://localhost:8080/",
          "height": 472
        },
        "id": "70ddef6f",
        "outputId": "b6343cb2-f61f-4d3d-a94f-bc4790511012"
      },
      "outputs": [
        {
          "output_type": "display_data",
          "data": {
            "text/plain": [
              "<Figure size 640x480 with 1 Axes>"
            ],
            "image/png": "[encoded data removed]"
          },
          "metadata": {}
        }
      ],
      "source": [
        "plot_epoch_vs_acc(vgg_history)"
      ],
      "id": "70ddef6f"
    },
    {
      "cell_type": "code",
      "execution_count": 54,
      "metadata": {
        "id": "64ced5da"
      },
      "outputs": [],
      "source": [
        "vgg_model.load_weights('vgg16b_best.hdf5')"
      ],
      "id": "64ced5da"
    },
    {
      "cell_type": "code",
      "source": [
        "print('Accuracy of vgg16 Training as found in the epoch logs', 0.9175)"
      ],
      "metadata": {
        "colab": {
          "base_uri": "https://localhost:8080/"
        },
        "id": "jsG6Il4zVFsG",
        "outputId": "56a48995-4b8e-4c6e-e648-71cf761b792e"
      },
      "id": "jsG6Il4zVFsG",
      "execution_count": 79,
      "outputs": [
        {
          "output_type": "stream",
          "name": "stdout",
          "text": [
            "Accuracy of vgg16 Training as found in the epoch logs 0.9175\n"
          ]
        }
      ]
    },
    {
      "cell_type": "code",
      "execution_count": 55,
      "metadata": {
        "colab": {
          "base_uri": "https://localhost:8080/"
        },
        "id": "750ce051",
        "outputId": "5345d6e1-88f8-4e55-8f81-0470de342f66"
      },
      "outputs": [
        {
          "output_type": "stream",
          "name": "stdout",
          "text": [
            "511/511 [==============================] - 3s 5ms/step\n",
            "              precision    recall  f1-score   support\n",
            "\n",
            "           0       0.86      0.94      0.90       111\n",
            "           1       0.85      0.89      0.87       106\n",
            "           2       0.88      0.84      0.86        86\n",
            "           3       0.95      0.89      0.92       101\n",
            "           4       0.89      0.85      0.87       107\n",
            "\n",
            "    accuracy                           0.88       511\n",
            "   macro avg       0.88      0.88      0.88       511\n",
            "weighted avg       0.88      0.88      0.88       511\n",
            "\n",
            "[[104   4   2   1   0]\n",
            " [  6  94   1   1   4]\n",
            " [  5   4  72   0   5]\n",
            " [  4   5   0  90   2]\n",
            " [  2   4   7   3  91]]\n"
          ]
        }
      ],
      "source": [
        "printResults(vgg_model,test_generator_vgg)"
      ],
      "id": "750ce051"
    },
    {
      "cell_type": "markdown",
      "source": [
        "The accuracy of the training Set can be found in epoch logs above"
      ],
      "metadata": {
        "id": "EvSgYUxxFRA9"
      },
      "id": "EvSgYUxxFRA9"
    },
    {
      "cell_type": "code",
      "execution_count": 58,
      "metadata": {
        "colab": {
          "base_uri": "https://localhost:8080/"
        },
        "id": "P_4Q-ovZqXTB",
        "outputId": "fa7bf88b-cefb-4ccb-c80b-91909a168450"
      },
      "outputs": [
        {
          "output_type": "stream",
          "name": "stdout",
          "text": [
            " 482/2412 [====>.........................] - ETA: 2:52"
          ]
        },
        {
          "output_type": "stream",
          "name": "stderr",
          "text": [
            "WARNING:tensorflow:Your input ran out of data; interrupting training. Make sure that your dataset or generator can generate at least `steps_per_epoch * epochs` batches (in this case, 2412 batches). You may need to use the repeat() function when building your dataset.\n"
          ]
        },
        {
          "output_type": "stream",
          "name": "stdout",
          "text": [
            "\b\b\b\b\b\b\b\b\b\b\b\b\b\b\b\b\b\b\b\b\b\b\b\b\b\b\b\b\b\b\b\b\b\b\b\b\b\b\b\b\b\b\b\b\b\b\b\b\b\b\b\b\b\b\r2412/2412 [==============================] - 43s 18ms/step\n",
            "Precision: 0.20\n",
            "Recall: 0.20\n",
            "F1-score: 0.20\n",
            "Confusion Matrix:\n",
            "[[116 121  94  89 109]\n",
            " [120  93  68 112 107]\n",
            " [ 79  99  71  71  84]\n",
            " [ 84 116  73 120  84]\n",
            " [115 122  80  93  92]]\n"
          ]
        }
      ],
      "source": [
        "printResultsTraining(vgg_model,train_generator_vgg)"
      ],
      "id": "P_4Q-ovZqXTB"
    },
    {
      "cell_type": "code",
      "execution_count": 59,
      "metadata": {
        "id": "cBCICiuu_Fy9"
      },
      "outputs": [],
      "source": [
        "modelCheckpointFull = ModelCheckpoint(filepath='vgg16b_best.hdf5',\n",
        "                                  save_weights_only=True,\n",
        "                                  save_best_only = True,\n",
        "                                  verbose=1)\n",
        "early_stop_full = EarlyStopping(monitor='loss',\n",
        "                           patience=10,\n",
        "                           restore_best_weights=True,\n",
        "                           mode='min')"
      ],
      "id": "cBCICiuu_Fy9"
    },
    {
      "cell_type": "code",
      "execution_count": 60,
      "metadata": {
        "id": "aos3KUx7GP0Y"
      },
      "outputs": [],
      "source": [
        "import warnings\n",
        "warnings.filterwarnings(\"ignore\")"
      ],
      "id": "aos3KUx7GP0Y"
    },
    {
      "cell_type": "markdown",
      "source": [
        "While reusing validation and testset we will run the model only uptil the epoch where it stopped when we ran it just for training data."
      ],
      "metadata": {
        "id": "rPPfjZjLIxDk"
      },
      "id": "rPPfjZjLIxDk"
    },
    {
      "cell_type": "code",
      "execution_count": 62,
      "metadata": {
        "colab": {
          "base_uri": "https://localhost:8080/"
        },
        "id": "lE2PzuGp_cGo",
        "outputId": "61b00b25-dc2b-4023-cc4d-9e534a2cef32"
      },
      "outputs": [
        {
          "output_type": "stream",
          "name": "stdout",
          "text": [
            "Epoch 1/13\n",
            "689/689 [==============================] - 61s 89ms/step - loss: 0.5625 - accuracy: 0.8188\n",
            "Epoch 2/13\n",
            "689/689 [==============================] - 61s 89ms/step - loss: 0.4637 - accuracy: 0.8458\n",
            "Epoch 3/13\n",
            "689/689 [==============================] - 61s 89ms/step - loss: 0.4369 - accuracy: 0.8656\n",
            "Epoch 4/13\n",
            "689/689 [==============================] - 61s 89ms/step - loss: 0.3889 - accuracy: 0.8746\n",
            "Epoch 5/13\n",
            "689/689 [==============================] - 61s 88ms/step - loss: 0.3405 - accuracy: 0.8975\n",
            "Epoch 6/13\n",
            "689/689 [==============================] - 61s 88ms/step - loss: 0.3509 - accuracy: 0.8914\n",
            "Epoch 7/13\n",
            "689/689 [==============================] - 61s 88ms/step - loss: 0.3075 - accuracy: 0.9036\n",
            "Epoch 8/13\n",
            "689/689 [==============================] - 61s 89ms/step - loss: 0.3018 - accuracy: 0.9111\n",
            "Epoch 9/13\n",
            "689/689 [==============================] - 61s 88ms/step - loss: 0.2571 - accuracy: 0.9187\n",
            "Epoch 10/13\n",
            "689/689 [==============================] - 61s 89ms/step - loss: 0.2426 - accuracy: 0.9225\n",
            "Epoch 11/13\n",
            "689/689 [==============================] - 61s 88ms/step - loss: 0.2559 - accuracy: 0.9236\n",
            "Epoch 12/13\n",
            "689/689 [==============================] - 61s 88ms/step - loss: 0.2050 - accuracy: 0.9361\n",
            "Epoch 13/13\n",
            "689/689 [==============================] - 61s 89ms/step - loss: 0.1960 - accuracy: 0.9376\n"
          ]
        }
      ],
      "source": [
        "vgg_history_full = vgg_model.fit(entire_generator_vgg,\n",
        "                            epochs = 13,\n",
        "                            batch_size=5,\n",
        "                            callbacks = [tf.keras.callbacks.EarlyStopping(monitor='loss', patience=10)],\n",
        "                            verbose=1)"
      ],
      "id": "lE2PzuGp_cGo"
    },
    {
      "cell_type": "code",
      "execution_count": 42,
      "metadata": {
        "id": "TlBv3KPhRxz7"
      },
      "outputs": [],
      "source": [
        "vgg_model.save('vgg16b_best.hdf5')\n",
        "# vgg_model.load_weights('vgg16b_best_complete.hdf5')\n",
        "# printResults(vgg_model,entire_generator_vgg)"
      ],
      "id": "TlBv3KPhRxz7"
    },
    {
      "cell_type": "code",
      "execution_count": 42,
      "metadata": {
        "id": "YEvp3tUT_9ss"
      },
      "outputs": [],
      "source": [],
      "id": "YEvp3tUT_9ss"
    },
    {
      "cell_type": "code",
      "execution_count": 42,
      "metadata": {
        "id": "ot19VcYC_93k"
      },
      "outputs": [],
      "source": [],
      "id": "ot19VcYC_93k"
    },
    {
      "cell_type": "code",
      "execution_count": 42,
      "metadata": {
        "id": "MjDheVte_-Bw"
      },
      "outputs": [],
      "source": [],
      "id": "MjDheVte_-Bw"
    },
    {
      "cell_type": "code",
      "execution_count": 27,
      "metadata": {
        "id": "d8dd263c"
      },
      "outputs": [],
      "source": [
        "input_shape=(224, 224,3)\n",
        "n_classes = 5"
      ],
      "id": "d8dd263c"
    },
    {
      "cell_type": "code",
      "execution_count": 28,
      "metadata": {
        "id": "1f14e592"
      },
      "outputs": [],
      "source": [
        "# input_shape=(224, 224,3)\n",
        "# n_classes = 5\n",
        "\n",
        "conv_base = EfficientNetB0(include_top = False,weights='imagenet', input_shape=input_shape)\n",
        "conv_base.trainable=False\n",
        "\n",
        "best_model = conv_base.output\n",
        "best_model = Flatten(name=\"flatten\")(best_model)\n",
        "best_model=BatchNormalization()(best_model)\n",
        "\n",
        "#best_model = Dense(500, activation='relu')(best_model)\n",
        "best_model = Dense(200, activation='relu')(best_model)\n",
        "best_model = Dense(100, activation='relu')(best_model)\n",
        "best_model = Dropout(0.2)(best_model)\n",
        "output_layer = Dense(n_classes, activation='softmax')(best_model)\n",
        "\n",
        "efficientNet_model = Model(inputs=conv_base.input, outputs=output_layer)\n",
        "\n",
        "efficientNet_model.compile(optimizer=Adam(learning_rate=0.001), \n",
        "                  loss='categorical_crossentropy',\n",
        "                  metrics=['accuracy'])\n",
        "\n",
        "n_epochs = 50"
      ],
      "id": "1f14e592"
    },
    {
      "cell_type": "code",
      "execution_count": 29,
      "metadata": {
        "id": "2e1111c0"
      },
      "outputs": [],
      "source": [
        "modelCheckpoint = ModelCheckpoint(filepath='efficient_best.hdf5',\n",
        "                                  save_best_only=True,\n",
        "                                     verbose=1)\n",
        "\n",
        "early_stop = EarlyStopping(monitor='val_loss',\n",
        "                           patience=10,\n",
        "                           restore_best_weights=True,\n",
        "                           mode='min')"
      ],
      "id": "2e1111c0"
    },
    {
      "cell_type": "code",
      "execution_count": 30,
      "metadata": {
        "colab": {
          "base_uri": "https://localhost:8080/"
        },
        "id": "42584b4b",
        "outputId": "87c1c5ad-32ac-4a54-e90b-9f029e588c86"
      },
      "outputs": [
        {
          "output_type": "stream",
          "name": "stdout",
          "text": [
            "Epoch 1/50\n",
            "483/483 [==============================] - ETA: 0s - loss: 2.5338 - accuracy: 0.6733\n",
            "Epoch 1: val_loss improved from inf to 0.40824, saving model to efficient_best.hdf5\n",
            "483/483 [==============================] - 1679s 3s/step - loss: 2.5338 - accuracy: 0.6733 - val_loss: 0.4082 - val_accuracy: 0.9040\n",
            "Epoch 2/50\n",
            "483/483 [==============================] - ETA: 0s - loss: 0.7880 - accuracy: 0.7807\n",
            "Epoch 2: val_loss improved from 0.40824 to 0.38699, saving model to efficient_best.hdf5\n",
            "483/483 [==============================] - 46s 96ms/step - loss: 0.7880 - accuracy: 0.7807 - val_loss: 0.3870 - val_accuracy: 0.9040\n",
            "Epoch 3/50\n",
            "483/483 [==============================] - ETA: 0s - loss: 0.5605 - accuracy: 0.8126\n",
            "Epoch 3: val_loss improved from 0.38699 to 0.25096, saving model to efficient_best.hdf5\n",
            "483/483 [==============================] - 45s 93ms/step - loss: 0.5605 - accuracy: 0.8126 - val_loss: 0.2510 - val_accuracy: 0.9328\n",
            "Epoch 4/50\n",
            "483/483 [==============================] - ETA: 0s - loss: 0.5302 - accuracy: 0.8445\n",
            "Epoch 4: val_loss did not improve from 0.25096\n",
            "483/483 [==============================] - 44s 92ms/step - loss: 0.5302 - accuracy: 0.8445 - val_loss: 0.3631 - val_accuracy: 0.9213\n",
            "Epoch 5/50\n",
            "483/483 [==============================] - ETA: 0s - loss: 0.5069 - accuracy: 0.8520\n",
            "Epoch 5: val_loss improved from 0.25096 to 0.23523, saving model to efficient_best.hdf5\n",
            "483/483 [==============================] - 45s 94ms/step - loss: 0.5069 - accuracy: 0.8520 - val_loss: 0.2352 - val_accuracy: 0.9367\n",
            "Epoch 6/50\n",
            "483/483 [==============================] - ETA: 0s - loss: 0.4820 - accuracy: 0.8595\n",
            "Epoch 6: val_loss improved from 0.23523 to 0.22025, saving model to efficient_best.hdf5\n",
            "483/483 [==============================] - 46s 95ms/step - loss: 0.4820 - accuracy: 0.8595 - val_loss: 0.2203 - val_accuracy: 0.9424\n",
            "Epoch 7/50\n",
            "483/483 [==============================] - ETA: 0s - loss: 0.4320 - accuracy: 0.8694\n",
            "Epoch 7: val_loss improved from 0.22025 to 0.19875, saving model to efficient_best.hdf5\n",
            "483/483 [==============================] - 45s 93ms/step - loss: 0.4320 - accuracy: 0.8694 - val_loss: 0.1988 - val_accuracy: 0.9539\n",
            "Epoch 8/50\n",
            "483/483 [==============================] - ETA: 0s - loss: 0.3898 - accuracy: 0.8810\n",
            "Epoch 8: val_loss improved from 0.19875 to 0.14244, saving model to efficient_best.hdf5\n",
            "483/483 [==============================] - 45s 94ms/step - loss: 0.3898 - accuracy: 0.8810 - val_loss: 0.1424 - val_accuracy: 0.9635\n",
            "Epoch 9/50\n",
            "483/483 [==============================] - ETA: 0s - loss: 0.3699 - accuracy: 0.8964\n",
            "Epoch 9: val_loss improved from 0.14244 to 0.14182, saving model to efficient_best.hdf5\n",
            "483/483 [==============================] - 46s 95ms/step - loss: 0.3699 - accuracy: 0.8964 - val_loss: 0.1418 - val_accuracy: 0.9501\n",
            "Epoch 10/50\n",
            "483/483 [==============================] - ETA: 0s - loss: 0.3709 - accuracy: 0.8930\n",
            "Epoch 10: val_loss did not improve from 0.14182\n",
            "483/483 [==============================] - 44s 92ms/step - loss: 0.3709 - accuracy: 0.8930 - val_loss: 0.1538 - val_accuracy: 0.9616\n",
            "Epoch 11/50\n",
            "483/483 [==============================] - ETA: 0s - loss: 0.3677 - accuracy: 0.8934\n",
            "Epoch 11: val_loss did not improve from 0.14182\n",
            "483/483 [==============================] - 44s 92ms/step - loss: 0.3677 - accuracy: 0.8934 - val_loss: 0.1702 - val_accuracy: 0.9712\n",
            "Epoch 12/50\n",
            "483/483 [==============================] - ETA: 0s - loss: 0.3832 - accuracy: 0.8860\n",
            "Epoch 12: val_loss did not improve from 0.14182\n",
            "483/483 [==============================] - 44s 92ms/step - loss: 0.3832 - accuracy: 0.8860 - val_loss: 0.2487 - val_accuracy: 0.9539\n",
            "Epoch 13/50\n",
            "483/483 [==============================] - ETA: 0s - loss: 0.3688 - accuracy: 0.8881\n",
            "Epoch 13: val_loss did not improve from 0.14182\n",
            "483/483 [==============================] - 44s 91ms/step - loss: 0.3688 - accuracy: 0.8881 - val_loss: 0.1880 - val_accuracy: 0.9501\n",
            "Epoch 14/50\n",
            "483/483 [==============================] - ETA: 0s - loss: 0.3829 - accuracy: 0.8984\n",
            "Epoch 14: val_loss did not improve from 0.14182\n",
            "483/483 [==============================] - 44s 91ms/step - loss: 0.3829 - accuracy: 0.8984 - val_loss: 0.2311 - val_accuracy: 0.9501\n",
            "Epoch 15/50\n",
            "483/483 [==============================] - ETA: 0s - loss: 0.3645 - accuracy: 0.8959\n",
            "Epoch 15: val_loss improved from 0.14182 to 0.14087, saving model to efficient_best.hdf5\n",
            "483/483 [==============================] - 45s 93ms/step - loss: 0.3645 - accuracy: 0.8959 - val_loss: 0.1409 - val_accuracy: 0.9501\n",
            "Epoch 16/50\n",
            "483/483 [==============================] - ETA: 0s - loss: 0.3382 - accuracy: 0.8959\n",
            "Epoch 16: val_loss did not improve from 0.14087\n",
            "483/483 [==============================] - 45s 92ms/step - loss: 0.3382 - accuracy: 0.8959 - val_loss: 0.2190 - val_accuracy: 0.9463\n",
            "Epoch 17/50\n",
            "483/483 [==============================] - ETA: 0s - loss: 0.3461 - accuracy: 0.9063\n",
            "Epoch 17: val_loss improved from 0.14087 to 0.11185, saving model to efficient_best.hdf5\n",
            "483/483 [==============================] - 45s 93ms/step - loss: 0.3461 - accuracy: 0.9063 - val_loss: 0.1118 - val_accuracy: 0.9578\n",
            "Epoch 18/50\n",
            "483/483 [==============================] - ETA: 0s - loss: 0.3201 - accuracy: 0.9158\n",
            "Epoch 18: val_loss did not improve from 0.11185\n",
            "483/483 [==============================] - 45s 94ms/step - loss: 0.3201 - accuracy: 0.9158 - val_loss: 0.2016 - val_accuracy: 0.9463\n",
            "Epoch 19/50\n",
            "483/483 [==============================] - ETA: 0s - loss: 0.4058 - accuracy: 0.8955\n",
            "Epoch 19: val_loss did not improve from 0.11185\n",
            "483/483 [==============================] - 45s 94ms/step - loss: 0.4058 - accuracy: 0.8955 - val_loss: 0.2584 - val_accuracy: 0.9482\n",
            "Epoch 20/50\n",
            "483/483 [==============================] - ETA: 0s - loss: 0.3164 - accuracy: 0.9225\n",
            "Epoch 20: val_loss did not improve from 0.11185\n",
            "483/483 [==============================] - 45s 94ms/step - loss: 0.3164 - accuracy: 0.9225 - val_loss: 0.2072 - val_accuracy: 0.9597\n",
            "Epoch 21/50\n",
            "483/483 [==============================] - ETA: 0s - loss: 0.2878 - accuracy: 0.9221\n",
            "Epoch 21: val_loss did not improve from 0.11185\n",
            "483/483 [==============================] - 45s 94ms/step - loss: 0.2878 - accuracy: 0.9221 - val_loss: 0.1956 - val_accuracy: 0.9520\n",
            "Epoch 22/50\n",
            "483/483 [==============================] - ETA: 0s - loss: 0.2385 - accuracy: 0.9357\n",
            "Epoch 22: val_loss did not improve from 0.11185\n",
            "483/483 [==============================] - 45s 94ms/step - loss: 0.2385 - accuracy: 0.9357 - val_loss: 0.2263 - val_accuracy: 0.9520\n",
            "Epoch 23/50\n",
            "483/483 [==============================] - ETA: 0s - loss: 0.2954 - accuracy: 0.9312\n",
            "Epoch 23: val_loss did not improve from 0.11185\n",
            "483/483 [==============================] - 45s 94ms/step - loss: 0.2954 - accuracy: 0.9312 - val_loss: 0.1925 - val_accuracy: 0.9559\n",
            "Epoch 24/50\n",
            "483/483 [==============================] - ETA: 0s - loss: 0.2692 - accuracy: 0.9308\n",
            "Epoch 24: val_loss did not improve from 0.11185\n",
            "483/483 [==============================] - 45s 94ms/step - loss: 0.2692 - accuracy: 0.9308 - val_loss: 0.2600 - val_accuracy: 0.9635\n",
            "Epoch 25/50\n",
            "483/483 [==============================] - ETA: 0s - loss: 0.2455 - accuracy: 0.9366\n",
            "Epoch 25: val_loss did not improve from 0.11185\n",
            "483/483 [==============================] - 46s 94ms/step - loss: 0.2455 - accuracy: 0.9366 - val_loss: 0.4402 - val_accuracy: 0.9597\n",
            "Epoch 26/50\n",
            "483/483 [==============================] - ETA: 0s - loss: 0.2717 - accuracy: 0.9382\n",
            "Epoch 26: val_loss did not improve from 0.11185\n",
            "483/483 [==============================] - 45s 94ms/step - loss: 0.2717 - accuracy: 0.9382 - val_loss: 0.2181 - val_accuracy: 0.9655\n",
            "Epoch 27/50\n",
            "483/483 [==============================] - ETA: 0s - loss: 0.2362 - accuracy: 0.9391\n",
            "Epoch 27: val_loss did not improve from 0.11185\n",
            "483/483 [==============================] - 45s 94ms/step - loss: 0.2362 - accuracy: 0.9391 - val_loss: 0.2780 - val_accuracy: 0.9578\n"
          ]
        }
      ],
      "source": [
        "efficientNet_history = efficientNet_model.fit(train_generator,\n",
        "                            epochs = n_epochs,\n",
        "                            batch_size = 5,\n",
        "                            validation_data = valid_generator,\n",
        "                            callbacks=[modelCheckpoint, early_stop],\n",
        "                            verbose=1)"
      ],
      "id": "42584b4b"
    },
    {
      "cell_type": "code",
      "execution_count": 31,
      "metadata": {
        "colab": {
          "base_uri": "https://localhost:8080/",
          "height": 472
        },
        "id": "8c344fb4",
        "outputId": "f011cfb9-fe29-4347-9e8a-aab862fd49b1"
      },
      "outputs": [
        {
          "output_type": "display_data",
          "data": {
            "text/plain": [
              "<Figure size 640x480 with 1 Axes>"
            ],
            "image/png": "[encoded data removed]"
          },
          "metadata": {}
        }
      ],
      "source": [
        "plot_epoch_vs_acc(efficientNet_history)"
      ],
      "id": "8c344fb4"
    },
    {
      "cell_type": "code",
      "execution_count": 32,
      "metadata": {
        "id": "1859c577"
      },
      "outputs": [],
      "source": [
        "efficientNet_model.load_weights('efficient_best.hdf5')"
      ],
      "id": "1859c577"
    },
    {
      "cell_type": "code",
      "source": [
        "print('Accuracy of EfficientNet Training as found in the epoch logs', 0.8959)"
      ],
      "metadata": {
        "colab": {
          "base_uri": "https://localhost:8080/"
        },
        "id": "BDPnfwRfU77i",
        "outputId": "7d0fa7c6-b17c-47dd-df4c-bd7693b95093"
      },
      "id": "BDPnfwRfU77i",
      "execution_count": 78,
      "outputs": [
        {
          "output_type": "stream",
          "name": "stdout",
          "text": [
            "Accuracy of EfficientNet Training as found in the epoch logs 0.8959\n"
          ]
        }
      ]
    },
    {
      "cell_type": "code",
      "execution_count": 33,
      "metadata": {
        "colab": {
          "base_uri": "https://localhost:8080/"
        },
        "id": "46337fd8",
        "outputId": "329c98c3-a286-4cbf-aa67-f307d12e5fdf"
      },
      "outputs": [
        {
          "output_type": "stream",
          "name": "stdout",
          "text": [
            "511/511 [==============================] - 250s 488ms/step\n",
            "              precision    recall  f1-score   support\n",
            "\n",
            "           0       0.92      0.95      0.94       111\n",
            "           1       0.94      0.90      0.92       106\n",
            "           2       0.85      0.97      0.90        86\n",
            "           3       0.96      0.87      0.91       101\n",
            "           4       0.90      0.89      0.90       107\n",
            "\n",
            "    accuracy                           0.91       511\n",
            "   macro avg       0.91      0.92      0.91       511\n",
            "weighted avg       0.92      0.91      0.91       511\n",
            "\n",
            "[[106   1   1   1   2]\n",
            " [  3  95   3   2   3]\n",
            " [  0   2  83   0   1]\n",
            " [  6   2   1  88   4]\n",
            " [  0   1  10   1  95]]\n"
          ]
        }
      ],
      "source": [
        "printResults(efficientNet_model,test_generator)\n"
      ],
      "id": "46337fd8"
    },
    {
      "cell_type": "code",
      "execution_count": 66,
      "metadata": {
        "colab": {
          "base_uri": "https://localhost:8080/"
        },
        "id": "ctafW2cbqNFG",
        "outputId": "4ea35cb6-88a9-413d-bcf5-eb54d145365b"
      },
      "outputs": [
        {
          "output_type": "stream",
          "name": "stdout",
          "text": [
            " 482/2412 [====>.........................] - ETA: 2:48"
          ]
        },
        {
          "output_type": "stream",
          "name": "stderr",
          "text": [
            "WARNING:tensorflow:Your input ran out of data; interrupting training. Make sure that your dataset or generator can generate at least `steps_per_epoch * epochs` batches (in this case, 2412 batches). You may need to use the repeat() function when building your dataset.\n"
          ]
        },
        {
          "output_type": "stream",
          "name": "stdout",
          "text": [
            "\b\b\b\b\b\b\b\b\b\b\b\b\b\b\b\b\b\b\b\b\b\b\b\b\b\b\b\b\b\b\b\b\b\b\b\b\b\b\b\b\b\b\b\b\b\b\b\b\b\b\b\b\b\b\r2412/2412 [==============================] - 42s 17ms/step\n",
            "Precision: 0.21\n",
            "Recall: 0.20\n",
            "F1-score: 0.20\n",
            "Confusion Matrix:\n",
            "[[134 194  55  61  85]\n",
            " [114 180  49  75  82]\n",
            " [ 93 150  40  49  72]\n",
            " [103 189  34  67  84]\n",
            " [128 189  34  65  86]]\n"
          ]
        }
      ],
      "source": [
        "printResultsTraining(efficientNet_model,train_generator)"
      ],
      "id": "ctafW2cbqNFG"
    },
    {
      "cell_type": "markdown",
      "source": [
        "While reusing validation and testset we will run the model only uptil the epoch where it stopped when we ran it just for training data."
      ],
      "metadata": {
        "id": "b2jUZDR4JPPY"
      },
      "id": "b2jUZDR4JPPY"
    },
    {
      "cell_type": "code",
      "execution_count": 41,
      "metadata": {
        "colab": {
          "base_uri": "https://localhost:8080/"
        },
        "id": "1Nx--1-qWm0k",
        "outputId": "de6ab9fc-3572-4a25-fd96-cc40d2b8b09e"
      },
      "outputs": [
        {
          "output_type": "stream",
          "name": "stdout",
          "text": [
            "Epoch 1/27\n",
            "689/689 [==============================] - 62s 90ms/step - loss: 1.0611 - accuracy: 0.5810\n",
            "Epoch 2/27\n",
            "689/689 [==============================] - 62s 90ms/step - loss: 1.0383 - accuracy: 0.5993\n",
            "Epoch 3/27\n",
            "689/689 [==============================] - 62s 90ms/step - loss: 1.0363 - accuracy: 0.5900\n",
            "Epoch 4/27\n",
            "689/689 [==============================] - 62s 90ms/step - loss: 1.0789 - accuracy: 0.5932\n",
            "Epoch 5/27\n",
            "689/689 [==============================] - 62s 90ms/step - loss: 1.0878 - accuracy: 0.5894\n",
            "Epoch 6/27\n",
            "689/689 [==============================] - 62s 90ms/step - loss: 1.0572 - accuracy: 0.5857\n",
            "Epoch 7/27\n",
            "689/689 [==============================] - 62s 90ms/step - loss: 1.0168 - accuracy: 0.6031\n",
            "Epoch 8/27\n",
            "689/689 [==============================] - 62s 90ms/step - loss: 1.0004 - accuracy: 0.6092\n",
            "Epoch 9/27\n",
            "689/689 [==============================] - 62s 90ms/step - loss: 1.0524 - accuracy: 0.6022\n",
            "Epoch 10/27\n",
            "689/689 [==============================] - 62s 90ms/step - loss: 1.0503 - accuracy: 0.6086\n",
            "Epoch 11/27\n",
            "689/689 [==============================] - 62s 90ms/step - loss: 1.0101 - accuracy: 0.6063\n",
            "Epoch 12/27\n",
            "689/689 [==============================] - 62s 90ms/step - loss: 1.0742 - accuracy: 0.6002\n",
            "Epoch 13/27\n",
            "689/689 [==============================] - 62s 90ms/step - loss: 0.9600 - accuracy: 0.6324\n",
            "Epoch 14/27\n",
            "689/689 [==============================] - 62s 90ms/step - loss: 1.0180 - accuracy: 0.6066\n",
            "Epoch 15/27\n",
            "689/689 [==============================] - 62s 90ms/step - loss: 1.0449 - accuracy: 0.6086\n",
            "Epoch 16/27\n",
            "689/689 [==============================] - 62s 90ms/step - loss: 0.9903 - accuracy: 0.6130\n",
            "Epoch 17/27\n",
            "689/689 [==============================] - 62s 90ms/step - loss: 1.0098 - accuracy: 0.6083\n",
            "Epoch 18/27\n",
            "689/689 [==============================] - 62s 90ms/step - loss: 1.0079 - accuracy: 0.6095\n",
            "Epoch 19/27\n",
            "689/689 [==============================] - 62s 90ms/step - loss: 1.0179 - accuracy: 0.6188\n",
            "Epoch 20/27\n",
            "689/689 [==============================] - 62s 89ms/step - loss: 0.9840 - accuracy: 0.6202\n",
            "Epoch 21/27\n",
            "689/689 [==============================] - 61s 89ms/step - loss: 1.0326 - accuracy: 0.6193\n",
            "Epoch 22/27\n",
            "689/689 [==============================] - 62s 89ms/step - loss: 0.9739 - accuracy: 0.6280\n",
            "Epoch 23/27\n",
            "689/689 [==============================] - 62s 90ms/step - loss: 0.9735 - accuracy: 0.6185\n"
          ]
        }
      ],
      "source": [
        "modelCheckpointFull = ModelCheckpoint(filepath='efficient_best.hdf5',\n",
        "                                  save_weights_only=True,\n",
        "                                  save_best_only = True,\n",
        "                                  verbose=1)\n",
        "early_stop_full = EarlyStopping(monitor='loss',\n",
        "                           patience=10,\n",
        "                           restore_best_weights=True,\n",
        "                           mode='min')\n",
        "\n",
        "efficientNet_history_full = efficientNet_model.fit(entire_generator_vgg,\n",
        "                            epochs = 27,\n",
        "                            batch_size=5,\n",
        "                            callbacks = [tf.keras.callbacks.EarlyStopping(monitor='loss', patience=10)],\n",
        "                            verbose=1)"
      ],
      "id": "1Nx--1-qWm0k"
    },
    {
      "cell_type": "code",
      "execution_count": 42,
      "metadata": {
        "id": "DwrEJsw2WnIt"
      },
      "outputs": [],
      "source": [
        "efficientNet_model.save('efficient_best.hdf5')"
      ],
      "id": "DwrEJsw2WnIt"
    },
    {
      "cell_type": "code",
      "execution_count": 43,
      "metadata": {
        "id": "seZMigH8WnoL"
      },
      "outputs": [],
      "source": [
        "# from sklearn.metrics import precision_score, recall_score, f1_score, confusion_matrix\n",
        "\n",
        "# def printResultsTraining(model,test_generator):\n",
        "#     filenames = test_generator.filenames\n",
        "#     nb_samples = len(filenames)\n",
        "#     y_predict = model.predict(test_generator,steps = nb_samples)\n",
        "#     predicted_labels = np.argmax(y_predict,axis=1)\n",
        "#     y_true = np.argmax(test_generator.labels,axis=1)\n",
        "#     precision = precision_score(y_true, predicted_labels, average='macro')\n",
        "#     recall = recall_score(y_true, predicted_labels, average='macro')\n",
        "#     f1 = f1_score(y_true, predicted_labels, average='macro')\n",
        "#     print(f\"Precision: {precision:.2f}\")\n",
        "#     print(f\"Recall: {recall:.2f}\")\n",
        "#     print(f\"F1-score: {f1:.2f}\")\n",
        "#     print(\"Confusion Matrix:\")\n",
        "#     print(confusion_matrix(y_true, predicted_labels))"
      ],
      "id": "seZMigH8WnoL"
    },
    {
      "cell_type": "markdown",
      "source": [
        "The training accuracy can be seen in the epoch logs above"
      ],
      "metadata": {
        "id": "ok1wbFcn7isB"
      },
      "id": "ok1wbFcn7isB"
    },
    {
      "cell_type": "code",
      "execution_count": 53,
      "metadata": {
        "id": "k-6Sm5qL5z_P"
      },
      "outputs": [],
      "source": [
        "y_true = test_generator.labels"
      ],
      "id": "k-6Sm5qL5z_P"
    },
    {
      "cell_type": "code",
      "execution_count": 67,
      "metadata": {
        "id": "Ff-m1tj1uYKS"
      },
      "outputs": [],
      "source": [
        "conv_base = ResNet50(include_top=False, weights='imagenet', input_shape=input_shape)\n",
        "conv_base.trainable=False\n",
        "\n",
        "best_model = conv_base.output\n",
        "best_model = Flatten(name=\"flatten\")(best_model)\n",
        "best_model = BatchNormalization()(best_model)\n",
        "best_model = Dense(200, activation='relu')(best_model)\n",
        "best_model = Dense(100, activation='relu')(best_model)\n",
        "best_model = Dropout(0.2)(best_model)\n",
        "output_layer = Dense(n_classes, activation='softmax')(best_model)\n",
        "\n",
        "resnet_model = Model(inputs=conv_base.input, outputs=output_layer)\n",
        "\n",
        "resnet_model.compile(optimizer=Adam(learning_rate=0.001), \n",
        "                     loss='categorical_crossentropy',\n",
        "                     metrics=['accuracy'])\n",
        "\n",
        "n_epochs = 50"
      ],
      "id": "Ff-m1tj1uYKS"
    },
    {
      "cell_type": "code",
      "execution_count": 68,
      "metadata": {
        "id": "4e2auNDtuYa_"
      },
      "outputs": [],
      "source": [
        "modelCheckpoint = ModelCheckpoint(filepath='resnet_best.hdf5',\n",
        "                                  save_best_only=True,\n",
        "                                  verbose=1)\n",
        "\n",
        "early_stop = EarlyStopping(monitor='val_loss',\n",
        "                           patience=10,\n",
        "                           restore_best_weights=True,\n",
        "                           mode='min')"
      ],
      "id": "4e2auNDtuYa_"
    },
    {
      "cell_type": "code",
      "execution_count": 69,
      "metadata": {
        "colab": {
          "base_uri": "https://localhost:8080/"
        },
        "id": "2_gsR2uBuYpn",
        "outputId": "97c93d73-382f-48ef-cc5a-6df4b81bce6d"
      },
      "outputs": [
        {
          "output_type": "stream",
          "name": "stdout",
          "text": [
            "Epoch 1/50\n",
            "483/483 [==============================] - ETA: 0s - loss: 3.5482 - accuracy: 0.5871\n",
            "Epoch 1: val_loss improved from inf to 1.66853, saving model to resnet_best.hdf5\n",
            "483/483 [==============================] - 51s 99ms/step - loss: 3.5482 - accuracy: 0.5871 - val_loss: 1.6685 - val_accuracy: 0.7620\n",
            "Epoch 2/50\n",
            "483/483 [==============================] - ETA: 0s - loss: 1.0523 - accuracy: 0.7019\n",
            "Epoch 2: val_loss improved from 1.66853 to 0.81900, saving model to resnet_best.hdf5\n",
            "483/483 [==============================] - 46s 96ms/step - loss: 1.0523 - accuracy: 0.7019 - val_loss: 0.8190 - val_accuracy: 0.8100\n",
            "Epoch 3/50\n",
            "483/483 [==============================] - ETA: 0s - loss: 0.7524 - accuracy: 0.7492\n",
            "Epoch 3: val_loss improved from 0.81900 to 0.67671, saving model to resnet_best.hdf5\n",
            "483/483 [==============================] - 46s 95ms/step - loss: 0.7524 - accuracy: 0.7492 - val_loss: 0.6767 - val_accuracy: 0.8330\n",
            "Epoch 4/50\n",
            "483/483 [==============================] - ETA: 0s - loss: 0.6830 - accuracy: 0.7732\n",
            "Epoch 4: val_loss improved from 0.67671 to 0.63026, saving model to resnet_best.hdf5\n",
            "483/483 [==============================] - 46s 95ms/step - loss: 0.6830 - accuracy: 0.7732 - val_loss: 0.6303 - val_accuracy: 0.8618\n",
            "Epoch 5/50\n",
            "483/483 [==============================] - ETA: 0s - loss: 0.5610 - accuracy: 0.8047\n",
            "Epoch 5: val_loss did not improve from 0.63026\n",
            "483/483 [==============================] - 45s 92ms/step - loss: 0.5610 - accuracy: 0.8047 - val_loss: 0.7563 - val_accuracy: 0.8541\n",
            "Epoch 6/50\n",
            "483/483 [==============================] - ETA: 0s - loss: 0.6326 - accuracy: 0.8022\n",
            "Epoch 6: val_loss improved from 0.63026 to 0.60806, saving model to resnet_best.hdf5\n",
            "483/483 [==============================] - 46s 95ms/step - loss: 0.6326 - accuracy: 0.8022 - val_loss: 0.6081 - val_accuracy: 0.8599\n",
            "Epoch 7/50\n",
            "483/483 [==============================] - ETA: 0s - loss: 0.5474 - accuracy: 0.8205\n",
            "Epoch 7: val_loss did not improve from 0.60806\n",
            "483/483 [==============================] - 45s 93ms/step - loss: 0.5474 - accuracy: 0.8205 - val_loss: 0.7430 - val_accuracy: 0.8522\n",
            "Epoch 8/50\n",
            "483/483 [==============================] - ETA: 0s - loss: 0.5594 - accuracy: 0.8267\n",
            "Epoch 8: val_loss did not improve from 0.60806\n",
            "483/483 [==============================] - 44s 92ms/step - loss: 0.5594 - accuracy: 0.8267 - val_loss: 0.6438 - val_accuracy: 0.8733\n",
            "Epoch 9/50\n",
            "483/483 [==============================] - ETA: 0s - loss: 0.5636 - accuracy: 0.8325\n",
            "Epoch 9: val_loss did not improve from 0.60806\n",
            "483/483 [==============================] - 44s 92ms/step - loss: 0.5636 - accuracy: 0.8325 - val_loss: 0.6714 - val_accuracy: 0.8791\n",
            "Epoch 10/50\n",
            "483/483 [==============================] - ETA: 0s - loss: 0.5343 - accuracy: 0.8354\n",
            "Epoch 10: val_loss did not improve from 0.60806\n",
            "483/483 [==============================] - 45s 92ms/step - loss: 0.5343 - accuracy: 0.8354 - val_loss: 0.6327 - val_accuracy: 0.8618\n",
            "Epoch 11/50\n",
            "483/483 [==============================] - ETA: 0s - loss: 0.4939 - accuracy: 0.8503\n",
            "Epoch 11: val_loss did not improve from 0.60806\n",
            "483/483 [==============================] - 44s 92ms/step - loss: 0.4939 - accuracy: 0.8503 - val_loss: 0.6936 - val_accuracy: 0.8752\n",
            "Epoch 12/50\n",
            "483/483 [==============================] - ETA: 0s - loss: 0.4877 - accuracy: 0.8478\n",
            "Epoch 12: val_loss did not improve from 0.60806\n",
            "483/483 [==============================] - 44s 92ms/step - loss: 0.4877 - accuracy: 0.8478 - val_loss: 0.8697 - val_accuracy: 0.8676\n",
            "Epoch 13/50\n",
            "483/483 [==============================] - ETA: 0s - loss: 0.4921 - accuracy: 0.8400\n",
            "Epoch 13: val_loss did not improve from 0.60806\n",
            "483/483 [==============================] - 45s 92ms/step - loss: 0.4921 - accuracy: 0.8400 - val_loss: 0.6979 - val_accuracy: 0.8791\n",
            "Epoch 14/50\n",
            "483/483 [==============================] - ETA: 0s - loss: 0.4455 - accuracy: 0.8603\n",
            "Epoch 14: val_loss did not improve from 0.60806\n",
            "483/483 [==============================] - 44s 92ms/step - loss: 0.4455 - accuracy: 0.8603 - val_loss: 0.8094 - val_accuracy: 0.8695\n",
            "Epoch 15/50\n",
            "483/483 [==============================] - ETA: 0s - loss: 0.5441 - accuracy: 0.8449\n",
            "Epoch 15: val_loss did not improve from 0.60806\n",
            "483/483 [==============================] - 45s 92ms/step - loss: 0.5441 - accuracy: 0.8449 - val_loss: 0.7113 - val_accuracy: 0.8791\n",
            "Epoch 16/50\n",
            "483/483 [==============================] - ETA: 0s - loss: 0.4785 - accuracy: 0.8466\n",
            "Epoch 16: val_loss did not improve from 0.60806\n",
            "483/483 [==============================] - 45s 92ms/step - loss: 0.4785 - accuracy: 0.8466 - val_loss: 0.7636 - val_accuracy: 0.8791\n"
          ]
        }
      ],
      "source": [
        "historyofResnet = resnet_model.fit(train_generator,\n",
        "                                  epochs = n_epochs,\n",
        "                                  batch_size = 5,\n",
        "                                  validation_data=valid_generator,\n",
        "                                  callbacks = [modelCheckpoint, early_stop],\n",
        "                                  verbose=1)"
      ],
      "id": "2_gsR2uBuYpn"
    },
    {
      "cell_type": "code",
      "execution_count": 70,
      "metadata": {
        "colab": {
          "base_uri": "https://localhost:8080/",
          "height": 472
        },
        "id": "qpJwMQf9xAcH",
        "outputId": "c16bb551-8e1d-45cc-bfd6-0cfc5171857e"
      },
      "outputs": [
        {
          "output_type": "display_data",
          "data": {
            "text/plain": [
              "<Figure size 640x480 with 1 Axes>"
            ],
            "image/png": "[encoded data removed]"
          },
          "metadata": {}
        }
      ],
      "source": [
        "plot_epoch_vs_acc(historyofResnet)"
      ],
      "id": "qpJwMQf9xAcH"
    },
    {
      "cell_type": "code",
      "execution_count": 71,
      "metadata": {
        "id": "7l7NRPCQxAmn"
      },
      "outputs": [],
      "source": [
        "resnet_model.load_weights('resnet_best.hdf5')"
      ],
      "id": "7l7NRPCQxAmn"
    },
    {
      "cell_type": "code",
      "source": [
        "print('Accuracy of Resnet Training as found in the epoch logs', 0.8466)"
      ],
      "metadata": {
        "colab": {
          "base_uri": "https://localhost:8080/"
        },
        "id": "IlvC2H6GUrQk",
        "outputId": "673e9336-8642-4490-be8c-4db74e250334"
      },
      "id": "IlvC2H6GUrQk",
      "execution_count": 77,
      "outputs": [
        {
          "output_type": "stream",
          "name": "stdout",
          "text": [
            "Accuracy of Resnet Training as found in the epoch logs 0.8466\n"
          ]
        }
      ]
    },
    {
      "cell_type": "code",
      "execution_count": 72,
      "metadata": {
        "colab": {
          "base_uri": "https://localhost:8080/"
        },
        "id": "aDon1zyAxAwJ",
        "outputId": "91b73b61-b1b4-4d12-86a5-acfece9182e9"
      },
      "outputs": [
        {
          "output_type": "stream",
          "name": "stdout",
          "text": [
            "511/511 [==============================] - 7s 12ms/step\n",
            "              precision    recall  f1-score   support\n",
            "\n",
            "           0       0.90      0.91      0.91       111\n",
            "           1       0.85      0.80      0.83       106\n",
            "           2       0.84      0.85      0.84        86\n",
            "           3       0.82      0.92      0.87       101\n",
            "           4       0.89      0.82      0.85       107\n",
            "\n",
            "    accuracy                           0.86       511\n",
            "   macro avg       0.86      0.86      0.86       511\n",
            "weighted avg       0.86      0.86      0.86       511\n",
            "\n",
            "[[101   3   4   2   1]\n",
            " [  4  85   3   8   6]\n",
            " [  4   3  73   4   2]\n",
            " [  1   4   1  93   2]\n",
            " [  2   5   6   6  88]]\n"
          ]
        }
      ],
      "source": [
        "printResults(resnet_model,test_generator)"
      ],
      "id": "aDon1zyAxAwJ"
    },
    {
      "cell_type": "code",
      "source": [
        "printResultsTraining(resnet_model,train_generator)"
      ],
      "metadata": {
        "colab": {
          "base_uri": "https://localhost:8080/"
        },
        "id": "WXlG-9efKGVn",
        "outputId": "18664ea6-6694-427f-df93-3aebbea25b72"
      },
      "id": "WXlG-9efKGVn",
      "execution_count": 76,
      "outputs": [
        {
          "output_type": "stream",
          "name": "stdout",
          "text": [
            " 482/2412 [====>.........................] - ETA: 2:47"
          ]
        },
        {
          "output_type": "stream",
          "name": "stderr",
          "text": [
            "WARNING:tensorflow:Your input ran out of data; interrupting training. Make sure that your dataset or generator can generate at least `steps_per_epoch * epochs` batches (in this case, 2412 batches). You may need to use the repeat() function when building your dataset.\n"
          ]
        },
        {
          "output_type": "stream",
          "name": "stdout",
          "text": [
            "\b\b\b\b\b\b\b\b\b\b\b\b\b\b\b\b\b\b\b\b\b\b\b\b\b\b\b\b\b\b\b\b\b\b\b\b\b\b\b\b\b\b\b\b\b\b\b\b\b\b\b\b\b\b\r2412/2412 [==============================] - 42s 17ms/step\n",
            "Precision: 0.20\n",
            "Recall: 0.20\n",
            "F1-score: 0.19\n",
            "Confusion Matrix:\n",
            "[[ 48 106  74 227  74]\n",
            " [ 54 103  55 220  68]\n",
            " [ 37  70  61 172  64]\n",
            " [ 40  95  77 200  65]\n",
            " [ 59 105  54 215  69]]\n"
          ]
        }
      ]
    },
    {
      "cell_type": "code",
      "execution_count": 74,
      "metadata": {
        "colab": {
          "base_uri": "https://localhost:8080/"
        },
        "id": "Mh0kdjsUhFDG",
        "outputId": "70c476eb-3b00-4c78-ade6-3c70544d37ab"
      },
      "outputs": [
        {
          "output_type": "stream",
          "name": "stdout",
          "text": [
            "Epoch 1/16\n",
            "689/689 [==============================] - 63s 92ms/step - loss: 0.8810 - accuracy: 0.7419\n",
            "Epoch 2/16\n",
            "689/689 [==============================] - 62s 90ms/step - loss: 0.5778 - accuracy: 0.8162\n",
            "Epoch 3/16\n",
            "689/689 [==============================] - 62s 90ms/step - loss: 0.5490 - accuracy: 0.8301\n",
            "Epoch 4/16\n",
            "689/689 [==============================] - 62s 90ms/step - loss: 0.4935 - accuracy: 0.8481\n",
            "Epoch 5/16\n",
            "689/689 [==============================] - 62s 90ms/step - loss: 0.4762 - accuracy: 0.8481\n",
            "Epoch 6/16\n",
            "689/689 [==============================] - 62s 90ms/step - loss: 0.4655 - accuracy: 0.8574\n",
            "Epoch 7/16\n",
            "689/689 [==============================] - 62s 90ms/step - loss: 0.4495 - accuracy: 0.8609\n",
            "Epoch 8/16\n",
            "689/689 [==============================] - 62s 90ms/step - loss: 0.4095 - accuracy: 0.8696\n",
            "Epoch 9/16\n",
            "689/689 [==============================] - 62s 90ms/step - loss: 0.4105 - accuracy: 0.8798\n",
            "Epoch 10/16\n",
            "689/689 [==============================] - 63s 91ms/step - loss: 0.4570 - accuracy: 0.8763\n",
            "Epoch 11/16\n",
            "689/689 [==============================] - 62s 90ms/step - loss: 0.4790 - accuracy: 0.8661\n",
            "Epoch 12/16\n",
            "689/689 [==============================] - 62s 90ms/step - loss: 0.3761 - accuracy: 0.8920\n",
            "Epoch 13/16\n",
            "689/689 [==============================] - 62s 90ms/step - loss: 0.3859 - accuracy: 0.8926\n",
            "Epoch 14/16\n",
            "689/689 [==============================] - 62s 90ms/step - loss: 0.3444 - accuracy: 0.8975\n",
            "Epoch 15/16\n",
            "689/689 [==============================] - 62s 90ms/step - loss: 0.3841 - accuracy: 0.8885\n",
            "Epoch 16/16\n",
            "689/689 [==============================] - 62s 90ms/step - loss: 0.3225 - accuracy: 0.9111\n"
          ]
        }
      ],
      "source": [
        "modelCheckpointFull = ModelCheckpoint(filepath='resnet_best.hdf5',\n",
        "                                  save_weights_only=True,\n",
        "                                  save_best_only = True,\n",
        "                                  verbose=1)\n",
        "early_stop_full = EarlyStopping(monitor='loss',\n",
        "                           patience=10,\n",
        "                           restore_best_weights=True,\n",
        "                           mode='min')\n",
        "\n",
        "historyofResnet_full = resnet_model.fit(entire_generator_vgg,\n",
        "                            epochs = 16,\n",
        "                            batch_size=5,\n",
        "                            callbacks = [tf.keras.callbacks.EarlyStopping(monitor='loss', patience=10)],\n",
        "                            verbose=1)"
      ],
      "id": "Mh0kdjsUhFDG"
    },
    {
      "cell_type": "code",
      "execution_count": 75,
      "metadata": {
        "id": "TbJqQBwYhFOP"
      },
      "outputs": [],
      "source": [
        "resnet_model.save('resnet_best.hdf5')"
      ],
      "id": "TbJqQBwYhFOP"
    },
    {
      "cell_type": "code",
      "execution_count": 63,
      "metadata": {
        "colab": {
          "base_uri": "https://localhost:8080/",
          "height": 424
        },
        "id": "9swf9p5rmy0w",
        "outputId": "b123ab1a-c08c-4af2-d0e2-d61edf53b012"
      },
      "outputs": [
        {
          "output_type": "execute_result",
          "data": {
            "text/plain": [
              "                                               filepath dataset label  \\\n",
              "0     /content/drive/MyDrive/Colab Notebooks/Data/Sp...   train     0   \n",
              "1     /content/drive/MyDrive/Colab Notebooks/Data/Sp...   train     0   \n",
              "2     /content/drive/MyDrive/Colab Notebooks/Data/Sp...   train     0   \n",
              "3     /content/drive/MyDrive/Colab Notebooks/Data/Sp...   train     0   \n",
              "4     /content/drive/MyDrive/Colab Notebooks/Data/Sp...   train     0   \n",
              "...                                                 ...     ...   ...   \n",
              "3460  /content/drive/MyDrive/Colab Notebooks/Data/Sp...    test     4   \n",
              "3461  /content/drive/MyDrive/Colab Notebooks/Data/Sp...    test     4   \n",
              "3462  /content/drive/MyDrive/Colab Notebooks/Data/Sp...    test     4   \n",
              "3463  /content/drive/MyDrive/Colab Notebooks/Data/Sp...    test     4   \n",
              "3464  /content/drive/MyDrive/Colab Notebooks/Data/Sp...    test     4   \n",
              "\n",
              "      class_name  \n",
              "0       baseball  \n",
              "1       baseball  \n",
              "2       baseball  \n",
              "3       baseball  \n",
              "4       baseball  \n",
              "...          ...  \n",
              "3460  volleyball  \n",
              "3461  volleyball  \n",
              "3462  volleyball  \n",
              "3463  volleyball  \n",
              "3464  volleyball  \n",
              "\n",
              "[3465 rows x 4 columns]"
            ],
            "text/html": [
              "\n",
              "  <div id=\"df-d56da278-db1d-46d4-a664-960ba37aec92\">\n",
              "    <div class=\"colab-df-container\">\n",
              "      <div>\n",
              "<style scoped>\n",
              "    .dataframe tbody tr th:only-of-type {\n",
              "        vertical-align: middle;\n",
              "    }\n",
              "\n",
              "    .dataframe tbody tr th {\n",
              "        vertical-align: top;\n",
              "    }\n",
              "\n",
              "    .dataframe thead th {\n",
              "        text-align: right;\n",
              "    }\n",
              "</style>\n",
              "<table border=\"1\" class=\"dataframe\">\n",
              "  <thead>\n",
              "    <tr style=\"text-align: right;\">\n",
              "      <th></th>\n",
              "      <th>filepath</th>\n",
              "      <th>dataset</th>\n",
              "      <th>label</th>\n",
              "      <th>class_name</th>\n",
              "    </tr>\n",
              "  </thead>\n",
              "  <tbody>\n",
              "    <tr>\n",
              "      <th>0</th>\n",
              "      <td>/content/drive/MyDrive/Colab Notebooks/Data/Sp...</td>\n",
              "      <td>train</td>\n",
              "      <td>0</td>\n",
              "      <td>baseball</td>\n",
              "    </tr>\n",
              "    <tr>\n",
              "      <th>1</th>\n",
              "      <td>/content/drive/MyDrive/Colab Notebooks/Data/Sp...</td>\n",
              "      <td>train</td>\n",
              "      <td>0</td>\n",
              "      <td>baseball</td>\n",
              "    </tr>\n",
              "    <tr>\n",
              "      <th>2</th>\n",
              "      <td>/content/drive/MyDrive/Colab Notebooks/Data/Sp...</td>\n",
              "      <td>train</td>\n",
              "      <td>0</td>\n",
              "      <td>baseball</td>\n",
              "    </tr>\n",
              "    <tr>\n",
              "      <th>3</th>\n",
              "      <td>/content/drive/MyDrive/Colab Notebooks/Data/Sp...</td>\n",
              "      <td>train</td>\n",
              "      <td>0</td>\n",
              "      <td>baseball</td>\n",
              "    </tr>\n",
              "    <tr>\n",
              "      <th>4</th>\n",
              "      <td>/content/drive/MyDrive/Colab Notebooks/Data/Sp...</td>\n",
              "      <td>train</td>\n",
              "      <td>0</td>\n",
              "      <td>baseball</td>\n",
              "    </tr>\n",
              "    <tr>\n",
              "      <th>...</th>\n",
              "      <td>...</td>\n",
              "      <td>...</td>\n",
              "      <td>...</td>\n",
              "      <td>...</td>\n",
              "    </tr>\n",
              "    <tr>\n",
              "      <th>3460</th>\n",
              "      <td>/content/drive/MyDrive/Colab Notebooks/Data/Sp...</td>\n",
              "      <td>test</td>\n",
              "      <td>4</td>\n",
              "      <td>volleyball</td>\n",
              "    </tr>\n",
              "    <tr>\n",
              "      <th>3461</th>\n",
              "      <td>/content/drive/MyDrive/Colab Notebooks/Data/Sp...</td>\n",
              "      <td>test</td>\n",
              "      <td>4</td>\n",
              "      <td>volleyball</td>\n",
              "    </tr>\n",
              "    <tr>\n",
              "      <th>3462</th>\n",
              "      <td>/content/drive/MyDrive/Colab Notebooks/Data/Sp...</td>\n",
              "      <td>test</td>\n",
              "      <td>4</td>\n",
              "      <td>volleyball</td>\n",
              "    </tr>\n",
              "    <tr>\n",
              "      <th>3463</th>\n",
              "      <td>/content/drive/MyDrive/Colab Notebooks/Data/Sp...</td>\n",
              "      <td>test</td>\n",
              "      <td>4</td>\n",
              "      <td>volleyball</td>\n",
              "    </tr>\n",
              "    <tr>\n",
              "      <th>3464</th>\n",
              "      <td>/content/drive/MyDrive/Colab Notebooks/Data/Sp...</td>\n",
              "      <td>test</td>\n",
              "      <td>4</td>\n",
              "      <td>volleyball</td>\n",
              "    </tr>\n",
              "  </tbody>\n",
              "</table>\n",
              "<p>3465 rows × 4 columns</p>\n",
              "</div>\n",
              "      <button class=\"colab-df-convert\" onclick=\"convertToInteractive('df-d56da278-db1d-46d4-a664-960ba37aec92')\"\n",
              "              title=\"Convert this dataframe to an interactive table.\"\n",
              "              style=\"display:none;\">\n",
              "        \n",
              "  <svg xmlns=\"http://www.w3.org/2000/svg\" height=\"24px\"viewBox=\"0 0 24 24\"\n",
              "       width=\"24px\">\n",
              "    <path d=\"M0 0h24v24H0V0z\" fill=\"none\"/>\n",
              "    <path d=\"M18.56 5.44l.94 2.06.94-2.06 2.06-.94-2.06-.94-.94-2.06-.94 2.06-2.06.94zm-11 1L8.5 8.5l.94-2.06 2.06-.94-2.06-.94L8.5 2.5l-.94 2.06-2.06.94zm10 10l.94 2.06.94-2.06 2.06-.94-2.06-.94-.94-2.06-.94 2.06-2.06.94z\"/><path d=\"M17.41 7.96l-1.37-1.37c-.4-.4-.92-.59-1.43-.59-.52 0-1.04.2-1.43.59L10.3 9.45l-7.72 7.72c-.78.78-.78 2.05 0 2.83L4 21.41c.39.39.9.59 1.41.59.51 0 1.02-.2 1.41-.59l7.78-7.78 2.81-2.81c.8-.78.8-2.07 0-2.86zM5.41 20L4 18.59l7.72-7.72 1.47 1.35L5.41 20z\"/>\n",
              "  </svg>\n",
              "      </button>\n",
              "      \n",
              "  <style>\n",
              "    .colab-df-container {\n",
              "      display:flex;\n",
              "      flex-wrap:wrap;\n",
              "      gap: 12px;\n",
              "    }\n",
              "\n",
              "    .colab-df-convert {\n",
              "      background-color: #E8F0FE;\n",
              "      border: none;\n",
              "      border-radius: 50%;\n",
              "      cursor: pointer;\n",
              "      display: none;\n",
              "      fill: #1967D2;\n",
              "      height: 32px;\n",
              "      padding: 0 0 0 0;\n",
              "      width: 32px;\n",
              "    }\n",
              "\n",
              "    .colab-df-convert:hover {\n",
              "      background-color: #E2EBFA;\n",
              "      box-shadow: 0px 1px 2px rgba(60, 64, 67, 0.3), 0px 1px 3px 1px rgba(60, 64, 67, 0.15);\n",
              "      fill: #174EA6;\n",
              "    }\n",
              "\n",
              "    [theme=dark] .colab-df-convert {\n",
              "      background-color: #3B4455;\n",
              "      fill: #D2E3FC;\n",
              "    }\n",
              "\n",
              "    [theme=dark] .colab-df-convert:hover {\n",
              "      background-color: #434B5C;\n",
              "      box-shadow: 0px 1px 3px 1px rgba(0, 0, 0, 0.15);\n",
              "      filter: drop-shadow(0px 1px 2px rgba(0, 0, 0, 0.3));\n",
              "      fill: #FFFFFF;\n",
              "    }\n",
              "  </style>\n",
              "\n",
              "      <script>\n",
              "        const buttonEl =\n",
              "          document.querySelector('#df-d56da278-db1d-46d4-a664-960ba37aec92 button.colab-df-convert');\n",
              "        buttonEl.style.display =\n",
              "          google.colab.kernel.accessAllowed ? 'block' : 'none';\n",
              "\n",
              "        async function convertToInteractive(key) {\n",
              "          const element = document.querySelector('#df-d56da278-db1d-46d4-a664-960ba37aec92');\n",
              "          const dataTable =\n",
              "            await google.colab.kernel.invokeFunction('convertToInteractive',\n",
              "                                                     [key], {});\n",
              "          if (!dataTable) return;\n",
              "\n",
              "          const docLinkHtml = 'Like what you see? Visit the ' +\n",
              "            '<a target=\"_blank\" href=https://colab.research.google.com/notebooks/data_table.ipynb>data table notebook</a>'\n",
              "            + ' to learn more about interactive tables.';\n",
              "          element.innerHTML = '';\n",
              "          dataTable['output_type'] = 'display_data';\n",
              "          await google.colab.output.renderOutput(dataTable, element);\n",
              "          const docLink = document.createElement('div');\n",
              "          docLink.innerHTML = docLinkHtml;\n",
              "          element.appendChild(docLink);\n",
              "        }\n",
              "      </script>\n",
              "    </div>\n",
              "  </div>\n",
              "  "
            ]
          },
          "metadata": {},
          "execution_count": 63
        }
      ],
      "source": [
        "data_df"
      ],
      "id": "9swf9p5rmy0w"
    },
    {
      "cell_type": "code",
      "execution_count": 109,
      "metadata": {
        "id": "LtRj-LNnhFdH"
      },
      "outputs": [],
      "source": [
        "batch_size = 5\n",
        "class_name_to_idx = {class_name: i for i, class_name in enumerate(data_df.class_name)}\n",
        "class_name_video_to_class_name_image = {\"/content/drive/MyDrive/Colab Notebooks/Data/Sport Videos/BaseballPitch\":\"baseball\",\"/content/drive/MyDrive/Colab Notebooks/Data/Sport Videos/Basketball\":\"basketball\",\"/content/drive/MyDrive/Colab Notebooks/Data/Sport Videos/Fencing\":\"fencing\",\"/content/drive/MyDrive/Colab Notebooks/Data/Sport Videos/TennisSwing\":\"tennis\",\"/content/drive/MyDrive/Colab Notebooks/Data/Sport Videos/VolleyballSpiking\":\"volleyball\"}\n",
        "# class_name_video_to_class_name_image = {\"/content/drive/MyDrive/Colab Notebooks/Data/SportsTestVideos/BaseballPitch\":\"baseball\",\"/content/drive/MyDrive/Colab Notebooks/Data/SportsTestVideos/Basketball\":\"basketball\",\"/content/drive/MyDrive/Colab Notebooks/Data/SportsTestVideos/Fencing\":\"fencing\",\"/content/drive/MyDrive/Colab Notebooks/Data/SportsTestVideos/TennisSwing\":\"tennis\",\"/content/drive/MyDrive/Colab Notebooks/Data/SportsTestVideos/VolleyballSpiking\":\"volleyball\"}"
      ],
      "id": "LtRj-LNnhFdH"
    },
    {
      "cell_type": "code",
      "source": [
        "data_df"
      ],
      "metadata": {
        "colab": {
          "base_uri": "https://localhost:8080/",
          "height": 424
        },
        "id": "gmIjeVCBAssX",
        "outputId": "8e688d5c-e9f5-4fa3-c2d2-9c6c3c96d16c"
      },
      "id": "gmIjeVCBAssX",
      "execution_count": 110,
      "outputs": [
        {
          "output_type": "execute_result",
          "data": {
            "text/plain": [
              "                                               filepath dataset label  \\\n",
              "0     /content/drive/MyDrive/Colab Notebooks/Data/Sp...   train     0   \n",
              "1     /content/drive/MyDrive/Colab Notebooks/Data/Sp...   train     0   \n",
              "2     /content/drive/MyDrive/Colab Notebooks/Data/Sp...   train     0   \n",
              "3     /content/drive/MyDrive/Colab Notebooks/Data/Sp...   train     0   \n",
              "4     /content/drive/MyDrive/Colab Notebooks/Data/Sp...   train     0   \n",
              "...                                                 ...     ...   ...   \n",
              "3460  /content/drive/MyDrive/Colab Notebooks/Data/Sp...    test     4   \n",
              "3461  /content/drive/MyDrive/Colab Notebooks/Data/Sp...    test     4   \n",
              "3462  /content/drive/MyDrive/Colab Notebooks/Data/Sp...    test     4   \n",
              "3463  /content/drive/MyDrive/Colab Notebooks/Data/Sp...    test     4   \n",
              "3464  /content/drive/MyDrive/Colab Notebooks/Data/Sp...    test     4   \n",
              "\n",
              "      class_name  \n",
              "0       baseball  \n",
              "1       baseball  \n",
              "2       baseball  \n",
              "3       baseball  \n",
              "4       baseball  \n",
              "...          ...  \n",
              "3460  volleyball  \n",
              "3461  volleyball  \n",
              "3462  volleyball  \n",
              "3463  volleyball  \n",
              "3464  volleyball  \n",
              "\n",
              "[3465 rows x 4 columns]"
            ],
            "text/html": [
              "\n",
              "  <div id=\"df-00b261a6-1e12-42a1-9d4a-03446b739416\">\n",
              "    <div class=\"colab-df-container\">\n",
              "      <div>\n",
              "<style scoped>\n",
              "    .dataframe tbody tr th:only-of-type {\n",
              "        vertical-align: middle;\n",
              "    }\n",
              "\n",
              "    .dataframe tbody tr th {\n",
              "        vertical-align: top;\n",
              "    }\n",
              "\n",
              "    .dataframe thead th {\n",
              "        text-align: right;\n",
              "    }\n",
              "</style>\n",
              "<table border=\"1\" class=\"dataframe\">\n",
              "  <thead>\n",
              "    <tr style=\"text-align: right;\">\n",
              "      <th></th>\n",
              "      <th>filepath</th>\n",
              "      <th>dataset</th>\n",
              "      <th>label</th>\n",
              "      <th>class_name</th>\n",
              "    </tr>\n",
              "  </thead>\n",
              "  <tbody>\n",
              "    <tr>\n",
              "      <th>0</th>\n",
              "      <td>/content/drive/MyDrive/Colab Notebooks/Data/Sp...</td>\n",
              "      <td>train</td>\n",
              "      <td>0</td>\n",
              "      <td>baseball</td>\n",
              "    </tr>\n",
              "    <tr>\n",
              "      <th>1</th>\n",
              "      <td>/content/drive/MyDrive/Colab Notebooks/Data/Sp...</td>\n",
              "      <td>train</td>\n",
              "      <td>0</td>\n",
              "      <td>baseball</td>\n",
              "    </tr>\n",
              "    <tr>\n",
              "      <th>2</th>\n",
              "      <td>/content/drive/MyDrive/Colab Notebooks/Data/Sp...</td>\n",
              "      <td>train</td>\n",
              "      <td>0</td>\n",
              "      <td>baseball</td>\n",
              "    </tr>\n",
              "    <tr>\n",
              "      <th>3</th>\n",
              "      <td>/content/drive/MyDrive/Colab Notebooks/Data/Sp...</td>\n",
              "      <td>train</td>\n",
              "      <td>0</td>\n",
              "      <td>baseball</td>\n",
              "    </tr>\n",
              "    <tr>\n",
              "      <th>4</th>\n",
              "      <td>/content/drive/MyDrive/Colab Notebooks/Data/Sp...</td>\n",
              "      <td>train</td>\n",
              "      <td>0</td>\n",
              "      <td>baseball</td>\n",
              "    </tr>\n",
              "    <tr>\n",
              "      <th>...</th>\n",
              "      <td>...</td>\n",
              "      <td>...</td>\n",
              "      <td>...</td>\n",
              "      <td>...</td>\n",
              "    </tr>\n",
              "    <tr>\n",
              "      <th>3460</th>\n",
              "      <td>/content/drive/MyDrive/Colab Notebooks/Data/Sp...</td>\n",
              "      <td>test</td>\n",
              "      <td>4</td>\n",
              "      <td>volleyball</td>\n",
              "    </tr>\n",
              "    <tr>\n",
              "      <th>3461</th>\n",
              "      <td>/content/drive/MyDrive/Colab Notebooks/Data/Sp...</td>\n",
              "      <td>test</td>\n",
              "      <td>4</td>\n",
              "      <td>volleyball</td>\n",
              "    </tr>\n",
              "    <tr>\n",
              "      <th>3462</th>\n",
              "      <td>/content/drive/MyDrive/Colab Notebooks/Data/Sp...</td>\n",
              "      <td>test</td>\n",
              "      <td>4</td>\n",
              "      <td>volleyball</td>\n",
              "    </tr>\n",
              "    <tr>\n",
              "      <th>3463</th>\n",
              "      <td>/content/drive/MyDrive/Colab Notebooks/Data/Sp...</td>\n",
              "      <td>test</td>\n",
              "      <td>4</td>\n",
              "      <td>volleyball</td>\n",
              "    </tr>\n",
              "    <tr>\n",
              "      <th>3464</th>\n",
              "      <td>/content/drive/MyDrive/Colab Notebooks/Data/Sp...</td>\n",
              "      <td>test</td>\n",
              "      <td>4</td>\n",
              "      <td>volleyball</td>\n",
              "    </tr>\n",
              "  </tbody>\n",
              "</table>\n",
              "<p>3465 rows × 4 columns</p>\n",
              "</div>\n",
              "      <button class=\"colab-df-convert\" onclick=\"convertToInteractive('df-00b261a6-1e12-42a1-9d4a-03446b739416')\"\n",
              "              title=\"Convert this dataframe to an interactive table.\"\n",
              "              style=\"display:none;\">\n",
              "        \n",
              "  <svg xmlns=\"http://www.w3.org/2000/svg\" height=\"24px\"viewBox=\"0 0 24 24\"\n",
              "       width=\"24px\">\n",
              "    <path d=\"M0 0h24v24H0V0z\" fill=\"none\"/>\n",
              "    <path d=\"M18.56 5.44l.94 2.06.94-2.06 2.06-.94-2.06-.94-.94-2.06-.94 2.06-2.06.94zm-11 1L8.5 8.5l.94-2.06 2.06-.94-2.06-.94L8.5 2.5l-.94 2.06-2.06.94zm10 10l.94 2.06.94-2.06 2.06-.94-2.06-.94-.94-2.06-.94 2.06-2.06.94z\"/><path d=\"M17.41 7.96l-1.37-1.37c-.4-.4-.92-.59-1.43-.59-.52 0-1.04.2-1.43.59L10.3 9.45l-7.72 7.72c-.78.78-.78 2.05 0 2.83L4 21.41c.39.39.9.59 1.41.59.51 0 1.02-.2 1.41-.59l7.78-7.78 2.81-2.81c.8-.78.8-2.07 0-2.86zM5.41 20L4 18.59l7.72-7.72 1.47 1.35L5.41 20z\"/>\n",
              "  </svg>\n",
              "      </button>\n",
              "      \n",
              "  <style>\n",
              "    .colab-df-container {\n",
              "      display:flex;\n",
              "      flex-wrap:wrap;\n",
              "      gap: 12px;\n",
              "    }\n",
              "\n",
              "    .colab-df-convert {\n",
              "      background-color: #E8F0FE;\n",
              "      border: none;\n",
              "      border-radius: 50%;\n",
              "      cursor: pointer;\n",
              "      display: none;\n",
              "      fill: #1967D2;\n",
              "      height: 32px;\n",
              "      padding: 0 0 0 0;\n",
              "      width: 32px;\n",
              "    }\n",
              "\n",
              "    .colab-df-convert:hover {\n",
              "      background-color: #E2EBFA;\n",
              "      box-shadow: 0px 1px 2px rgba(60, 64, 67, 0.3), 0px 1px 3px 1px rgba(60, 64, 67, 0.15);\n",
              "      fill: #174EA6;\n",
              "    }\n",
              "\n",
              "    [theme=dark] .colab-df-convert {\n",
              "      background-color: #3B4455;\n",
              "      fill: #D2E3FC;\n",
              "    }\n",
              "\n",
              "    [theme=dark] .colab-df-convert:hover {\n",
              "      background-color: #434B5C;\n",
              "      box-shadow: 0px 1px 3px 1px rgba(0, 0, 0, 0.15);\n",
              "      filter: drop-shadow(0px 1px 2px rgba(0, 0, 0, 0.3));\n",
              "      fill: #FFFFFF;\n",
              "    }\n",
              "  </style>\n",
              "\n",
              "      <script>\n",
              "        const buttonEl =\n",
              "          document.querySelector('#df-00b261a6-1e12-42a1-9d4a-03446b739416 button.colab-df-convert');\n",
              "        buttonEl.style.display =\n",
              "          google.colab.kernel.accessAllowed ? 'block' : 'none';\n",
              "\n",
              "        async function convertToInteractive(key) {\n",
              "          const element = document.querySelector('#df-00b261a6-1e12-42a1-9d4a-03446b739416');\n",
              "          const dataTable =\n",
              "            await google.colab.kernel.invokeFunction('convertToInteractive',\n",
              "                                                     [key], {});\n",
              "          if (!dataTable) return;\n",
              "\n",
              "          const docLinkHtml = 'Like what you see? Visit the ' +\n",
              "            '<a target=\"_blank\" href=https://colab.research.google.com/notebooks/data_table.ipynb>data table notebook</a>'\n",
              "            + ' to learn more about interactive tables.';\n",
              "          element.innerHTML = '';\n",
              "          dataTable['output_type'] = 'display_data';\n",
              "          await google.colab.output.renderOutput(dataTable, element);\n",
              "          const docLink = document.createElement('div');\n",
              "          docLink.innerHTML = docLinkHtml;\n",
              "          element.appendChild(docLink);\n",
              "        }\n",
              "      </script>\n",
              "    </div>\n",
              "  </div>\n",
              "  "
            ]
          },
          "metadata": {},
          "execution_count": 110
        }
      ]
    },
    {
      "cell_type": "code",
      "source": [
        "class_name_to_idx = {class_name: i for i, class_name in enumerate(data_df.class_name)}\n",
        "class_name_to_idx = {\"volleyball\": 0, \"tennis\":1,\"basketball\":3, \"fencing\":4,\"baseball\":2}\n",
        "class_name_to_idx"
      ],
      "metadata": {
        "colab": {
          "base_uri": "https://localhost:8080/"
        },
        "id": "4Xsrp8uogj8Z",
        "outputId": "700cbd7d-4c55-42e2-b23f-997eaf52aa1f"
      },
      "id": "4Xsrp8uogj8Z",
      "execution_count": 111,
      "outputs": [
        {
          "output_type": "execute_result",
          "data": {
            "text/plain": [
              "{'volleyball': 0, 'tennis': 1, 'basketball': 3, 'fencing': 4, 'baseball': 2}"
            ]
          },
          "metadata": {},
          "execution_count": 111
        }
      ]
    },
    {
      "cell_type": "code",
      "execution_count": 114,
      "metadata": {
        "id": "A4MLY-ofhFih"
      },
      "outputs": [],
      "source": [
        "def get_average_probabilities(model, num_frames=100):\n",
        "    video_probabilities = {}\n",
        "    y_test_true = []\n",
        "    y_test_preds = []\n",
        "    y_test_preds_proba = np.zeros((1,5))\n",
        "    \n",
        "\n",
        "    for i,(dir,subdir,files) in enumerate(os.walk(\"/content/drive/MyDrive/Colab Notebooks/Data/Sport Videos\")):\n",
        "    # for i,(dir,subdir,files) in enumerate(os.walk(\"/content/drive/MyDrive/Colab Notebooks/Data/SportsTestVideos\")): \n",
        "      # print(i)\n",
        "      # print(dir)\n",
        "      # print(subdir)\n",
        "      # print(files)\n",
        "      if i==0:\n",
        "        continue\n",
        "      complete_filenames = [os.path.join(dir,file) for file in files]\n",
        "      # print(complete_filenames)\n",
        "      # print(class_name_video_to_class_name_image[dir])\n",
        "      # print(class_name_to_idx[class_name_video_to_class_name_image[dir]])\n",
        "      label_idx = class_name_to_idx[class_name_video_to_class_name_image[dir]]\n",
        "      # print(label_idx)\n",
        "\n",
        "      for file in complete_filenames:\n",
        "        if file[-3:]==\"gif\":\n",
        "          continue\n",
        "        cap = cv2.VideoCapture(file)\n",
        "        length = int(cap.get(cv2.CAP_PROP_FRAME_COUNT))\n",
        "\n",
        "        frame_intervals = floor(length/num_frames)\n",
        "        if frame_intervals==0:\n",
        "          frame_intervals=1\n",
        "            \n",
        "        count = 0\n",
        "        success=True\n",
        "\n",
        "        frames = []\n",
        "\n",
        "        while success and len(frames)<num_frames:\n",
        "          success,image = cap.read()\n",
        "          if success==True:\n",
        "            if count%frame_intervals==0:\n",
        "              frames.append(image)\n",
        "            if cv2.waitKey(10) == 27:                     # exit if Escape is hi\n",
        "              break\n",
        "            count += 1\n",
        "\n",
        "        frames_resized = tf.image.resize(frames,(224,224))\n",
        "\n",
        "        test_dataset_video = tf.data.Dataset.from_tensor_slices((frames_resized, tf.convert_to_tensor([label_idx]*len(frames_resized)))).batch(batch_size)\n",
        "           \n",
        "            # y_test_preds_proba = np.zeros((1,5))\n",
        "        # y_test_preds_proba = np.zeros((1,5))\n",
        "        # y_test_preds_proba = np.zeros((1,5))\n",
        "        for x_batch,_ in test_dataset_video:\n",
        "          y_test_preds_proba+=np.sum(model.predict(x_batch,verbose=0),axis=0)\n",
        "        y_test_preds_proba/=len(frames_resized)\n",
        "        y_test_preds_proba/=len(frames_resized)\n",
        "        y_test_true += [label_idx]\n",
        "        y_test_preds += np.argmax(y_test_preds_proba,axis=1).tolist()\n",
        "        \n",
        "    acccuracy = accuracy_score(y_test_true,y_test_preds)\n",
        "    precision = precision_score(y_test_true,y_test_preds,average='macro')\n",
        "    recall = recall_score(y_test_true,y_test_preds,average='macro')\n",
        "    f1 = f1_score(y_test_true,y_test_preds,average='macro')\n",
        "    cm = confusion_matrix(y_test_true,y_test_preds)\n",
        "\n",
        "    print(f\"Accuracy: {acccuracy}\")\n",
        "    print(f\"Precision: {precision}\")\n",
        "    print(f\"Recall: {recall}\")\n",
        "    print(f\"F1 Score: {f1}\")\n",
        "    print(f\"Confusion Matrix: \\n{cm}\")\n",
        "\n",
        "    return y_test_true,y_test_preds_proba,y_test_preds,acccuracy,precision,recall,f1,cm\n",
        "\n",
        "    #         video_name = os.path.basename(file)\n",
        "    #         if video_name not in video_probabilities:\n",
        "    #             video_probabilities[video_name] = []\n",
        "    #         video_probabilities[video_name].append(y_test_preds_proba)\n",
        "\n",
        "    # average_probabilities = {}\n",
        "    # for video_name, probabilities in video_probabilities.items():\n",
        "    #     average_probability = np.mean(probabilities, axis=0)\n",
        "    #     average_probabilities[video_name] = average_probability\n",
        "\n",
        "    # return average_probabilities"
      ],
      "id": "A4MLY-ofhFih"
    },
    {
      "cell_type": "code",
      "source": [
        "y_test_true,y_test_preds_proba,y_test_preds,acccuracy,precision,recall,f1,cm = get_average_probabilities(resnet_model, 100)"
      ],
      "metadata": {
        "colab": {
          "base_uri": "https://localhost:8080/"
        },
        "id": "e-UFC916giby",
        "outputId": "335dfaf7-33a0-415f-948d-08a53cad9c65"
      },
      "id": "e-UFC916giby",
      "execution_count": 124,
      "outputs": [
        {
          "output_type": "stream",
          "name": "stdout",
          "text": [
            "Accuracy: 0.2540381791483113\n",
            "Precision: 0.22783896195105685\n",
            "Recall: 0.22720033772768472\n",
            "F1 Score: 0.2106393597144259\n",
            "Confusion Matrix: \n",
            "[[  2   0   0  76  38]\n",
            " [ 18 100   5  38   6]\n",
            " [124   0   0  26   0]\n",
            " [ 31  13   9  70  14]\n",
            " [ 11   0   0  99   1]]\n"
          ]
        }
      ]
    },
    {
      "cell_type": "code",
      "execution_count": null,
      "metadata": {
        "id": "cZzGEbMPk-YS"
      },
      "outputs": [],
      "source": [
        "# y_test_true,y_test_preds_proba,y_test_preds,acccuracy,precision,recall,f1,cm = get_average_probabilities(resnet_model, 100)"
      ],
      "id": "cZzGEbMPk-YS"
    },
    {
      "cell_type": "code",
      "source": [
        "y_test_true,y_test_preds_proba,y_test_preds,acccuracy,precision,recall,f1,cm = get_average_probabilities(vgg_model, 100)"
      ],
      "metadata": {
        "colab": {
          "base_uri": "https://localhost:8080/"
        },
        "id": "txeAtYUYgtYE",
        "outputId": "220cb1d3-986c-42a4-9714-021031a09b78"
      },
      "id": "txeAtYUYgtYE",
      "execution_count": 128,
      "outputs": [
        {
          "output_type": "stream",
          "name": "stdout",
          "text": [
            "Accuracy: 0.3465491923641703\n",
            "Precision: 0.21506057486736876\n",
            "Recall: 0.30754840683596313\n",
            "F1 Score: 0.24157956409655493\n",
            "Confusion Matrix: \n",
            "[[  0   4   0  81  31]\n",
            " [  1 141   0  23   2]\n",
            " [ 82  12   0  56   0]\n",
            " [  7  16   6  95  13]\n",
            " [  1   0   0 110   0]]\n"
          ]
        }
      ]
    },
    {
      "cell_type": "code",
      "source": [
        "y_test_true,y_test_preds_proba,y_test_preds,acccuracy,precision,recall,f1,cm = get_average_probabilities(efficientNet_model, 100)"
      ],
      "metadata": {
        "colab": {
          "base_uri": "https://localhost:8080/"
        },
        "id": "PXUCC7yyVprh",
        "outputId": "1b798665-e8ca-4ebf-a791-d9b41ab9252c"
      },
      "id": "PXUCC7yyVprh",
      "execution_count": 115,
      "outputs": [
        {
          "output_type": "stream",
          "name": "stdout",
          "text": [
            "Accuracy: 0.1894273127753304\n",
            "Precision: 0.12472915889326572\n",
            "Recall: 0.15832597361314407\n",
            "F1 Score: 0.13825472359545202\n",
            "Confusion Matrix: \n",
            "[[  2  14   2  15  83]\n",
            " [ 42 119   0   3   3]\n",
            " [134  14   0   2   0]\n",
            " [ 39  55   8   6  29]\n",
            " [ 21  21   0  67   2]]\n"
          ]
        }
      ]
    }
  ],
  "metadata": {
    "accelerator": "GPU",
    "colab": {
      "provenance": [],
      "machine_shape": "hm",
      "gpuType": "A100"
    },
    "gpuClass": "standard",
    "kernelspec": {
      "display_name": "Python 3 (ipykernel)",
      "language": "python",
      "name": "python3"
    },
    "language_info": {
      "codemirror_mode": {
        "name": "ipython",
        "version": 3
      },
      "file_extension": ".py",
      "mimetype": "text/x-python",
      "name": "python",
      "nbconvert_exporter": "python",
      "pygments_lexer": "ipython3",
      "version": "3.10.9"
    }
  },
  "nbformat": 4,
  "nbformat_minor": 5
}