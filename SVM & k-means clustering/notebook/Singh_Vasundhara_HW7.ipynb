{
 "cells": [
  {
   "cell_type": "markdown",
   "metadata": {},
   "source": [
    "<center><h1>Singh_Vasundhara_HW7</h1></center>"
   ]
  },
  {
   "cell_type": "markdown",
   "metadata": {},
   "source": [
    "Name: Vasundhara Singh\n",
    "<br>\n",
    "Github Username: vasu1406\n",
    "<br>\n",
    "USC ID: 7421414643\n",
    "Late days used-1"
   ]
  },
  {
   "cell_type": "markdown",
   "metadata": {},
   "source": [
    "## 1. Multi-class and Multi-Label Classification Using Support Vector Machines"
   ]
  },
  {
   "cell_type": "markdown",
   "metadata": {},
   "source": [
    "Import packages"
   ]
  },
  {
   "cell_type": "code",
   "execution_count": 1,
   "metadata": {},
   "outputs": [],
   "source": [
    "import pandas as pd\n",
    "from sklearn.model_selection import train_test_split\n",
    "from sklearn.svm import SVC\n",
    "from sklearn.model_selection import GridSearchCV\n",
    "from sklearn.model_selection import StratifiedKFold\n",
    "from sklearn.preprocessing import StandardScaler\n",
    "from sklearn.pipeline import Pipeline\n",
    "from imblearn.over_sampling import SMOTE\n",
    "from imblearn.pipeline import Pipeline as imbpipe\n",
    "from sklearn.metrics import hamming_loss,accuracy_score\n",
    "import numpy as np\n",
    "from sklearn.pipeline import Pipeline\n",
    "from sklearn.svm import LinearSVC\n",
    "from sklearn.pipeline import make_pipeline\n",
    "from sklearn.cluster import KMeans\n",
    "from sklearn.metrics import silhouette_score"
   ]
  },
  {
   "cell_type": "markdown",
   "metadata": {},
   "source": [
    "### (a) Download the Anuran Calls (MFCCs) Data Set"
   ]
  },
  {
   "cell_type": "code",
   "execution_count": 2,
   "metadata": {},
   "outputs": [],
   "source": [
    "df = pd.read_csv('../data/Frogs_MFCCs.csv')\n",
    "# df\n",
    "labels = []\n",
    "labels.append('Family')\n",
    "labels.append('Genus')\n",
    "labels.append('Species')\n",
    "trainingX, testX, trainingY, testY = train_test_split(df.iloc[:,:-4], df[labels], test_size = 0.3)\n",
    "# trainingX\n",
    "# trainingY\n",
    "# testX\n",
    "# testY"
   ]
  },
  {
   "cell_type": "markdown",
   "metadata": {},
   "source": [
    "### (b) Train a classifier for each label"
   ]
  },
  {
   "cell_type": "markdown",
   "metadata": {},
   "source": [
    "#### (i) Research"
   ]
  },
  {
   "cell_type": "markdown",
   "metadata": {},
   "source": [
    "**EXACT MATCHING** (EM) - EM measures the proportion of instances for which the predicted and true labels match exactly. In other words, it calculates the accuracy of the classification across all labels. EM is suitable for problems where all labels are equally important, and it penalizes each incorrect label prediction equally.In multi-label multi-output classification, the exact match metric checks if all of the predicted labels exactly match the true labels for a given instance. If all labels match exactly, a score of 1 is assigned; otherwise, a score of 0 is assigned.\n",
    "\n",
    "**HAMMING LOSS** (HL) Hamming Score/Loss, on the other hand, takes into account the number of labels that are incorrectly predicted for each instance. Hamming Score calculates the proportion of correctly predicted labels, while Hamming Loss calculates the proportion of incorrectly predicted labels. Hamming Loss is suitable for problems where some labels may be more important than others, and it penalizes incorrect label predictions proportionally to their importance. Hamming loss is a metric used in multi-label classification to measure the average number of label mismatches between the predicted and true values. Unlike the strict 1 or 0 policy used in exact match, hamming loss counts the number of differences between each label, which is the same as calculating the hamming distance between two vectors. The average of these label mismatch counts is then computed to obtain the hamming loss value.\n",
    "\n",
    "**HAMMING SCORE**\n",
    "\n",
    "Hamming Score is calculated by subtracting Hamming Loss from 1. Hamming Score = 1 - Hamming Loss"
   ]
  },
  {
   "cell_type": "markdown",
   "metadata": {},
   "source": []
  },
  {
   "cell_type": "code",
   "execution_count": 3,
   "metadata": {},
   "outputs": [
    {
     "name": "stdout",
     "output_type": "stream",
     "text": [
      "C= 0.001 gamma= 0.1 Accuracy= 0.5575191951284088\n",
      "C= 0.001 gamma= 0.2 Accuracy= 0.5575191951284088\n",
      "C= 0.001 gamma= 0.3 Accuracy= 0.5575191951284088\n",
      "C= 0.001 gamma= 0.4 Accuracy= 0.5575191951284088\n",
      "C= 0.001 gamma= 0.5 Accuracy= 0.5575191951284088\n",
      "C= 0.001 gamma= 0.6 Accuracy= 0.5575191951284088\n",
      "C= 0.001 gamma= 0.7 Accuracy= 0.5575191951284088\n",
      "C= 0.001 gamma= 0.8 Accuracy= 0.5575191951284088\n",
      "C= 0.001 gamma= 0.9 Accuracy= 0.5575191951284088\n",
      "C= 0.001 gamma= 1.0 Accuracy= 0.5575191951284088\n",
      "C= 0.001 gamma= 1.1 Accuracy= 0.5575191951284088\n",
      "C= 0.001 gamma= 1.2 Accuracy= 0.5575191951284088\n",
      "C= 0.001 gamma= 1.3 Accuracy= 0.5575191951284088\n",
      "C= 0.001 gamma= 1.4 Accuracy= 0.5575191951284088\n",
      "C= 0.001 gamma= 1.5 Accuracy= 0.5575191951284088\n",
      "C= 0.001 gamma= 1.6 Accuracy= 0.5575191951284088\n",
      "C= 0.001 gamma= 1.7 Accuracy= 0.5575191951284088\n",
      "C= 0.001 gamma= 1.8 Accuracy= 0.5575191951284088\n",
      "C= 0.001 gamma= 1.9 Accuracy= 0.5575191951284088\n",
      "C= 0.001 gamma= 2.0 Accuracy= 0.5575191951284088\n",
      "C= 0.01 gamma= 0.1 Accuracy= 0.5744638602065132\n",
      "C= 0.01 gamma= 0.2 Accuracy= 0.6822875297855441\n",
      "C= 0.01 gamma= 0.3 Accuracy= 0.7497352396081546\n",
      "C= 0.01 gamma= 0.4 Accuracy= 0.7906407201482658\n",
      "C= 0.01 gamma= 0.5 Accuracy= 0.8057982525814138\n",
      "C= 0.01 gamma= 0.6 Accuracy= 0.8121525019857029\n",
      "C= 0.01 gamma= 0.7 Accuracy= 0.8188377018797987\n",
      "C= 0.01 gamma= 0.8 Accuracy= 0.822147206777866\n",
      "C= 0.01 gamma= 0.9 Accuracy= 0.8243314800105903\n",
      "C= 0.01 gamma= 1.0 Accuracy= 0.826184802753508\n",
      "C= 0.01 gamma= 1.1 Accuracy= 0.8267805136351601\n",
      "C= 0.01 gamma= 1.2 Accuracy= 0.831347630394493\n",
      "C= 0.01 gamma= 1.3 Accuracy= 0.8346571352925602\n",
      "C= 0.01 gamma= 1.4 Accuracy= 0.8368414085252845\n",
      "C= 0.01 gamma= 1.5 Accuracy= 0.8395552025416998\n",
      "C= 0.01 gamma= 1.6 Accuracy= 0.8423351866560762\n",
      "C= 0.01 gamma= 1.7 Accuracy= 0.8447180301826847\n",
      "C= 0.01 gamma= 1.8 Accuracy= 0.8465713529256024\n",
      "C= 0.01 gamma= 1.9 Accuracy= 0.847828964786868\n",
      "C= 0.01 gamma= 2.0 Accuracy= 0.8486894360603654\n",
      "C= 0.1 gamma= 0.1 Accuracy= 0.8516679904686258\n",
      "C= 0.1 gamma= 0.2 Accuracy= 0.9026343658988615\n",
      "C= 0.1 gamma= 0.3 Accuracy= 0.9144823934339423\n",
      "C= 0.1 gamma= 0.4 Accuracy= 0.9244770982261054\n",
      "C= 0.1 gamma= 0.5 Accuracy= 0.9305003971405877\n",
      "C= 0.1 gamma= 0.6 Accuracy= 0.9361265554673021\n",
      "C= 0.1 gamma= 0.7 Accuracy= 0.9418189038919778\n",
      "C= 0.1 gamma= 0.8 Accuracy= 0.945326979083929\n",
      "C= 0.1 gamma= 0.9 Accuracy= 0.9477098226105375\n",
      "C= 0.1 gamma= 1.0 Accuracy= 0.9492321948636485\n",
      "C= 0.1 gamma= 1.1 Accuracy= 0.9507545671167593\n",
      "C= 0.1 gamma= 1.2 Accuracy= 0.9531374106433678\n",
      "C= 0.1 gamma= 1.3 Accuracy= 0.9553878739740534\n",
      "C= 0.1 gamma= 1.4 Accuracy= 0.9574397670108552\n",
      "C= 0.1 gamma= 1.5 Accuracy= 0.9591607095578502\n",
      "C= 0.1 gamma= 1.6 Accuracy= 0.9600873709293088\n",
      "C= 0.1 gamma= 1.7 Accuracy= 0.9612126025946518\n",
      "C= 0.1 gamma= 1.8 Accuracy= 0.9618745035742653\n",
      "C= 0.1 gamma= 1.9 Accuracy= 0.9624702144559173\n",
      "C= 0.1 gamma= 2.0 Accuracy= 0.9631983055334922\n",
      "C= 1 gamma= 0.1 Accuracy= 0.9409584326184803\n",
      "C= 1 gamma= 0.2 Accuracy= 0.9577045274027006\n",
      "C= 1 gamma= 0.3 Accuracy= 0.967368281705057\n",
      "C= 1 gamma= 0.4 Accuracy= 0.9741858617950755\n",
      "C= 1 gamma= 0.5 Accuracy= 0.9785544082605243\n",
      "C= 1 gamma= 0.6 Accuracy= 0.9830553349218958\n",
      "C= 1 gamma= 0.7 Accuracy= 0.9853719883505428\n",
      "C= 1 gamma= 0.8 Accuracy= 0.9871591209954991\n",
      "C= 1 gamma= 0.9 Accuracy= 0.988880063542494\n",
      "C= 1 gamma= 1.0 Accuracy= 0.9895419645221075\n",
      "C= 1 gamma= 1.1 Accuracy= 0.9905348159915276\n",
      "C= 1 gamma= 1.2 Accuracy= 0.9912629070691025\n",
      "C= 1 gamma= 1.3 Accuracy= 0.9924543288324067\n",
      "C= 1 gamma= 1.4 Accuracy= 0.9935133703997883\n",
      "C= 1 gamma= 1.5 Accuracy= 0.9937781307916337\n",
      "C= 1 gamma= 1.6 Accuracy= 0.9941090812814403\n",
      "C= 1 gamma= 1.7 Accuracy= 0.9947047921630925\n",
      "C= 1 gamma= 1.8 Accuracy= 0.9949695525549377\n",
      "C= 1 gamma= 1.9 Accuracy= 0.995366693142706\n",
      "C= 1 gamma= 2.0 Accuracy= 0.9957638337304738\n",
      "C= 10 gamma= 0.1 Accuracy= 0.9770320360074134\n",
      "C= 10 gamma= 0.2 Accuracy= 0.9876224516812284\n",
      "C= 10 gamma= 0.3 Accuracy= 0.991924808048716\n",
      "C= 10 gamma= 0.4 Accuracy= 0.9948371723590151\n",
      "C= 10 gamma= 0.5 Accuracy= 0.9963595446121261\n",
      "C= 10 gamma= 0.6 Accuracy= 0.9974185861795076\n",
      "C= 10 gamma= 0.7 Accuracy= 0.9980804871591209\n",
      "C= 10 gamma= 0.8 Accuracy= 0.9986761980407731\n",
      "C= 10 gamma= 0.9 Accuracy= 0.9990071485305799\n",
      "C= 10 gamma= 1.0 Accuracy= 0.9992057188244639\n",
      "C= 10 gamma= 1.1 Accuracy= 0.9994042891183478\n",
      "C= 10 gamma= 1.2 Accuracy= 0.9994704792163093\n",
      "C= 10 gamma= 1.3 Accuracy= 0.9995366693142707\n",
      "C= 10 gamma= 1.4 Accuracy= 0.9995366693142707\n",
      "C= 10 gamma= 1.5 Accuracy= 0.9996028594122319\n",
      "C= 10 gamma= 1.6 Accuracy= 0.9997352396081546\n",
      "C= 10 gamma= 1.7 Accuracy= 0.9998676198040773\n",
      "C= 10 gamma= 1.8 Accuracy= 0.9998676198040773\n",
      "C= 10 gamma= 1.9 Accuracy= 1.0\n",
      "C= 10 gamma= 2.0 Accuracy= 1.0\n",
      "C= 100 gamma= 0.1 Accuracy= 0.9941752713794015\n",
      "C= 100 gamma= 0.2 Accuracy= 0.9975509663754302\n",
      "C= 100 gamma= 0.3 Accuracy= 0.9990733386285412\n",
      "C= 100 gamma= 0.4 Accuracy= 0.9996690495101932\n",
      "C= 100 gamma= 0.5 Accuracy= 0.9999338099020386\n",
      "C= 100 gamma= 0.6 Accuracy= 1.0\n",
      "C= 100 gamma= 0.7 Accuracy= 1.0\n",
      "C= 100 gamma= 0.8 Accuracy= 1.0\n",
      "C= 100 gamma= 0.9 Accuracy= 1.0\n",
      "C= 100 gamma= 1.0 Accuracy= 1.0\n",
      "C= 100 gamma= 1.1 Accuracy= 1.0\n",
      "C= 100 gamma= 1.2 Accuracy= 1.0\n",
      "C= 100 gamma= 1.3 Accuracy= 1.0\n",
      "C= 100 gamma= 1.4 Accuracy= 1.0\n",
      "C= 100 gamma= 1.5 Accuracy= 1.0\n",
      "C= 100 gamma= 1.6 Accuracy= 1.0\n",
      "C= 100 gamma= 1.7 Accuracy= 1.0\n",
      "C= 100 gamma= 1.8 Accuracy= 1.0\n",
      "C= 100 gamma= 1.9 Accuracy= 1.0\n",
      "C= 100 gamma= 2.0 Accuracy= 1.0\n",
      "C= 1000 gamma= 0.1 Accuracy= 0.9990071485305799\n",
      "C= 1000 gamma= 0.2 Accuracy= 1.0\n",
      "C= 1000 gamma= 0.3 Accuracy= 1.0\n",
      "C= 1000 gamma= 0.4 Accuracy= 1.0\n",
      "C= 1000 gamma= 0.5 Accuracy= 1.0\n",
      "C= 1000 gamma= 0.6 Accuracy= 1.0\n",
      "C= 1000 gamma= 0.7 Accuracy= 1.0\n",
      "C= 1000 gamma= 0.8 Accuracy= 1.0\n",
      "C= 1000 gamma= 0.9 Accuracy= 1.0\n",
      "C= 1000 gamma= 1.0 Accuracy= 1.0\n",
      "C= 1000 gamma= 1.1 Accuracy= 1.0\n",
      "C= 1000 gamma= 1.2 Accuracy= 1.0\n",
      "C= 1000 gamma= 1.3 Accuracy= 1.0\n",
      "C= 1000 gamma= 1.4 Accuracy= 1.0\n",
      "C= 1000 gamma= 1.5 Accuracy= 1.0\n",
      "C= 1000 gamma= 1.6 Accuracy= 1.0\n",
      "C= 1000 gamma= 1.7 Accuracy= 1.0\n",
      "C= 1000 gamma= 1.8 Accuracy= 1.0\n",
      "C= 1000 gamma= 1.9 Accuracy= 1.0\n",
      "C= 1000 gamma= 2.0 Accuracy= 1.0\n",
      "C= 10000 gamma= 0.1 Accuracy= 1.0\n",
      "C= 10000 gamma= 0.2 Accuracy= 1.0\n",
      "C= 10000 gamma= 0.3 Accuracy= 1.0\n",
      "C= 10000 gamma= 0.4 Accuracy= 1.0\n",
      "C= 10000 gamma= 0.5 Accuracy= 1.0\n",
      "C= 10000 gamma= 0.6 Accuracy= 1.0\n",
      "C= 10000 gamma= 0.7 Accuracy= 1.0\n",
      "C= 10000 gamma= 0.8 Accuracy= 1.0\n",
      "C= 10000 gamma= 0.9 Accuracy= 1.0\n",
      "C= 10000 gamma= 1.0 Accuracy= 1.0\n",
      "C= 10000 gamma= 1.1 Accuracy= 1.0\n",
      "C= 10000 gamma= 1.2 Accuracy= 1.0\n",
      "C= 10000 gamma= 1.3 Accuracy= 1.0\n",
      "C= 10000 gamma= 1.4 Accuracy= 1.0\n",
      "C= 10000 gamma= 1.5 Accuracy= 1.0\n",
      "C= 10000 gamma= 1.6 Accuracy= 1.0\n",
      "C= 10000 gamma= 1.7 Accuracy= 1.0\n",
      "C= 10000 gamma= 1.8 Accuracy= 1.0\n",
      "C= 10000 gamma= 1.9 Accuracy= 1.0\n",
      "C= 10000 gamma= 2.0 Accuracy= 1.0\n",
      "C= 100000 gamma= 0.1 Accuracy= 1.0\n",
      "C= 100000 gamma= 0.2 Accuracy= 1.0\n",
      "C= 100000 gamma= 0.3 Accuracy= 1.0\n",
      "C= 100000 gamma= 0.4 Accuracy= 1.0\n",
      "C= 100000 gamma= 0.5 Accuracy= 1.0\n",
      "C= 100000 gamma= 0.6 Accuracy= 1.0\n",
      "C= 100000 gamma= 0.7 Accuracy= 1.0\n",
      "C= 100000 gamma= 0.8 Accuracy= 1.0\n",
      "C= 100000 gamma= 0.9 Accuracy= 1.0\n",
      "C= 100000 gamma= 1.0 Accuracy= 1.0\n",
      "C= 100000 gamma= 1.1 Accuracy= 1.0\n",
      "C= 100000 gamma= 1.2 Accuracy= 1.0\n",
      "C= 100000 gamma= 1.3 Accuracy= 1.0\n",
      "C= 100000 gamma= 1.4 Accuracy= 1.0\n",
      "C= 100000 gamma= 1.5 Accuracy= 1.0\n",
      "C= 100000 gamma= 1.6 Accuracy= 1.0\n",
      "C= 100000 gamma= 1.7 Accuracy= 1.0\n",
      "C= 100000 gamma= 1.8 Accuracy= 1.0\n",
      "C= 100000 gamma= 1.9 Accuracy= 1.0\n",
      "C= 100000 gamma= 2.0 Accuracy= 1.0\n",
      "C= 1000000 gamma= 0.1 Accuracy= 1.0\n",
      "C= 1000000 gamma= 0.2 Accuracy= 1.0\n",
      "C= 1000000 gamma= 0.3 Accuracy= 1.0\n",
      "C= 1000000 gamma= 0.4 Accuracy= 1.0\n",
      "C= 1000000 gamma= 0.5 Accuracy= 1.0\n",
      "C= 1000000 gamma= 0.6 Accuracy= 1.0\n",
      "C= 1000000 gamma= 0.7 Accuracy= 1.0\n",
      "C= 1000000 gamma= 0.8 Accuracy= 1.0\n",
      "C= 1000000 gamma= 0.9 Accuracy= 1.0\n",
      "C= 1000000 gamma= 1.0 Accuracy= 1.0\n",
      "C= 1000000 gamma= 1.1 Accuracy= 1.0\n",
      "C= 1000000 gamma= 1.2 Accuracy= 1.0\n",
      "C= 1000000 gamma= 1.3 Accuracy= 1.0\n",
      "C= 1000000 gamma= 1.4 Accuracy= 1.0\n",
      "C= 1000000 gamma= 1.5 Accuracy= 1.0\n",
      "C= 1000000 gamma= 1.6 Accuracy= 1.0\n",
      "C= 1000000 gamma= 1.7 Accuracy= 1.0\n",
      "C= 1000000 gamma= 1.8 Accuracy= 1.0\n",
      "C= 1000000 gamma= 1.9 Accuracy= 1.0\n",
      "C= 1000000 gamma= 2.0 Accuracy= 1.0\n"
     ]
    }
   ],
   "source": [
    "# C = 10 ** -2\n",
    "# gamma =  0.1\n",
    "grid = {'C':[10**i for i in range(-3,7)],'gamma':[i/10 for i in range(1,21)]}\n",
    "\n",
    "\n",
    "for c in grid['C']:\n",
    "    for gamma in grid['gamma']:\n",
    "        accuracyCGForEachLabel = []\n",
    "        for label in testY.columns:\n",
    "            svm = SVC(kernel='rbf', C=c, gamma=gamma)\n",
    "            svm.fit(trainingX, trainingY[label])\n",
    "            predictedY = svm.predict(trainingX)\n",
    "            accuracy = accuracy_score(trainingY[label], predictedY)\n",
    "            accuracyCGForEachLabel.append(accuracy)\n",
    "#             print(\"label = \",label , \"C=\", c, \"gamma=\", gamma, \"Accuracy=\", accuracy)\n",
    "            \n",
    "        print(\"C=\", c, \"gamma=\", gamma, \"Accuracy=\", np.mean(accuracyCGForEachLabel))\n",
    "        "
   ]
  },
  {
   "cell_type": "markdown",
   "metadata": {},
   "source": [
    "#### (ii) Train a SVM for each of the labels"
   ]
  },
  {
   "cell_type": "code",
   "execution_count": 4,
   "metadata": {
    "scrolled": false
   },
   "outputs": [
    {
     "name": "stdout",
     "output_type": "stream",
     "text": [
      "Gaussian SVM :\n",
      "Label =  Family\n",
      "Best Score =  0.9926536021963457\n",
      "Best Params =  {'C': 10, 'gamma': 1.9}\n",
      "Label =  Genus\n",
      "Best Score =  0.9916611442456371\n",
      "Best Params =  {'C': 10, 'gamma': 1.2}\n",
      "Label =  Species\n",
      "Best Score =  0.990667502918994\n",
      "Best Params =  {'C': 10, 'gamma': 1.3}\n",
      "----------------------------------------------------------\n",
      "Hamming Loss = 0.0111162575266327\n",
      "Exact match =  0.9856415006947661\n"
     ]
    }
   ],
   "source": [
    "predictedY = {}\n",
    "print('Gaussian SVM :')\n",
    "for label in testY.columns:\n",
    "    svc = SVC(kernel='rbf',decision_function_shape='ovr')\n",
    "\n",
    "    grid = {'C':[10**i for i in range(-2,7)],'gamma':[i/10 for i in range(1,21)]}\n",
    "\n",
    "    classifier = GridSearchCV(svc, param_grid = grid, cv = 10, n_jobs = -1)\n",
    "    classifier.fit(trainingX,trainingY[label])\n",
    "    predictedY[label] = classifier.predict(testX)\n",
    "\n",
    "\n",
    "    print('Label = ',label)\n",
    "    print('Best Score = ',classifier.best_score_)\n",
    "    print('Best Params = ',classifier.best_params_ )\n",
    "\n",
    "print('----------------------------------------------------------')\n",
    "results =[]\n",
    "for label in testY.columns:\n",
    "    results.append(hamming_loss(testY[label],predictedY[label]))\n",
    "print('Hamming Loss =',np.mean(results))\n",
    "\n",
    "predictedY = pd.DataFrame.from_dict(predictedY)\n",
    "print('Exact match = ',np.all(predictedY.to_numpy() == testY.to_numpy(),axis = 1).mean())"
   ]
  },
  {
   "cell_type": "markdown",
   "metadata": {},
   "source": [
    "#### (iii) Repeat 1(b)ii with L1-penalized SVMs"
   ]
  },
  {
   "cell_type": "code",
   "execution_count": 5,
   "metadata": {
    "scrolled": true
   },
   "outputs": [
    {
     "name": "stdout",
     "output_type": "stream",
     "text": [
      "L1 penalised SVM\n",
      "Label =  Family\n",
      "Best Score =  0.9348638328757615\n",
      "Best Params =  {'linear__C': 10}\n",
      "Label =  Genus\n",
      "Best Score =  0.9463824197671116\n",
      "Best Params =  {'linear__C': 10}\n",
      "Label =  Species\n",
      "Best Score =  0.9549224494304017\n",
      "Best Params =  {'linear__C': 100}\n",
      "----------------------------------------------------------\n",
      "Hamming Loss =  0.048016056816427365\n",
      "Exact match =  0.9189439555349699\n"
     ]
    }
   ],
   "source": [
    "print('L1 penalised SVM')\n",
    "predictedYL1 = {}\n",
    "\n",
    "squaredHingeLoss =  'squared_hinge'\n",
    "l1penalty = 'l1'\n",
    "labels = testY.columns\n",
    "\n",
    "for label in labels:\n",
    "    grid = [{'linear__C':[10**i for i in range(-2,7)]}]\n",
    "\n",
    "    linearSVC = LinearSVC(penalty = l1penalty ,loss = squaredHingeLoss,dual = False, max_iter = 1000000 )\n",
    "    pipe = Pipeline([\n",
    "    ('scale', StandardScaler()),\n",
    "    ('linear', linearSVC)])\n",
    "\n",
    "    classifierL1 = GridSearchCV(pipe,param_grid = grid,cv = 10, n_jobs = -1)\n",
    "    classifierL1.fit(trainingX,trainingY[label])\n",
    "    predictedYL1[label] = classifierL1.predict(testX)\n",
    "    \n",
    "    print('Label = ',label)\n",
    "    print('Best Score = ',classifierL1.best_score_)\n",
    "    print('Best Params = ',classifierL1.best_params_ )\n",
    "    \n",
    "\n",
    "print('----------------------------------------------------------')\n",
    "results =[]\n",
    "for label in testY.columns:\n",
    "    results.append(hamming_loss(testY[label],predictedYL1[label]))\n",
    "print('Hamming Loss = ',np.mean(results))\n",
    "\n",
    "predictedYL1 = pd.DataFrame.from_dict(predictedYL1)\n",
    "print('Exact match = ',np.all(predictedYL1.to_numpy() == testY.to_numpy(),axis = 1).mean())"
   ]
  },
  {
   "cell_type": "markdown",
   "metadata": {},
   "source": [
    "#### (iv) Repeat 1(b)iii by using SMOTE or any other method for imbalance"
   ]
  },
  {
   "cell_type": "code",
   "execution_count": 6,
   "metadata": {},
   "outputs": [
    {
     "name": "stdout",
     "output_type": "stream",
     "text": [
      "L1 penalised SVM after balancing with SMOTE\n",
      "Label =  Family\n",
      "Best Score =  0.9211666508883208\n",
      "Best Params =  {'linear__C': 100}\n",
      "Label =  Genus\n",
      "Best Score =  0.9118313925968003\n",
      "Best Params =  {'linear__C': 1}\n",
      "Label =  Species\n",
      "Best Score =  0.9541287986367507\n",
      "Best Params =  {'linear__C': 10}\n",
      "----------------------------------------------------------\n",
      "Hamming Loss =  0.06268334105295661\n",
      "Exact match =  0.8712366836498379\n"
     ]
    }
   ],
   "source": [
    "print('L1 penalised SVM after balancing with SMOTE')\n",
    "\n",
    "\n",
    "predictedYL1Smote = {}\n",
    "squaredHingeLoss = 'squared_hinge'\n",
    "l1penalty = 'l1'\n",
    "\n",
    "for label in labels:\n",
    "    \n",
    "#     grid = [{'linear__C':[10**i for i in range(-3,3)]}]\n",
    "    grid = [{'linear__C':[10**i for i in range(-2,7)]}]\n",
    "    linearSVC = LinearSVC(penalty = l1penalty ,loss = squaredHingeLoss,dual = False, max_iter = 1000000 )\n",
    "    pipe = imbpipe([\n",
    "    ('smote',SMOTE()),\n",
    "    ('scale', StandardScaler()),\n",
    "    ('linear', linearSVC)])\n",
    "\n",
    "   \n",
    "    classifierL1Smote = GridSearchCV(pipe, param_grid = grid,cv = 10, n_jobs = -1)\n",
    "    classifierL1Smote.fit(trainingX,trainingY[label])\n",
    "    predictedYL1Smote[label] = classifierL1Smote.predict(testX)\n",
    "    \n",
    "    print('Label = ',label)\n",
    "    print('Best Score = ',classifierL1Smote.best_score_)\n",
    "    print('Best Params = ',classifierL1Smote.best_params_ )\n",
    "    \n",
    "print('----------------------------------------------------------')\n",
    "results =[]\n",
    "for label in testY.columns:\n",
    "    results.append(hamming_loss(testY[label],predictedYL1Smote[label]))\n",
    "print('Hamming Loss = ',np.mean(results))\n",
    "\n",
    "\n",
    "predictedYL1Smote = pd.DataFrame.from_dict(predictedYL1Smote)\n",
    "print('Exact match = ',np.all(predictedYL1Smote.to_numpy() == testY.to_numpy(),axis = 1).mean())\n"
   ]
  },
  {
   "cell_type": "markdown",
   "metadata": {},
   "source": [
    "**Gaussian SVM Results**\n",
    "Hamming Loss = 0.0111162575266327\n",
    "Exact match =  0.9856415006947661\n",
    "\n",
    "**L1-penalised SVMs**\n",
    "Hamming Loss =  0.048016056816427365\n",
    "Exact match =  0.9189439555349699\n",
    "\n",
    "**L1-penalised using SMOTE**\n",
    "Hamming Loss =  0.06268334105295661\n",
    "Exact match =  0.8712366836498379\n",
    "\n",
    "\n",
    "**We can clearly see that Gaussian SVM Results are better than L1-penalised SVMs as well as L1-penalised using Smote in terms of both Hamming Loss and Exact Matching. Also the Hamming Loss and Exact Match for L1 penalised is better without SMOTE**"
   ]
  },
  {
   "cell_type": "markdown",
   "metadata": {},
   "source": [
    "## 2. K-Means Clustering on a Multi-Class and Multi-Label Data Set"
   ]
  },
  {
   "cell_type": "code",
   "execution_count": 7,
   "metadata": {},
   "outputs": [],
   "source": [
    "dataForCluster = df.iloc[:,:-1]\n",
    "features = dataForCluster.iloc[:,:-3]\n",
    "target = dataForCluster[labels]\n",
    "# target"
   ]
  },
  {
   "cell_type": "markdown",
   "metadata": {},
   "source": [
    "### (a) Use k-means clustering\n",
    "### (b) Determine which family is the majority\n",
    "### (c) Calculate the average Hamming distance, Hamming score, and Hamming loss"
   ]
  },
  {
   "cell_type": "code",
   "execution_count": 8,
   "metadata": {},
   "outputs": [],
   "source": [
    "def initialisePredictorLabels(bestK):\n",
    "#     print(bestK)\n",
    "    predictorLabels = {}\n",
    "    for k in range(bestK):\n",
    "        predictorLabels[k] = {}\n",
    "        for label in testY.columns:\n",
    "            predictorLabels[k][label] = {}\n",
    "    return predictorLabels"
   ]
  },
  {
   "cell_type": "code",
   "execution_count": 9,
   "metadata": {},
   "outputs": [],
   "source": [
    "def predictLabels(predictors, predictedLabels):\n",
    "\n",
    "    n = len(predictors)\n",
    "    for i in range(n):\n",
    "        k = predictors[i]\n",
    "        for label in testY.columns:\n",
    "            trueLabel = df.iloc[i][label]\n",
    "            predictedLabels[k][label][trueLabel] = predictedLabels[k][label].get(trueLabel,0) + 1\n",
    "#     print('***************************predictLabels********************')\n",
    "    return predictedLabels"
   ]
  },
  {
   "cell_type": "code",
   "execution_count": 10,
   "metadata": {},
   "outputs": [],
   "source": [
    "def populateMajorityLabelsMap(majorityLabels, predictedLabels):\n",
    "#     majority_labels = {}\n",
    "#     print(\"&&&&&&&&&&&&&&&&&populateMajorityLabelsMap&&&&&&&&&&&&&&&&&&&\")\n",
    "#     display(predictedLabels)\n",
    "    \n",
    "    for k in predictedLabels:\n",
    "        majorityLabels[k] = {}\n",
    "        for label in labels:\n",
    "\n",
    "            majorityLabels[k][label] = max(predictedLabels[k][label], key=lambda item: predictedLabels[k][label][item])\n",
    "\n",
    "#     display(majorityLabels)\n",
    "    return majorityLabels"
   ]
  },
  {
   "cell_type": "code",
   "execution_count": 11,
   "metadata": {},
   "outputs": [],
   "source": [
    "##CALCULATE HAMMING LOSS AND PRINT\n",
    "def calculateHammingLoss(majorityLabels,predictors):\n",
    "    hammingLoss = []\n",
    "    hammingDistance = []\n",
    "    n = len(df)\n",
    "    for i in range(n):\n",
    "        parameter1 = df[testY.columns].iloc[i]\n",
    "        parameter2 = majorityLabels[predictors[i]]\n",
    "\n",
    "        labels = parameter2.keys()\n",
    "        results = [hamming_loss([parameter1[label]], [parameter2[label]]) for label in labels]\n",
    "\n",
    "        hammingLoss.append(np.mean(results))\n",
    "        \n",
    "    \n",
    "        \n",
    "    for i in range(len(df)):\n",
    "        parameter1 = df[testY.columns].iloc[i]\n",
    "        parameter2 = majorityLabels[predictors[i]]\n",
    "\n",
    "#         NEW CODE\n",
    "        labels = parameter2.keys()\n",
    "        results = [hamming_loss([parameter1[label]], [parameter2[label]]) for label in labels]\n",
    "        hammingDistance.append(np.sum(results))\n",
    "\n",
    "    meanHammingLoss = np.mean(hammingLoss)\n",
    "    meanHammingDistance = np.mean(hammingDistance)\n",
    "    \n",
    "    return meanHammingLoss,meanHammingDistance\n"
   ]
  },
  {
   "cell_type": "code",
   "execution_count": 12,
   "metadata": {
    "scrolled": true
   },
   "outputs": [
    {
     "name": "stdout",
     "output_type": "stream",
     "text": [
      "Iteration No. 0 :\n",
      "Best K found =  4  having Silhouette Score =  0.37863353074850936\n",
      "MAJORITY LABELS : \n"
     ]
    },
    {
     "data": {
      "text/plain": [
       "{0: {'Family': 'Leptodactylidae',\n",
       "  'Genus': 'Adenomera',\n",
       "  'Species': 'AdenomeraHylaedactylus'},\n",
       " 1: {'Family': 'Hylidae',\n",
       "  'Genus': 'Hypsiboas',\n",
       "  'Species': 'HypsiboasCinerascens'},\n",
       " 2: {'Family': 'Dendrobatidae',\n",
       "  'Genus': 'Ameerega',\n",
       "  'Species': 'Ameeregatrivittata'},\n",
       " 3: {'Family': 'Hylidae',\n",
       "  'Genus': 'Hypsiboas',\n",
       "  'Species': 'HypsiboasCordobae'}}"
      ]
     },
     "metadata": {},
     "output_type": "display_data"
    },
    {
     "name": "stdout",
     "output_type": "stream",
     "text": [
      "Avg Hamming Score 0.7775770210794534\n",
      "Avg Hamming Loss =  0.22242297892054666\n",
      "Avg hamming Distance= 0.66726893676164\n",
      "Iteration No. 1 :\n",
      "Best K found =  4  having Silhouette Score =  0.37867825251598397\n",
      "MAJORITY LABELS : \n"
     ]
    },
    {
     "data": {
      "text/plain": [
       "{0: {'Family': 'Dendrobatidae',\n",
       "  'Genus': 'Ameerega',\n",
       "  'Species': 'Ameeregatrivittata'},\n",
       " 1: {'Family': 'Leptodactylidae',\n",
       "  'Genus': 'Adenomera',\n",
       "  'Species': 'AdenomeraHylaedactylus'},\n",
       " 2: {'Family': 'Hylidae',\n",
       "  'Genus': 'Hypsiboas',\n",
       "  'Species': 'HypsiboasCordobae'},\n",
       " 3: {'Family': 'Hylidae',\n",
       "  'Genus': 'Hypsiboas',\n",
       "  'Species': 'HypsiboasCinerascens'}}"
      ]
     },
     "metadata": {},
     "output_type": "display_data"
    },
    {
     "name": "stdout",
     "output_type": "stream",
     "text": [
      "Avg Hamming Score 0.7775770210794534\n",
      "Avg Hamming Loss =  0.22242297892054666\n",
      "Avg hamming Distance= 0.66726893676164\n",
      "Iteration No. 2 :\n",
      "Best K found =  4  having Silhouette Score =  0.38523395202479643\n",
      "MAJORITY LABELS : \n"
     ]
    },
    {
     "data": {
      "text/plain": [
       "{0: {'Family': 'Leptodactylidae',\n",
       "  'Genus': 'Adenomera',\n",
       "  'Species': 'AdenomeraHylaedactylus'},\n",
       " 1: {'Family': 'Hylidae',\n",
       "  'Genus': 'Hypsiboas',\n",
       "  'Species': 'HypsiboasCinerascens'},\n",
       " 2: {'Family': 'Hylidae',\n",
       "  'Genus': 'Hypsiboas',\n",
       "  'Species': 'HypsiboasCordobae'},\n",
       " 3: {'Family': 'Dendrobatidae',\n",
       "  'Genus': 'Ameerega',\n",
       "  'Species': 'Ameeregatrivittata'}}"
      ]
     },
     "metadata": {},
     "output_type": "display_data"
    },
    {
     "name": "stdout",
     "output_type": "stream",
     "text": [
      "Avg Hamming Score 0.7778549918925179\n",
      "Avg Hamming Loss =  0.22214500810748203\n",
      "Avg hamming Distance= 0.6664350243224462\n",
      "Iteration No. 3 :\n",
      "Best K found =  4  having Silhouette Score =  0.3787509343305295\n",
      "MAJORITY LABELS : \n"
     ]
    },
    {
     "data": {
      "text/plain": [
       "{0: {'Family': 'Hylidae',\n",
       "  'Genus': 'Hypsiboas',\n",
       "  'Species': 'HypsiboasCinerascens'},\n",
       " 1: {'Family': 'Leptodactylidae',\n",
       "  'Genus': 'Adenomera',\n",
       "  'Species': 'AdenomeraHylaedactylus'},\n",
       " 2: {'Family': 'Hylidae',\n",
       "  'Genus': 'Hypsiboas',\n",
       "  'Species': 'HypsiboasCordobae'},\n",
       " 3: {'Family': 'Dendrobatidae',\n",
       "  'Genus': 'Ameerega',\n",
       "  'Species': 'Ameeregatrivittata'}}"
      ]
     },
     "metadata": {},
     "output_type": "display_data"
    },
    {
     "name": "stdout",
     "output_type": "stream",
     "text": [
      "Avg Hamming Score 0.7775770210794534\n",
      "Avg Hamming Loss =  0.22242297892054666\n",
      "Avg hamming Distance= 0.66726893676164\n",
      "Iteration No. 4 :\n",
      "Best K found =  4  having Silhouette Score =  0.37863353074850936\n",
      "MAJORITY LABELS : \n"
     ]
    },
    {
     "data": {
      "text/plain": [
       "{0: {'Family': 'Dendrobatidae',\n",
       "  'Genus': 'Ameerega',\n",
       "  'Species': 'Ameeregatrivittata'},\n",
       " 1: {'Family': 'Leptodactylidae',\n",
       "  'Genus': 'Adenomera',\n",
       "  'Species': 'AdenomeraHylaedactylus'},\n",
       " 2: {'Family': 'Hylidae',\n",
       "  'Genus': 'Hypsiboas',\n",
       "  'Species': 'HypsiboasCordobae'},\n",
       " 3: {'Family': 'Hylidae',\n",
       "  'Genus': 'Hypsiboas',\n",
       "  'Species': 'HypsiboasCinerascens'}}"
      ]
     },
     "metadata": {},
     "output_type": "display_data"
    },
    {
     "name": "stdout",
     "output_type": "stream",
     "text": [
      "Avg Hamming Score 0.7775770210794534\n",
      "Avg Hamming Loss =  0.22242297892054666\n",
      "Avg hamming Distance= 0.66726893676164\n",
      "Iteration No. 5 :\n",
      "Best K found =  4  having Silhouette Score =  0.3787509343305295\n",
      "MAJORITY LABELS : \n"
     ]
    },
    {
     "data": {
      "text/plain": [
       "{0: {'Family': 'Leptodactylidae',\n",
       "  'Genus': 'Adenomera',\n",
       "  'Species': 'AdenomeraHylaedactylus'},\n",
       " 1: {'Family': 'Hylidae',\n",
       "  'Genus': 'Hypsiboas',\n",
       "  'Species': 'HypsiboasCordobae'},\n",
       " 2: {'Family': 'Hylidae',\n",
       "  'Genus': 'Hypsiboas',\n",
       "  'Species': 'HypsiboasCinerascens'},\n",
       " 3: {'Family': 'Dendrobatidae',\n",
       "  'Genus': 'Ameerega',\n",
       "  'Species': 'Ameeregatrivittata'}}"
      ]
     },
     "metadata": {},
     "output_type": "display_data"
    },
    {
     "name": "stdout",
     "output_type": "stream",
     "text": [
      "Avg Hamming Score 0.7775770210794534\n",
      "Avg Hamming Loss =  0.22242297892054666\n",
      "Avg hamming Distance= 0.66726893676164\n",
      "Iteration No. 6 :\n",
      "Best K found =  4  having Silhouette Score =  0.3787509343305295\n",
      "MAJORITY LABELS : \n"
     ]
    },
    {
     "data": {
      "text/plain": [
       "{0: {'Family': 'Leptodactylidae',\n",
       "  'Genus': 'Adenomera',\n",
       "  'Species': 'AdenomeraHylaedactylus'},\n",
       " 1: {'Family': 'Hylidae',\n",
       "  'Genus': 'Hypsiboas',\n",
       "  'Species': 'HypsiboasCordobae'},\n",
       " 2: {'Family': 'Hylidae',\n",
       "  'Genus': 'Hypsiboas',\n",
       "  'Species': 'HypsiboasCinerascens'},\n",
       " 3: {'Family': 'Dendrobatidae',\n",
       "  'Genus': 'Ameerega',\n",
       "  'Species': 'Ameeregatrivittata'}}"
      ]
     },
     "metadata": {},
     "output_type": "display_data"
    },
    {
     "name": "stdout",
     "output_type": "stream",
     "text": [
      "Avg Hamming Score 0.7775770210794534\n",
      "Avg Hamming Loss =  0.22242297892054666\n",
      "Avg hamming Distance= 0.66726893676164\n",
      "Iteration No. 7 :\n",
      "Best K found =  4  having Silhouette Score =  0.37866647707550904\n",
      "MAJORITY LABELS : \n"
     ]
    },
    {
     "data": {
      "text/plain": [
       "{0: {'Family': 'Leptodactylidae',\n",
       "  'Genus': 'Adenomera',\n",
       "  'Species': 'AdenomeraHylaedactylus'},\n",
       " 1: {'Family': 'Hylidae',\n",
       "  'Genus': 'Hypsiboas',\n",
       "  'Species': 'HypsiboasCordobae'},\n",
       " 2: {'Family': 'Dendrobatidae',\n",
       "  'Genus': 'Ameerega',\n",
       "  'Species': 'Ameeregatrivittata'},\n",
       " 3: {'Family': 'Hylidae',\n",
       "  'Genus': 'Hypsiboas',\n",
       "  'Species': 'HypsiboasCinerascens'}}"
      ]
     },
     "metadata": {},
     "output_type": "display_data"
    },
    {
     "name": "stdout",
     "output_type": "stream",
     "text": [
      "Avg Hamming Score 0.7775770210794534\n",
      "Avg Hamming Loss =  0.22242297892054666\n",
      "Avg hamming Distance= 0.66726893676164\n",
      "Iteration No. 8 :\n",
      "Best K found =  4  having Silhouette Score =  0.3788646212055977\n",
      "MAJORITY LABELS : \n"
     ]
    },
    {
     "data": {
      "text/plain": [
       "{0: {'Family': 'Hylidae',\n",
       "  'Genus': 'Hypsiboas',\n",
       "  'Species': 'HypsiboasCordobae'},\n",
       " 1: {'Family': 'Leptodactylidae',\n",
       "  'Genus': 'Adenomera',\n",
       "  'Species': 'AdenomeraHylaedactylus'},\n",
       " 2: {'Family': 'Dendrobatidae',\n",
       "  'Genus': 'Ameerega',\n",
       "  'Species': 'Ameeregatrivittata'},\n",
       " 3: {'Family': 'Hylidae',\n",
       "  'Genus': 'Hypsiboas',\n",
       "  'Species': 'HypsiboasCinerascens'}}"
      ]
     },
     "metadata": {},
     "output_type": "display_data"
    },
    {
     "name": "stdout",
     "output_type": "stream",
     "text": [
      "Avg Hamming Score 0.7775306926106093\n",
      "Avg Hamming Loss =  0.22246930738939075\n",
      "Avg hamming Distance= 0.6674079221681724\n",
      "Iteration No. 9 :\n",
      "Best K found =  4  having Silhouette Score =  0.37867825251598397\n",
      "MAJORITY LABELS : \n"
     ]
    },
    {
     "data": {
      "text/plain": [
       "{0: {'Family': 'Leptodactylidae',\n",
       "  'Genus': 'Adenomera',\n",
       "  'Species': 'AdenomeraHylaedactylus'},\n",
       " 1: {'Family': 'Hylidae',\n",
       "  'Genus': 'Hypsiboas',\n",
       "  'Species': 'HypsiboasCordobae'},\n",
       " 2: {'Family': 'Hylidae',\n",
       "  'Genus': 'Hypsiboas',\n",
       "  'Species': 'HypsiboasCinerascens'},\n",
       " 3: {'Family': 'Dendrobatidae',\n",
       "  'Genus': 'Ameerega',\n",
       "  'Species': 'Ameeregatrivittata'}}"
      ]
     },
     "metadata": {},
     "output_type": "display_data"
    },
    {
     "name": "stdout",
     "output_type": "stream",
     "text": [
      "Avg Hamming Score 0.7775770210794534\n",
      "Avg Hamming Loss =  0.22242297892054666\n",
      "Avg hamming Distance= 0.66726893676164\n",
      "Iteration No. 10 :\n",
      "Best K found =  4  having Silhouette Score =  0.3787509343305295\n",
      "MAJORITY LABELS : \n"
     ]
    },
    {
     "data": {
      "text/plain": [
       "{0: {'Family': 'Leptodactylidae',\n",
       "  'Genus': 'Adenomera',\n",
       "  'Species': 'AdenomeraHylaedactylus'},\n",
       " 1: {'Family': 'Dendrobatidae',\n",
       "  'Genus': 'Ameerega',\n",
       "  'Species': 'Ameeregatrivittata'},\n",
       " 2: {'Family': 'Hylidae',\n",
       "  'Genus': 'Hypsiboas',\n",
       "  'Species': 'HypsiboasCinerascens'},\n",
       " 3: {'Family': 'Hylidae',\n",
       "  'Genus': 'Hypsiboas',\n",
       "  'Species': 'HypsiboasCordobae'}}"
      ]
     },
     "metadata": {},
     "output_type": "display_data"
    },
    {
     "name": "stdout",
     "output_type": "stream",
     "text": [
      "Avg Hamming Score 0.7780866342367385\n",
      "Avg Hamming Loss =  0.2219133657632615\n",
      "Avg hamming Distance= 0.6657400972897846\n",
      "Iteration No. 11 :\n",
      "Best K found =  4  having Silhouette Score =  0.3787509343305295\n",
      "MAJORITY LABELS : \n"
     ]
    },
    {
     "data": {
      "text/plain": [
       "{0: {'Family': 'Hylidae',\n",
       "  'Genus': 'Hypsiboas',\n",
       "  'Species': 'HypsiboasCordobae'},\n",
       " 1: {'Family': 'Leptodactylidae',\n",
       "  'Genus': 'Adenomera',\n",
       "  'Species': 'AdenomeraHylaedactylus'},\n",
       " 2: {'Family': 'Hylidae',\n",
       "  'Genus': 'Hypsiboas',\n",
       "  'Species': 'HypsiboasCinerascens'},\n",
       " 3: {'Family': 'Dendrobatidae',\n",
       "  'Genus': 'Ameerega',\n",
       "  'Species': 'Ameeregatrivittata'}}"
      ]
     },
     "metadata": {},
     "output_type": "display_data"
    },
    {
     "name": "stdout",
     "output_type": "stream",
     "text": [
      "Avg Hamming Score 0.7775770210794534\n",
      "Avg Hamming Loss =  0.22242297892054666\n",
      "Avg hamming Distance= 0.66726893676164\n",
      "Iteration No. 12 :\n",
      "Best K found =  4  having Silhouette Score =  0.38523395202479643\n",
      "MAJORITY LABELS : \n"
     ]
    },
    {
     "data": {
      "text/plain": [
       "{0: {'Family': 'Hylidae',\n",
       "  'Genus': 'Hypsiboas',\n",
       "  'Species': 'HypsiboasCordobae'},\n",
       " 1: {'Family': 'Leptodactylidae',\n",
       "  'Genus': 'Adenomera',\n",
       "  'Species': 'AdenomeraHylaedactylus'},\n",
       " 2: {'Family': 'Dendrobatidae',\n",
       "  'Genus': 'Ameerega',\n",
       "  'Species': 'Ameeregatrivittata'},\n",
       " 3: {'Family': 'Hylidae',\n",
       "  'Genus': 'Hypsiboas',\n",
       "  'Species': 'HypsiboasCinerascens'}}"
      ]
     },
     "metadata": {},
     "output_type": "display_data"
    },
    {
     "name": "stdout",
     "output_type": "stream",
     "text": [
      "Avg Hamming Score 0.7775770210794534\n",
      "Avg Hamming Loss =  0.22242297892054666\n",
      "Avg hamming Distance= 0.66726893676164\n",
      "Iteration No. 13 :\n",
      "Best K found =  4  having Silhouette Score =  0.37863353074850936\n",
      "MAJORITY LABELS : \n"
     ]
    },
    {
     "data": {
      "text/plain": [
       "{0: {'Family': 'Hylidae',\n",
       "  'Genus': 'Hypsiboas',\n",
       "  'Species': 'HypsiboasCordobae'},\n",
       " 1: {'Family': 'Leptodactylidae',\n",
       "  'Genus': 'Adenomera',\n",
       "  'Species': 'AdenomeraHylaedactylus'},\n",
       " 2: {'Family': 'Hylidae',\n",
       "  'Genus': 'Hypsiboas',\n",
       "  'Species': 'HypsiboasCinerascens'},\n",
       " 3: {'Family': 'Dendrobatidae',\n",
       "  'Genus': 'Ameerega',\n",
       "  'Species': 'Ameeregatrivittata'}}"
      ]
     },
     "metadata": {},
     "output_type": "display_data"
    },
    {
     "name": "stdout",
     "output_type": "stream",
     "text": [
      "Avg Hamming Score 0.7775770210794534\n",
      "Avg Hamming Loss =  0.22242297892054666\n",
      "Avg hamming Distance= 0.66726893676164\n",
      "Iteration No. 14 :\n",
      "Best K found =  4  having Silhouette Score =  0.3787509343305295\n",
      "MAJORITY LABELS : \n"
     ]
    },
    {
     "data": {
      "text/plain": [
       "{0: {'Family': 'Leptodactylidae',\n",
       "  'Genus': 'Adenomera',\n",
       "  'Species': 'AdenomeraHylaedactylus'},\n",
       " 1: {'Family': 'Hylidae',\n",
       "  'Genus': 'Hypsiboas',\n",
       "  'Species': 'HypsiboasCordobae'},\n",
       " 2: {'Family': 'Dendrobatidae',\n",
       "  'Genus': 'Ameerega',\n",
       "  'Species': 'Ameeregatrivittata'},\n",
       " 3: {'Family': 'Hylidae',\n",
       "  'Genus': 'Hypsiboas',\n",
       "  'Species': 'HypsiboasCinerascens'}}"
      ]
     },
     "metadata": {},
     "output_type": "display_data"
    },
    {
     "name": "stdout",
     "output_type": "stream",
     "text": [
      "Avg Hamming Score 0.7775770210794534\n",
      "Avg Hamming Loss =  0.22242297892054666\n",
      "Avg hamming Distance= 0.66726893676164\n",
      "Iteration No. 15 :\n",
      "Best K found =  4  having Silhouette Score =  0.37867825251598397\n",
      "MAJORITY LABELS : \n"
     ]
    },
    {
     "data": {
      "text/plain": [
       "{0: {'Family': 'Hylidae',\n",
       "  'Genus': 'Hypsiboas',\n",
       "  'Species': 'HypsiboasCinerascens'},\n",
       " 1: {'Family': 'Leptodactylidae',\n",
       "  'Genus': 'Adenomera',\n",
       "  'Species': 'AdenomeraHylaedactylus'},\n",
       " 2: {'Family': 'Dendrobatidae',\n",
       "  'Genus': 'Ameerega',\n",
       "  'Species': 'Ameeregatrivittata'},\n",
       " 3: {'Family': 'Hylidae',\n",
       "  'Genus': 'Hypsiboas',\n",
       "  'Species': 'HypsiboasCordobae'}}"
      ]
     },
     "metadata": {},
     "output_type": "display_data"
    },
    {
     "name": "stdout",
     "output_type": "stream",
     "text": [
      "Avg Hamming Score 0.7775770210794534\n",
      "Avg Hamming Loss =  0.22242297892054666\n",
      "Avg hamming Distance= 0.66726893676164\n",
      "Iteration No. 16 :\n",
      "Best K found =  4  having Silhouette Score =  0.3788646212055977\n",
      "MAJORITY LABELS : \n"
     ]
    },
    {
     "data": {
      "text/plain": [
       "{0: {'Family': 'Dendrobatidae',\n",
       "  'Genus': 'Ameerega',\n",
       "  'Species': 'Ameeregatrivittata'},\n",
       " 1: {'Family': 'Hylidae',\n",
       "  'Genus': 'Hypsiboas',\n",
       "  'Species': 'HypsiboasCordobae'},\n",
       " 2: {'Family': 'Leptodactylidae',\n",
       "  'Genus': 'Adenomera',\n",
       "  'Species': 'AdenomeraHylaedactylus'},\n",
       " 3: {'Family': 'Hylidae',\n",
       "  'Genus': 'Hypsiboas',\n",
       "  'Species': 'HypsiboasCinerascens'}}"
      ]
     },
     "metadata": {},
     "output_type": "display_data"
    },
    {
     "name": "stdout",
     "output_type": "stream",
     "text": [
      "Avg Hamming Score 0.7775770210794534\n",
      "Avg Hamming Loss =  0.22242297892054666\n",
      "Avg hamming Distance= 0.66726893676164\n",
      "Iteration No. 17 :\n",
      "Best K found =  4  having Silhouette Score =  0.38404734963425025\n",
      "MAJORITY LABELS : \n"
     ]
    },
    {
     "data": {
      "text/plain": [
       "{0: {'Family': 'Hylidae',\n",
       "  'Genus': 'Hypsiboas',\n",
       "  'Species': 'HypsiboasCordobae'},\n",
       " 1: {'Family': 'Leptodactylidae',\n",
       "  'Genus': 'Adenomera',\n",
       "  'Species': 'AdenomeraHylaedactylus'},\n",
       " 2: {'Family': 'Hylidae',\n",
       "  'Genus': 'Hypsiboas',\n",
       "  'Species': 'HypsiboasCinerascens'},\n",
       " 3: {'Family': 'Dendrobatidae',\n",
       "  'Genus': 'Ameerega',\n",
       "  'Species': 'Ameeregatrivittata'}}"
      ]
     },
     "metadata": {},
     "output_type": "display_data"
    },
    {
     "name": "stdout",
     "output_type": "stream",
     "text": [
      "Avg Hamming Score 0.7777160064859856\n",
      "Avg Hamming Loss =  0.22228399351401434\n",
      "Avg hamming Distance= 0.6668519805420431\n",
      "Iteration No. 18 :\n",
      "Best K found =  4  having Silhouette Score =  0.37866647707550904\n",
      "MAJORITY LABELS : \n"
     ]
    },
    {
     "data": {
      "text/plain": [
       "{0: {'Family': 'Leptodactylidae',\n",
       "  'Genus': 'Adenomera',\n",
       "  'Species': 'AdenomeraHylaedactylus'},\n",
       " 1: {'Family': 'Hylidae',\n",
       "  'Genus': 'Hypsiboas',\n",
       "  'Species': 'HypsiboasCordobae'},\n",
       " 2: {'Family': 'Hylidae',\n",
       "  'Genus': 'Hypsiboas',\n",
       "  'Species': 'HypsiboasCinerascens'},\n",
       " 3: {'Family': 'Dendrobatidae',\n",
       "  'Genus': 'Ameerega',\n",
       "  'Species': 'Ameeregatrivittata'}}"
      ]
     },
     "metadata": {},
     "output_type": "display_data"
    },
    {
     "name": "stdout",
     "output_type": "stream",
     "text": [
      "Avg Hamming Score 0.7775770210794534\n",
      "Avg Hamming Loss =  0.22242297892054666\n",
      "Avg hamming Distance= 0.66726893676164\n",
      "Iteration No. 19 :\n",
      "Best K found =  4  having Silhouette Score =  0.37888514720477384\n",
      "MAJORITY LABELS : \n"
     ]
    },
    {
     "data": {
      "text/plain": [
       "{0: {'Family': 'Hylidae',\n",
       "  'Genus': 'Hypsiboas',\n",
       "  'Species': 'HypsiboasCinerascens'},\n",
       " 1: {'Family': 'Leptodactylidae',\n",
       "  'Genus': 'Adenomera',\n",
       "  'Species': 'AdenomeraHylaedactylus'},\n",
       " 2: {'Family': 'Dendrobatidae',\n",
       "  'Genus': 'Ameerega',\n",
       "  'Species': 'Ameeregatrivittata'},\n",
       " 3: {'Family': 'Hylidae',\n",
       "  'Genus': 'Hypsiboas',\n",
       "  'Species': 'HypsiboasCordobae'}}"
      ]
     },
     "metadata": {},
     "output_type": "display_data"
    },
    {
     "name": "stdout",
     "output_type": "stream",
     "text": [
      "Avg Hamming Score 0.7779476488302062\n",
      "Avg Hamming Loss =  0.22205235116979383\n",
      "Avg hamming Distance= 0.6661570535093815\n",
      "Iteration No. 20 :\n",
      "Best K found =  4  having Silhouette Score =  0.3787509343305295\n",
      "MAJORITY LABELS : \n"
     ]
    },
    {
     "data": {
      "text/plain": [
       "{0: {'Family': 'Leptodactylidae',\n",
       "  'Genus': 'Adenomera',\n",
       "  'Species': 'AdenomeraHylaedactylus'},\n",
       " 1: {'Family': 'Hylidae',\n",
       "  'Genus': 'Hypsiboas',\n",
       "  'Species': 'HypsiboasCinerascens'},\n",
       " 2: {'Family': 'Dendrobatidae',\n",
       "  'Genus': 'Ameerega',\n",
       "  'Species': 'Ameeregatrivittata'},\n",
       " 3: {'Family': 'Hylidae',\n",
       "  'Genus': 'Hypsiboas',\n",
       "  'Species': 'HypsiboasCordobae'}}"
      ]
     },
     "metadata": {},
     "output_type": "display_data"
    },
    {
     "name": "stdout",
     "output_type": "stream",
     "text": [
      "Avg Hamming Score 0.7775770210794534\n",
      "Avg Hamming Loss =  0.22242297892054666\n",
      "Avg hamming Distance= 0.66726893676164\n",
      "Iteration No. 21 :\n",
      "Best K found =  4  having Silhouette Score =  0.374709713992453\n",
      "MAJORITY LABELS : \n"
     ]
    },
    {
     "data": {
      "text/plain": [
       "{0: {'Family': 'Leptodactylidae',\n",
       "  'Genus': 'Adenomera',\n",
       "  'Species': 'AdenomeraHylaedactylus'},\n",
       " 1: {'Family': 'Hylidae',\n",
       "  'Genus': 'Hypsiboas',\n",
       "  'Species': 'HypsiboasCordobae'},\n",
       " 2: {'Family': 'Dendrobatidae',\n",
       "  'Genus': 'Ameerega',\n",
       "  'Species': 'Ameeregatrivittata'},\n",
       " 3: {'Family': 'Hylidae',\n",
       "  'Genus': 'Hypsiboas',\n",
       "  'Species': 'HypsiboasCinerascens'}}"
      ]
     },
     "metadata": {},
     "output_type": "display_data"
    },
    {
     "name": "stdout",
     "output_type": "stream",
     "text": [
      "Avg Hamming Score 0.7775770210794534\n",
      "Avg Hamming Loss =  0.22242297892054666\n",
      "Avg hamming Distance= 0.66726893676164\n",
      "Iteration No. 22 :\n",
      "Best K found =  4  having Silhouette Score =  0.3787509343305295\n",
      "MAJORITY LABELS : \n"
     ]
    },
    {
     "data": {
      "text/plain": [
       "{0: {'Family': 'Leptodactylidae',\n",
       "  'Genus': 'Adenomera',\n",
       "  'Species': 'AdenomeraHylaedactylus'},\n",
       " 1: {'Family': 'Hylidae',\n",
       "  'Genus': 'Hypsiboas',\n",
       "  'Species': 'HypsiboasCordobae'},\n",
       " 2: {'Family': 'Dendrobatidae',\n",
       "  'Genus': 'Ameerega',\n",
       "  'Species': 'Ameeregatrivittata'},\n",
       " 3: {'Family': 'Hylidae',\n",
       "  'Genus': 'Hypsiboas',\n",
       "  'Species': 'HypsiboasCinerascens'}}"
      ]
     },
     "metadata": {},
     "output_type": "display_data"
    },
    {
     "name": "stdout",
     "output_type": "stream",
     "text": [
      "Avg Hamming Score 0.7775770210794534\n",
      "Avg Hamming Loss =  0.22242297892054666\n",
      "Avg hamming Distance= 0.66726893676164\n",
      "Iteration No. 23 :\n",
      "Best K found =  4  having Silhouette Score =  0.37866647707550904\n",
      "MAJORITY LABELS : \n"
     ]
    },
    {
     "data": {
      "text/plain": [
       "{0: {'Family': 'Leptodactylidae',\n",
       "  'Genus': 'Adenomera',\n",
       "  'Species': 'AdenomeraHylaedactylus'},\n",
       " 1: {'Family': 'Hylidae',\n",
       "  'Genus': 'Hypsiboas',\n",
       "  'Species': 'HypsiboasCinerascens'},\n",
       " 2: {'Family': 'Hylidae',\n",
       "  'Genus': 'Hypsiboas',\n",
       "  'Species': 'HypsiboasCordobae'},\n",
       " 3: {'Family': 'Dendrobatidae',\n",
       "  'Genus': 'Ameerega',\n",
       "  'Species': 'Ameeregatrivittata'}}"
      ]
     },
     "metadata": {},
     "output_type": "display_data"
    },
    {
     "name": "stdout",
     "output_type": "stream",
     "text": [
      "Avg Hamming Score 0.7775770210794534\n",
      "Avg Hamming Loss =  0.22242297892054666\n",
      "Avg hamming Distance= 0.66726893676164\n",
      "Iteration No. 24 :\n",
      "Best K found =  4  having Silhouette Score =  0.3787509343305295\n",
      "MAJORITY LABELS : \n"
     ]
    },
    {
     "data": {
      "text/plain": [
       "{0: {'Family': 'Hylidae',\n",
       "  'Genus': 'Hypsiboas',\n",
       "  'Species': 'HypsiboasCinerascens'},\n",
       " 1: {'Family': 'Hylidae',\n",
       "  'Genus': 'Hypsiboas',\n",
       "  'Species': 'HypsiboasCordobae'},\n",
       " 2: {'Family': 'Leptodactylidae',\n",
       "  'Genus': 'Adenomera',\n",
       "  'Species': 'AdenomeraHylaedactylus'},\n",
       " 3: {'Family': 'Dendrobatidae',\n",
       "  'Genus': 'Ameerega',\n",
       "  'Species': 'Ameeregatrivittata'}}"
      ]
     },
     "metadata": {},
     "output_type": "display_data"
    },
    {
     "name": "stdout",
     "output_type": "stream",
     "text": [
      "Avg Hamming Score 0.7775770210794534\n",
      "Avg Hamming Loss =  0.22242297892054666\n",
      "Avg hamming Distance= 0.66726893676164\n",
      "Iteration No. 25 :\n",
      "Best K found =  4  having Silhouette Score =  0.38523395202479643\n",
      "MAJORITY LABELS : \n"
     ]
    },
    {
     "data": {
      "text/plain": [
       "{0: {'Family': 'Hylidae',\n",
       "  'Genus': 'Hypsiboas',\n",
       "  'Species': 'HypsiboasCordobae'},\n",
       " 1: {'Family': 'Leptodactylidae',\n",
       "  'Genus': 'Adenomera',\n",
       "  'Species': 'AdenomeraHylaedactylus'},\n",
       " 2: {'Family': 'Hylidae',\n",
       "  'Genus': 'Hypsiboas',\n",
       "  'Species': 'HypsiboasCinerascens'},\n",
       " 3: {'Family': 'Dendrobatidae',\n",
       "  'Genus': 'Ameerega',\n",
       "  'Species': 'Ameeregatrivittata'}}"
      ]
     },
     "metadata": {},
     "output_type": "display_data"
    },
    {
     "name": "stdout",
     "output_type": "stream",
     "text": [
      "Avg Hamming Score 0.7775770210794534\n",
      "Avg Hamming Loss =  0.22242297892054666\n",
      "Avg hamming Distance= 0.66726893676164\n",
      "Iteration No. 26 :\n",
      "Best K found =  4  having Silhouette Score =  0.3787509343305295\n",
      "MAJORITY LABELS : \n"
     ]
    },
    {
     "data": {
      "text/plain": [
       "{0: {'Family': 'Hylidae',\n",
       "  'Genus': 'Hypsiboas',\n",
       "  'Species': 'HypsiboasCordobae'},\n",
       " 1: {'Family': 'Leptodactylidae',\n",
       "  'Genus': 'Adenomera',\n",
       "  'Species': 'AdenomeraHylaedactylus'},\n",
       " 2: {'Family': 'Hylidae',\n",
       "  'Genus': 'Hypsiboas',\n",
       "  'Species': 'HypsiboasCinerascens'},\n",
       " 3: {'Family': 'Dendrobatidae',\n",
       "  'Genus': 'Ameerega',\n",
       "  'Species': 'Ameeregatrivittata'}}"
      ]
     },
     "metadata": {},
     "output_type": "display_data"
    },
    {
     "name": "stdout",
     "output_type": "stream",
     "text": [
      "Avg Hamming Score 0.7775770210794534\n",
      "Avg Hamming Loss =  0.22242297892054666\n",
      "Avg hamming Distance= 0.66726893676164\n",
      "Iteration No. 27 :\n",
      "Best K found =  4  having Silhouette Score =  0.3787509343305295\n",
      "MAJORITY LABELS : \n"
     ]
    },
    {
     "data": {
      "text/plain": [
       "{0: {'Family': 'Leptodactylidae',\n",
       "  'Genus': 'Adenomera',\n",
       "  'Species': 'AdenomeraHylaedactylus'},\n",
       " 1: {'Family': 'Hylidae',\n",
       "  'Genus': 'Hypsiboas',\n",
       "  'Species': 'HypsiboasCordobae'},\n",
       " 2: {'Family': 'Leptodactylidae',\n",
       "  'Genus': 'Adenomera',\n",
       "  'Species': 'AdenomeraAndre'},\n",
       " 3: {'Family': 'Hylidae',\n",
       "  'Genus': 'Hypsiboas',\n",
       "  'Species': 'HypsiboasCinerascens'}}"
      ]
     },
     "metadata": {},
     "output_type": "display_data"
    },
    {
     "name": "stdout",
     "output_type": "stream",
     "text": [
      "Avg Hamming Score 0.7662728746814917\n",
      "Avg Hamming Loss =  0.2337271253185082\n",
      "Avg hamming Distance= 0.7011813759555247\n",
      "Iteration No. 28 :\n",
      "Best K found =  4  having Silhouette Score =  0.3788646212055977\n",
      "MAJORITY LABELS : \n"
     ]
    },
    {
     "data": {
      "text/plain": [
       "{0: {'Family': 'Hylidae',\n",
       "  'Genus': 'Hypsiboas',\n",
       "  'Species': 'HypsiboasCordobae'},\n",
       " 1: {'Family': 'Leptodactylidae',\n",
       "  'Genus': 'Adenomera',\n",
       "  'Species': 'AdenomeraHylaedactylus'},\n",
       " 2: {'Family': 'Hylidae',\n",
       "  'Genus': 'Hypsiboas',\n",
       "  'Species': 'HypsiboasCinerascens'},\n",
       " 3: {'Family': 'Dendrobatidae',\n",
       "  'Genus': 'Ameerega',\n",
       "  'Species': 'Ameeregatrivittata'}}"
      ]
     },
     "metadata": {},
     "output_type": "display_data"
    },
    {
     "name": "stdout",
     "output_type": "stream",
     "text": [
      "Avg Hamming Score 0.7775770210794534\n",
      "Avg Hamming Loss =  0.22242297892054666\n",
      "Avg hamming Distance= 0.66726893676164\n",
      "Iteration No. 29 :\n",
      "Best K found =  4  having Silhouette Score =  0.3788646212055977\n",
      "MAJORITY LABELS : \n"
     ]
    },
    {
     "data": {
      "text/plain": [
       "{0: {'Family': 'Dendrobatidae',\n",
       "  'Genus': 'Ameerega',\n",
       "  'Species': 'Ameeregatrivittata'},\n",
       " 1: {'Family': 'Leptodactylidae',\n",
       "  'Genus': 'Adenomera',\n",
       "  'Species': 'AdenomeraHylaedactylus'},\n",
       " 2: {'Family': 'Hylidae',\n",
       "  'Genus': 'Hypsiboas',\n",
       "  'Species': 'HypsiboasCordobae'},\n",
       " 3: {'Family': 'Hylidae',\n",
       "  'Genus': 'Hypsiboas',\n",
       "  'Species': 'HypsiboasCinerascens'}}"
      ]
     },
     "metadata": {},
     "output_type": "display_data"
    },
    {
     "name": "stdout",
     "output_type": "stream",
     "text": [
      "Avg Hamming Score 0.7775770210794534\n",
      "Avg Hamming Loss =  0.22242297892054666\n",
      "Avg hamming Distance= 0.66726893676164\n",
      "Iteration No. 30 :\n",
      "Best K found =  4  having Silhouette Score =  0.3787509343305295\n",
      "MAJORITY LABELS : \n"
     ]
    },
    {
     "data": {
      "text/plain": [
       "{0: {'Family': 'Dendrobatidae',\n",
       "  'Genus': 'Ameerega',\n",
       "  'Species': 'Ameeregatrivittata'},\n",
       " 1: {'Family': 'Hylidae',\n",
       "  'Genus': 'Hypsiboas',\n",
       "  'Species': 'HypsiboasCordobae'},\n",
       " 2: {'Family': 'Leptodactylidae',\n",
       "  'Genus': 'Adenomera',\n",
       "  'Species': 'AdenomeraHylaedactylus'},\n",
       " 3: {'Family': 'Hylidae',\n",
       "  'Genus': 'Hypsiboas',\n",
       "  'Species': 'HypsiboasCinerascens'}}"
      ]
     },
     "metadata": {},
     "output_type": "display_data"
    },
    {
     "name": "stdout",
     "output_type": "stream",
     "text": [
      "Avg Hamming Score 0.7775770210794534\n",
      "Avg Hamming Loss =  0.22242297892054666\n",
      "Avg hamming Distance= 0.66726893676164\n",
      "Iteration No. 31 :\n",
      "Best K found =  4  having Silhouette Score =  0.38523395202479643\n",
      "MAJORITY LABELS : \n"
     ]
    },
    {
     "data": {
      "text/plain": [
       "{0: {'Family': 'Leptodactylidae',\n",
       "  'Genus': 'Adenomera',\n",
       "  'Species': 'AdenomeraHylaedactylus'},\n",
       " 1: {'Family': 'Hylidae',\n",
       "  'Genus': 'Hypsiboas',\n",
       "  'Species': 'HypsiboasCordobae'},\n",
       " 2: {'Family': 'Dendrobatidae',\n",
       "  'Genus': 'Ameerega',\n",
       "  'Species': 'Ameeregatrivittata'},\n",
       " 3: {'Family': 'Hylidae',\n",
       "  'Genus': 'Hypsiboas',\n",
       "  'Species': 'HypsiboasCinerascens'}}"
      ]
     },
     "metadata": {},
     "output_type": "display_data"
    },
    {
     "name": "stdout",
     "output_type": "stream",
     "text": [
      "Avg Hamming Score 0.7775770210794534\n",
      "Avg Hamming Loss =  0.22242297892054666\n",
      "Avg hamming Distance= 0.66726893676164\n",
      "Iteration No. 32 :\n",
      "Best K found =  4  having Silhouette Score =  0.3787509343305295\n",
      "MAJORITY LABELS : \n"
     ]
    },
    {
     "data": {
      "text/plain": [
       "{0: {'Family': 'Dendrobatidae',\n",
       "  'Genus': 'Ameerega',\n",
       "  'Species': 'Ameeregatrivittata'},\n",
       " 1: {'Family': 'Leptodactylidae',\n",
       "  'Genus': 'Adenomera',\n",
       "  'Species': 'AdenomeraHylaedactylus'},\n",
       " 2: {'Family': 'Hylidae',\n",
       "  'Genus': 'Hypsiboas',\n",
       "  'Species': 'HypsiboasCordobae'},\n",
       " 3: {'Family': 'Hylidae',\n",
       "  'Genus': 'Hypsiboas',\n",
       "  'Species': 'HypsiboasCinerascens'}}"
      ]
     },
     "metadata": {},
     "output_type": "display_data"
    },
    {
     "name": "stdout",
     "output_type": "stream",
     "text": [
      "Avg Hamming Score 0.7775770210794534\n",
      "Avg Hamming Loss =  0.22242297892054666\n",
      "Avg hamming Distance= 0.66726893676164\n",
      "Iteration No. 33 :\n",
      "Best K found =  4  having Silhouette Score =  0.3787509343305295\n",
      "MAJORITY LABELS : \n"
     ]
    },
    {
     "data": {
      "text/plain": [
       "{0: {'Family': 'Dendrobatidae',\n",
       "  'Genus': 'Ameerega',\n",
       "  'Species': 'Ameeregatrivittata'},\n",
       " 1: {'Family': 'Leptodactylidae',\n",
       "  'Genus': 'Adenomera',\n",
       "  'Species': 'AdenomeraHylaedactylus'},\n",
       " 2: {'Family': 'Hylidae',\n",
       "  'Genus': 'Hypsiboas',\n",
       "  'Species': 'HypsiboasCordobae'},\n",
       " 3: {'Family': 'Hylidae',\n",
       "  'Genus': 'Hypsiboas',\n",
       "  'Species': 'HypsiboasCinerascens'}}"
      ]
     },
     "metadata": {},
     "output_type": "display_data"
    },
    {
     "name": "stdout",
     "output_type": "stream",
     "text": [
      "Avg Hamming Score 0.7775770210794534\n",
      "Avg Hamming Loss =  0.22242297892054666\n",
      "Avg hamming Distance= 0.66726893676164\n",
      "Iteration No. 34 :\n",
      "Best K found =  4  having Silhouette Score =  0.3787509343305295\n",
      "MAJORITY LABELS : \n"
     ]
    },
    {
     "data": {
      "text/plain": [
       "{0: {'Family': 'Leptodactylidae',\n",
       "  'Genus': 'Adenomera',\n",
       "  'Species': 'AdenomeraHylaedactylus'},\n",
       " 1: {'Family': 'Dendrobatidae',\n",
       "  'Genus': 'Ameerega',\n",
       "  'Species': 'Ameeregatrivittata'},\n",
       " 2: {'Family': 'Hylidae',\n",
       "  'Genus': 'Hypsiboas',\n",
       "  'Species': 'HypsiboasCinerascens'},\n",
       " 3: {'Family': 'Hylidae',\n",
       "  'Genus': 'Hypsiboas',\n",
       "  'Species': 'HypsiboasCordobae'}}"
      ]
     },
     "metadata": {},
     "output_type": "display_data"
    },
    {
     "name": "stdout",
     "output_type": "stream",
     "text": [
      "Avg Hamming Score 0.7775306926106093\n",
      "Avg Hamming Loss =  0.22246930738939075\n",
      "Avg hamming Distance= 0.6674079221681724\n",
      "Iteration No. 35 :\n",
      "Best K found =  4  having Silhouette Score =  0.37866647707550904\n",
      "MAJORITY LABELS : \n"
     ]
    },
    {
     "data": {
      "text/plain": [
       "{0: {'Family': 'Hylidae',\n",
       "  'Genus': 'Hypsiboas',\n",
       "  'Species': 'HypsiboasCordobae'},\n",
       " 1: {'Family': 'Leptodactylidae',\n",
       "  'Genus': 'Adenomera',\n",
       "  'Species': 'AdenomeraHylaedactylus'},\n",
       " 2: {'Family': 'Dendrobatidae',\n",
       "  'Genus': 'Ameerega',\n",
       "  'Species': 'Ameeregatrivittata'},\n",
       " 3: {'Family': 'Hylidae',\n",
       "  'Genus': 'Hypsiboas',\n",
       "  'Species': 'HypsiboasCinerascens'}}"
      ]
     },
     "metadata": {},
     "output_type": "display_data"
    },
    {
     "name": "stdout",
     "output_type": "stream",
     "text": [
      "Avg Hamming Score 0.7775770210794534\n",
      "Avg Hamming Loss =  0.22242297892054666\n",
      "Avg hamming Distance= 0.66726893676164\n",
      "Iteration No. 36 :\n",
      "Best K found =  4  having Silhouette Score =  0.3787509343305295\n",
      "MAJORITY LABELS : \n"
     ]
    },
    {
     "data": {
      "text/plain": [
       "{0: {'Family': 'Dendrobatidae',\n",
       "  'Genus': 'Ameerega',\n",
       "  'Species': 'Ameeregatrivittata'},\n",
       " 1: {'Family': 'Leptodactylidae',\n",
       "  'Genus': 'Adenomera',\n",
       "  'Species': 'AdenomeraHylaedactylus'},\n",
       " 2: {'Family': 'Hylidae',\n",
       "  'Genus': 'Hypsiboas',\n",
       "  'Species': 'HypsiboasCordobae'},\n",
       " 3: {'Family': 'Hylidae',\n",
       "  'Genus': 'Hypsiboas',\n",
       "  'Species': 'HypsiboasCinerascens'}}"
      ]
     },
     "metadata": {},
     "output_type": "display_data"
    },
    {
     "name": "stdout",
     "output_type": "stream",
     "text": [
      "Avg Hamming Score 0.7775770210794534\n",
      "Avg Hamming Loss =  0.22242297892054666\n",
      "Avg hamming Distance= 0.66726893676164\n",
      "Iteration No. 37 :\n",
      "Best K found =  4  having Silhouette Score =  0.37863353074850936\n",
      "MAJORITY LABELS : \n"
     ]
    },
    {
     "data": {
      "text/plain": [
       "{0: {'Family': 'Dendrobatidae',\n",
       "  'Genus': 'Ameerega',\n",
       "  'Species': 'Ameeregatrivittata'},\n",
       " 1: {'Family': 'Hylidae',\n",
       "  'Genus': 'Hypsiboas',\n",
       "  'Species': 'HypsiboasCinerascens'},\n",
       " 2: {'Family': 'Hylidae',\n",
       "  'Genus': 'Hypsiboas',\n",
       "  'Species': 'HypsiboasCordobae'},\n",
       " 3: {'Family': 'Leptodactylidae',\n",
       "  'Genus': 'Adenomera',\n",
       "  'Species': 'AdenomeraHylaedactylus'}}"
      ]
     },
     "metadata": {},
     "output_type": "display_data"
    },
    {
     "name": "stdout",
     "output_type": "stream",
     "text": [
      "Avg Hamming Score 0.7775770210794534\n",
      "Avg Hamming Loss =  0.22242297892054666\n",
      "Avg hamming Distance= 0.66726893676164\n",
      "Iteration No. 38 :\n",
      "Best K found =  4  having Silhouette Score =  0.3787509343305295\n",
      "MAJORITY LABELS : \n"
     ]
    },
    {
     "data": {
      "text/plain": [
       "{0: {'Family': 'Dendrobatidae',\n",
       "  'Genus': 'Ameerega',\n",
       "  'Species': 'Ameeregatrivittata'},\n",
       " 1: {'Family': 'Hylidae',\n",
       "  'Genus': 'Hypsiboas',\n",
       "  'Species': 'HypsiboasCordobae'},\n",
       " 2: {'Family': 'Leptodactylidae',\n",
       "  'Genus': 'Adenomera',\n",
       "  'Species': 'AdenomeraHylaedactylus'},\n",
       " 3: {'Family': 'Hylidae',\n",
       "  'Genus': 'Hypsiboas',\n",
       "  'Species': 'HypsiboasCinerascens'}}"
      ]
     },
     "metadata": {},
     "output_type": "display_data"
    },
    {
     "name": "stdout",
     "output_type": "stream",
     "text": [
      "Avg Hamming Score 0.7775770210794534\n",
      "Avg Hamming Loss =  0.22242297892054666\n",
      "Avg hamming Distance= 0.66726893676164\n",
      "Iteration No. 39 :\n",
      "Best K found =  4  having Silhouette Score =  0.3787509343305295\n",
      "MAJORITY LABELS : \n"
     ]
    },
    {
     "data": {
      "text/plain": [
       "{0: {'Family': 'Dendrobatidae',\n",
       "  'Genus': 'Ameerega',\n",
       "  'Species': 'Ameeregatrivittata'},\n",
       " 1: {'Family': 'Leptodactylidae',\n",
       "  'Genus': 'Adenomera',\n",
       "  'Species': 'AdenomeraHylaedactylus'},\n",
       " 2: {'Family': 'Hylidae',\n",
       "  'Genus': 'Hypsiboas',\n",
       "  'Species': 'HypsiboasCordobae'},\n",
       " 3: {'Family': 'Hylidae',\n",
       "  'Genus': 'Hypsiboas',\n",
       "  'Species': 'HypsiboasCinerascens'}}"
      ]
     },
     "metadata": {},
     "output_type": "display_data"
    },
    {
     "name": "stdout",
     "output_type": "stream",
     "text": [
      "Avg Hamming Score 0.7775770210794534\n",
      "Avg Hamming Loss =  0.22242297892054666\n",
      "Avg hamming Distance= 0.66726893676164\n",
      "Iteration No. 40 :\n",
      "Best K found =  4  having Silhouette Score =  0.3787509343305295\n",
      "MAJORITY LABELS : \n"
     ]
    },
    {
     "data": {
      "text/plain": [
       "{0: {'Family': 'Hylidae',\n",
       "  'Genus': 'Hypsiboas',\n",
       "  'Species': 'HypsiboasCinerascens'},\n",
       " 1: {'Family': 'Hylidae',\n",
       "  'Genus': 'Hypsiboas',\n",
       "  'Species': 'HypsiboasCordobae'},\n",
       " 2: {'Family': 'Dendrobatidae',\n",
       "  'Genus': 'Ameerega',\n",
       "  'Species': 'Ameeregatrivittata'},\n",
       " 3: {'Family': 'Leptodactylidae',\n",
       "  'Genus': 'Adenomera',\n",
       "  'Species': 'AdenomeraHylaedactylus'}}"
      ]
     },
     "metadata": {},
     "output_type": "display_data"
    },
    {
     "name": "stdout",
     "output_type": "stream",
     "text": [
      "Avg Hamming Score 0.7775770210794534\n",
      "Avg Hamming Loss =  0.22242297892054666\n",
      "Avg hamming Distance= 0.66726893676164\n",
      "Iteration No. 41 :\n",
      "Best K found =  4  having Silhouette Score =  0.3788646212055977\n",
      "MAJORITY LABELS : \n"
     ]
    },
    {
     "data": {
      "text/plain": [
       "{0: {'Family': 'Hylidae',\n",
       "  'Genus': 'Hypsiboas',\n",
       "  'Species': 'HypsiboasCinerascens'},\n",
       " 1: {'Family': 'Leptodactylidae',\n",
       "  'Genus': 'Adenomera',\n",
       "  'Species': 'AdenomeraHylaedactylus'},\n",
       " 2: {'Family': 'Dendrobatidae',\n",
       "  'Genus': 'Ameerega',\n",
       "  'Species': 'Ameeregatrivittata'},\n",
       " 3: {'Family': 'Hylidae',\n",
       "  'Genus': 'Hypsiboas',\n",
       "  'Species': 'HypsiboasCordobae'}}"
      ]
     },
     "metadata": {},
     "output_type": "display_data"
    },
    {
     "name": "stdout",
     "output_type": "stream",
     "text": [
      "Avg Hamming Score 0.7775770210794534\n",
      "Avg Hamming Loss =  0.22242297892054666\n",
      "Avg hamming Distance= 0.66726893676164\n",
      "Iteration No. 42 :\n",
      "Best K found =  4  having Silhouette Score =  0.3787509343305295\n",
      "MAJORITY LABELS : \n"
     ]
    },
    {
     "data": {
      "text/plain": [
       "{0: {'Family': 'Leptodactylidae',\n",
       "  'Genus': 'Adenomera',\n",
       "  'Species': 'AdenomeraHylaedactylus'},\n",
       " 1: {'Family': 'Hylidae',\n",
       "  'Genus': 'Hypsiboas',\n",
       "  'Species': 'HypsiboasCinerascens'},\n",
       " 2: {'Family': 'Dendrobatidae',\n",
       "  'Genus': 'Ameerega',\n",
       "  'Species': 'Ameeregatrivittata'},\n",
       " 3: {'Family': 'Hylidae',\n",
       "  'Genus': 'Hypsiboas',\n",
       "  'Species': 'HypsiboasCordobae'}}"
      ]
     },
     "metadata": {},
     "output_type": "display_data"
    },
    {
     "name": "stdout",
     "output_type": "stream",
     "text": [
      "Avg Hamming Score 0.7775770210794534\n",
      "Avg Hamming Loss =  0.22242297892054666\n",
      "Avg hamming Distance= 0.66726893676164\n",
      "Iteration No. 43 :\n",
      "Best K found =  4  having Silhouette Score =  0.3846621564503622\n",
      "MAJORITY LABELS : \n"
     ]
    },
    {
     "data": {
      "text/plain": [
       "{0: {'Family': 'Leptodactylidae',\n",
       "  'Genus': 'Adenomera',\n",
       "  'Species': 'AdenomeraHylaedactylus'},\n",
       " 1: {'Family': 'Dendrobatidae',\n",
       "  'Genus': 'Ameerega',\n",
       "  'Species': 'Ameeregatrivittata'},\n",
       " 2: {'Family': 'Hylidae',\n",
       "  'Genus': 'Hypsiboas',\n",
       "  'Species': 'HypsiboasCinerascens'},\n",
       " 3: {'Family': 'Hylidae',\n",
       "  'Genus': 'Hypsiboas',\n",
       "  'Species': 'HypsiboasCordobae'}}"
      ]
     },
     "metadata": {},
     "output_type": "display_data"
    },
    {
     "name": "stdout",
     "output_type": "stream",
     "text": [
      "Avg Hamming Score 0.7775770210794534\n",
      "Avg Hamming Loss =  0.22242297892054666\n",
      "Avg hamming Distance= 0.66726893676164\n",
      "Iteration No. 44 :\n",
      "Best K found =  4  having Silhouette Score =  0.3787509343305295\n",
      "MAJORITY LABELS : \n"
     ]
    },
    {
     "data": {
      "text/plain": [
       "{0: {'Family': 'Leptodactylidae',\n",
       "  'Genus': 'Adenomera',\n",
       "  'Species': 'AdenomeraHylaedactylus'},\n",
       " 1: {'Family': 'Dendrobatidae',\n",
       "  'Genus': 'Ameerega',\n",
       "  'Species': 'Ameeregatrivittata'},\n",
       " 2: {'Family': 'Hylidae',\n",
       "  'Genus': 'Hypsiboas',\n",
       "  'Species': 'HypsiboasCordobae'},\n",
       " 3: {'Family': 'Hylidae',\n",
       "  'Genus': 'Hypsiboas',\n",
       "  'Species': 'HypsiboasCinerascens'}}"
      ]
     },
     "metadata": {},
     "output_type": "display_data"
    },
    {
     "name": "stdout",
     "output_type": "stream",
     "text": [
      "Avg Hamming Score 0.7775306926106093\n",
      "Avg Hamming Loss =  0.22246930738939075\n",
      "Avg hamming Distance= 0.6674079221681724\n",
      "Iteration No. 45 :\n",
      "Best K found =  4  having Silhouette Score =  0.37867825251598397\n",
      "MAJORITY LABELS : \n"
     ]
    },
    {
     "data": {
      "text/plain": [
       "{0: {'Family': 'Hylidae',\n",
       "  'Genus': 'Hypsiboas',\n",
       "  'Species': 'HypsiboasCordobae'},\n",
       " 1: {'Family': 'Hylidae',\n",
       "  'Genus': 'Hypsiboas',\n",
       "  'Species': 'HypsiboasCordobae'},\n",
       " 2: {'Family': 'Leptodactylidae',\n",
       "  'Genus': 'Adenomera',\n",
       "  'Species': 'AdenomeraHylaedactylus'},\n",
       " 3: {'Family': 'Leptodactylidae',\n",
       "  'Genus': 'Adenomera',\n",
       "  'Species': 'AdenomeraAndre'}}"
      ]
     },
     "metadata": {},
     "output_type": "display_data"
    },
    {
     "name": "stdout",
     "output_type": "stream",
     "text": [
      "Avg Hamming Score 0.754876071345842\n",
      "Avg Hamming Loss =  0.24512392865415797\n",
      "Avg hamming Distance= 0.735371785962474\n",
      "Iteration No. 46 :\n",
      "Best K found =  4  having Silhouette Score =  0.3787509343305295\n",
      "MAJORITY LABELS : \n"
     ]
    },
    {
     "data": {
      "text/plain": [
       "{0: {'Family': 'Hylidae',\n",
       "  'Genus': 'Hypsiboas',\n",
       "  'Species': 'HypsiboasCordobae'},\n",
       " 1: {'Family': 'Hylidae',\n",
       "  'Genus': 'Hypsiboas',\n",
       "  'Species': 'HypsiboasCinerascens'},\n",
       " 2: {'Family': 'Leptodactylidae',\n",
       "  'Genus': 'Adenomera',\n",
       "  'Species': 'AdenomeraHylaedactylus'},\n",
       " 3: {'Family': 'Dendrobatidae',\n",
       "  'Genus': 'Ameerega',\n",
       "  'Species': 'Ameeregatrivittata'}}"
      ]
     },
     "metadata": {},
     "output_type": "display_data"
    },
    {
     "name": "stdout",
     "output_type": "stream",
     "text": [
      "Avg Hamming Score 0.7775770210794534\n",
      "Avg Hamming Loss =  0.22242297892054666\n",
      "Avg hamming Distance= 0.66726893676164\n",
      "Iteration No. 47 :\n",
      "Best K found =  4  having Silhouette Score =  0.3787509343305295\n",
      "MAJORITY LABELS : \n"
     ]
    },
    {
     "data": {
      "text/plain": [
       "{0: {'Family': 'Leptodactylidae',\n",
       "  'Genus': 'Adenomera',\n",
       "  'Species': 'AdenomeraHylaedactylus'},\n",
       " 1: {'Family': 'Hylidae',\n",
       "  'Genus': 'Hypsiboas',\n",
       "  'Species': 'HypsiboasCordobae'},\n",
       " 2: {'Family': 'Dendrobatidae',\n",
       "  'Genus': 'Ameerega',\n",
       "  'Species': 'Ameeregatrivittata'},\n",
       " 3: {'Family': 'Hylidae',\n",
       "  'Genus': 'Hypsiboas',\n",
       "  'Species': 'HypsiboasCinerascens'}}"
      ]
     },
     "metadata": {},
     "output_type": "display_data"
    },
    {
     "name": "stdout",
     "output_type": "stream",
     "text": [
      "Avg Hamming Score 0.7775770210794534\n",
      "Avg Hamming Loss =  0.22242297892054666\n",
      "Avg hamming Distance= 0.66726893676164\n",
      "Iteration No. 48 :\n",
      "Best K found =  4  having Silhouette Score =  0.37864555133782885\n",
      "MAJORITY LABELS : \n"
     ]
    },
    {
     "data": {
      "text/plain": [
       "{0: {'Family': 'Hylidae',\n",
       "  'Genus': 'Hypsiboas',\n",
       "  'Species': 'HypsiboasCordobae'},\n",
       " 1: {'Family': 'Leptodactylidae',\n",
       "  'Genus': 'Adenomera',\n",
       "  'Species': 'AdenomeraHylaedactylus'},\n",
       " 2: {'Family': 'Dendrobatidae',\n",
       "  'Genus': 'Ameerega',\n",
       "  'Species': 'Ameeregatrivittata'},\n",
       " 3: {'Family': 'Hylidae',\n",
       "  'Genus': 'Hypsiboas',\n",
       "  'Species': 'HypsiboasCinerascens'}}"
      ]
     },
     "metadata": {},
     "output_type": "display_data"
    },
    {
     "name": "stdout",
     "output_type": "stream",
     "text": [
      "Avg Hamming Score 0.7775770210794534\n",
      "Avg Hamming Loss =  0.22242297892054666\n",
      "Avg hamming Distance= 0.66726893676164\n",
      "Iteration No. 49 :\n",
      "Best K found =  4  having Silhouette Score =  0.37865378490650226\n",
      "MAJORITY LABELS : \n"
     ]
    },
    {
     "data": {
      "text/plain": [
       "{0: {'Family': 'Hylidae',\n",
       "  'Genus': 'Hypsiboas',\n",
       "  'Species': 'HypsiboasCordobae'},\n",
       " 1: {'Family': 'Dendrobatidae',\n",
       "  'Genus': 'Ameerega',\n",
       "  'Species': 'Ameeregatrivittata'},\n",
       " 2: {'Family': 'Hylidae',\n",
       "  'Genus': 'Hypsiboas',\n",
       "  'Species': 'HypsiboasCinerascens'},\n",
       " 3: {'Family': 'Leptodactylidae',\n",
       "  'Genus': 'Adenomera',\n",
       "  'Species': 'AdenomeraHylaedactylus'}}"
      ]
     },
     "metadata": {},
     "output_type": "display_data"
    },
    {
     "name": "stdout",
     "output_type": "stream",
     "text": [
      "Avg Hamming Score 0.7775770210794534\n",
      "Avg Hamming Loss =  0.22242297892054666\n",
      "Avg hamming Distance= 0.66726893676164\n"
     ]
    }
   ],
   "source": [
    "monteHammingDistanceArray = []\n",
    "for i in range(0,50):\n",
    "    print('Iteration No.',i,\":\")\n",
    "#     New Code\n",
    "    rangeForClusters = range(2,51)\n",
    "    bestScore = 0\n",
    "    bestK = 1\n",
    "    for cluster in rangeForClusters:\n",
    "        clusterMaker = KMeans(n_clusters = cluster, init='random')\n",
    "        predictors = clusterMaker.fit_predict(features)\n",
    "        centers = clusterMaker.cluster_centers_\n",
    "        score = silhouette_score(features, predictors)\n",
    "        if score > bestScore:\n",
    "            bestScore = score\n",
    "            bestK = cluster\n",
    "\n",
    "    print('Best K found = ',bestK,' having Silhouette Score = ',bestScore)\n",
    "    \n",
    "    clusterer = KMeans(n_clusters = bestK)\n",
    "    predictors = clusterer.fit_predict(features)\n",
    "    centers = clusterer.cluster_centers_\n",
    "   \n",
    "\n",
    "    predictedLabels = {}\n",
    "    predictedLabels = initialisePredictorLabels(bestK)\n",
    "    predictedLabels = predictLabels(predictors, predictedLabels)\n",
    "    \n",
    "\n",
    "    majorityLabels = dict()\n",
    "    majorityLabels = populateMajorityLabelsMap(majorityLabels, predictedLabels)\n",
    "    print(\"MAJORITY LABELS : \")\n",
    "    display(majorityLabels)\n",
    "\n",
    "    meanHammingLoss, meanHammingDistance = calculateHammingLoss(majorityLabels,predictors)\n",
    "    print('Avg Hamming Score',1 - meanHammingLoss)\n",
    "    print('Avg Hamming Loss = ',meanHammingLoss)\n",
    "    print('Avg hamming Distance=',meanHammingDistance)\n",
    "\n",
    "    monteHammingDistanceArray.append(meanHammingDistance)\n",
    "                     "
   ]
  },
  {
   "cell_type": "code",
   "execution_count": 14,
   "metadata": {},
   "outputs": [
    {
     "name": "stdout",
     "output_type": "stream",
     "text": [
      "Average Hamming Distance after 50 runs =  0.669239749826268\n",
      "Standard deviation of hamming distance of 50 runs = 0.010581443419815031\n"
     ]
    }
   ],
   "source": [
    "avgHD = np.mean(monteHammingDistanceArray)\n",
    "stdHD = np.std(monteHammingDistanceArray)\n",
    "print('Average Hamming Distance after 50 runs = ',avgHD) \n",
    "print('Standard deviation of hamming distance of 50 runs =',stdHD)"
   ]
  },
  {
   "cell_type": "markdown",
   "metadata": {},
   "source": [
    "## 3. ISLR 12.6.2"
   ]
  },
  {
   "attachments": {
    "WhatsApp%20Image%202023-04-06%20at%2011.44.18%20PM.jpeg": {
     "image/jpeg": "[encoded data removed]"
    }
   },
   "cell_type": "markdown",
   "metadata": {},
   "source": [
    "![WhatsApp%20Image%202023-04-06%20at%2011.44.18%20PM.jpeg](attachment:WhatsApp%20Image%202023-04-06%20at%2011.44.18%20PM.jpeg)"
   ]
  },
  {
   "attachments": {
    "WhatsApp%20Image%202023-04-06%20at%2011.44.18%20PM%20%281%29.jpeg": {
     "image/jpeg": "[encoded data removed]"
    }
   },
   "cell_type": "markdown",
   "metadata": {},
   "source": [
    "![WhatsApp%20Image%202023-04-06%20at%2011.44.18%20PM%20%281%29.jpeg](attachment:WhatsApp%20Image%202023-04-06%20at%2011.44.18%20PM%20%281%29.jpeg)"
   ]
  },
  {
   "attachments": {
    "WhatsApp%20Image%202023-04-06%20at%2011.44.18%20PM%20%282%29.jpeg": {
     "image/jpeg": "[encoded data removed]"
    }
   },
   "cell_type": "markdown",
   "metadata": {},
   "source": [
    "![WhatsApp%20Image%202023-04-06%20at%2011.44.18%20PM%20%282%29.jpeg](attachment:WhatsApp%20Image%202023-04-06%20at%2011.44.18%20PM%20%282%29.jpeg)"
   ]
  }
 ],
 "metadata": {
  "kernelspec": {
   "display_name": "Python 3 (ipykernel)",
   "language": "python",
   "name": "python3"
  },
  "language_info": {
   "codemirror_mode": {
    "name": "ipython",
    "version": 3
   },
   "file_extension": ".py",
   "mimetype": "text/x-python",
   "name": "python",
   "nbconvert_exporter": "python",
   "pygments_lexer": "ipython3",
   "version": "3.9.13"
  },
  "vscode": {
   "interpreter": {
    "hash": "3c20c2d94d2527936fe0f3a300eb11db30fed84423423838e2f93b74eb7aaebc"
   }
  }
 },
 "nbformat": 4,
 "nbformat_minor": 2
}
