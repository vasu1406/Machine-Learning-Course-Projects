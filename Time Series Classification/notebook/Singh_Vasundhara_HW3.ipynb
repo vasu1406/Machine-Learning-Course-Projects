{
 "cells": [
  {
   "cell_type": "markdown",
   "metadata": {},
   "source": [
    "<center><h1>Singh_Vasundhara_HW3</h1></center>\n",
    "<br>\n",
    "<br>"
   ]
  },
  {
   "cell_type": "markdown",
   "metadata": {},
   "source": [
    "Name: Vasundhara Singh\n",
    "<br>\n",
    "Github Username: vasu1406\n",
    "<br>\n",
    "USC ID: 7421414643\n",
    "<br>\n",
    "Late By 1 Day"
   ]
  },
  {
   "cell_type": "markdown",
   "metadata": {},
   "source": [
    "## 1. Time Series Classification Part 1: Feature Creation/Extraction"
   ]
  },
  {
   "cell_type": "markdown",
   "metadata": {},
   "source": [
    "### (a) Download Data"
   ]
  },
  {
   "cell_type": "markdown",
   "metadata": {},
   "source": [
    "Package imports"
   ]
  },
  {
   "cell_type": "code",
   "execution_count": 1,
   "metadata": {},
   "outputs": [],
   "source": [
    "import os\n",
    "import pandas as pd\n",
    "import numpy as np\n",
    "from scipy.stats import bootstrap\n",
    "from sklearn.linear_model import LogisticRegression as logisticRegression"
   ]
  },
  {
   "cell_type": "markdown",
   "metadata": {},
   "source": [
    "Get the AReM Data Set"
   ]
  },
  {
   "cell_type": "code",
   "execution_count": 2,
   "metadata": {},
   "outputs": [],
   "source": [
    "def readCSVToDataSet(folder):\n",
    "    folderPath ='../Data/AReM/'+folder+'/'\n",
    "    listToAdd = [1,2,3]\n",
    "    if(folder == 'bending1' or folder == 'bending2'):\n",
    "        listToAdd = [1,2]\n",
    "    else:\n",
    "        listToAdd = [1,2,3]\n",
    "    \n",
    "#     print(folder)\n",
    "#     print(listToAdd)\n",
    "    testList = [f\"dataset{x}.csv\" for x in listToAdd]\n",
    "    allfiles = os.listdir(folderPath)\n",
    "#     print(allfiles)\n",
    "    trainingData = []\n",
    "    testData = []\n",
    "    \n",
    "    for file in allfiles:\n",
    "        path = os.path.join(folderPath, file)\n",
    "#         print(path)\n",
    "        df = pd.read_csv(path,skiprows=range(0, 4))\n",
    "#         display(df)\n",
    "        if file in testList:\n",
    "            testData.append(df)\n",
    "        else:\n",
    "            trainingData.append(df)\n",
    "            \n",
    "    return trainingData,testData"
   ]
  },
  {
   "cell_type": "markdown",
   "metadata": {},
   "source": [
    "### (b) Test and Train Data"
   ]
  },
  {
   "cell_type": "code",
   "execution_count": 3,
   "metadata": {},
   "outputs": [],
   "source": [
    "trainingDataMap = dict()\n",
    "testDataMap = dict()\n",
    "\n",
    "folders = ['bending1','bending2','cycling','lying','sitting','standing','walking']\n",
    "for folder in folders:\n",
    "    dataSet = readCSVToDataSet(folder)\n",
    "    trainingDataMap[folder] = dataSet[0]\n",
    "    testDataMap[folder] = dataSet[1]\n",
    "    "
   ]
  },
  {
   "cell_type": "markdown",
   "metadata": {},
   "source": [
    "### (c) Feature Extraction"
   ]
  },
  {
   "cell_type": "markdown",
   "metadata": {
    "tags": []
   },
   "source": [
    "#### i. Research"
   ]
  },
  {
   "cell_type": "markdown",
   "metadata": {},
   "source": [
    "Analysing the features of temporal data to make predictions and distinguish patterns constitutes of Time Series Classification.The commonly used time-domain features in time series classification are Mean, Median, Standard Deviation, Variance,Maximum,Minimum,Range, Interquartile Range,Skewness, Kurtosis, Slope,Correlation Structure, Entropy, Autocorrelation,Lagged correlation, Quartiles, Zero-crossing rate, Root Mean Square etc.\n"
   ]
  },
  {
   "cell_type": "markdown",
   "metadata": {
    "tags": []
   },
   "source": [
    "#### ii. Extraction"
   ]
  },
  {
   "cell_type": "code",
   "execution_count": 4,
   "metadata": {},
   "outputs": [],
   "source": [
    "col = ['min1','max1','mean1','median1','std1','1st quart1','3rd quart1',\n",
    "       'min2','max2','mean2','median2','std2','1st quart2','3rd quart2',\n",
    "       'min3','max3','mean3','median3','std3','1st quart3','3rd quart3',\n",
    "       'min4','max4','mean4','median4','std4','1st quart4','3rd quart4',\n",
    "       'min5','max5','mean5','median5','std5','1st quart5','3rd quart5',\n",
    "       'min6','max6','mean6','median6','std6','1st quart6','3rd quart6',\n",
    "      'isBendingColumn']\n",
    "\n",
    "def timeFeaturesColumns(data):\n",
    "    timeFeaturesData = []\n",
    "    for folder in data:\n",
    "        for dataSet in data[folder]:\n",
    "#             timeFeaturesData.append(timeFeaturesColumns(dataSet,folder))\n",
    "        #     Removing the column header\n",
    "            dataSetPrevious = dataSet.columns[1:]\n",
    "            dataSetNumeric = dataSet.select_dtypes(include=[np.number])\n",
    "            minimum = dataSetNumeric.min()\n",
    "            maximum = dataSetNumeric.max()\n",
    "            mean = dataSetNumeric.mean()\n",
    "            median = dataSetNumeric.median()\n",
    "            stdDev = dataSetNumeric.std()\n",
    "            firstQuartile = dataSetNumeric.quantile(0.25)\n",
    "            thirdQuartile = dataSetNumeric.quantile(0.75)\n",
    "    \n",
    "    \n",
    "            timeFeatureValues = []\n",
    "            for column in dataSetPrevious:\n",
    "                timeFeatureValues.append(minimum[column])\n",
    "                timeFeatureValues.append(maximum[column])\n",
    "                timeFeatureValues.append(mean[column])\n",
    "                timeFeatureValues.append(median[column])\n",
    "                timeFeatureValues.append(stdDev[column])\n",
    "                timeFeatureValues.append(firstQuartile[column])\n",
    "                timeFeatureValues.append(thirdQuartile[column])\n",
    "            if(folder == 'bending1' or  folder == 'bending2'):\n",
    "                timeFeatureValues.append(1)\n",
    "            else:\n",
    "                timeFeatureValues.append(0)\n",
    "            timeFeaturesData.append(timeFeatureValues)\n",
    "    \n",
    "    return pd.DataFrame(timeFeaturesData,columns = col)"
   ]
  },
  {
   "cell_type": "code",
   "execution_count": 5,
   "metadata": {},
   "outputs": [
    {
     "data": {
      "text/html": [
       "<div>\n",
       "<style scoped>\n",
       "    .dataframe tbody tr th:only-of-type {\n",
       "        vertical-align: middle;\n",
       "    }\n",
       "\n",
       "    .dataframe tbody tr th {\n",
       "        vertical-align: top;\n",
       "    }\n",
       "\n",
       "    .dataframe thead th {\n",
       "        text-align: right;\n",
       "    }\n",
       "</style>\n",
       "<table border=\"1\" class=\"dataframe\">\n",
       "  <thead>\n",
       "    <tr style=\"text-align: right;\">\n",
       "      <th></th>\n",
       "      <th>min1</th>\n",
       "      <th>max1</th>\n",
       "      <th>mean1</th>\n",
       "      <th>median1</th>\n",
       "      <th>std1</th>\n",
       "      <th>1st quart1</th>\n",
       "      <th>3rd quart1</th>\n",
       "      <th>min2</th>\n",
       "      <th>max2</th>\n",
       "      <th>mean2</th>\n",
       "      <th>...</th>\n",
       "      <th>std5</th>\n",
       "      <th>1st quart5</th>\n",
       "      <th>3rd quart5</th>\n",
       "      <th>min6</th>\n",
       "      <th>max6</th>\n",
       "      <th>mean6</th>\n",
       "      <th>median6</th>\n",
       "      <th>std6</th>\n",
       "      <th>1st quart6</th>\n",
       "      <th>3rd quart6</th>\n",
       "    </tr>\n",
       "  </thead>\n",
       "  <tbody>\n",
       "    <tr>\n",
       "      <th>0</th>\n",
       "      <td>35.00</td>\n",
       "      <td>47.40</td>\n",
       "      <td>43.954500</td>\n",
       "      <td>44.330</td>\n",
       "      <td>1.558835</td>\n",
       "      <td>43.00</td>\n",
       "      <td>45.0000</td>\n",
       "      <td>0.0</td>\n",
       "      <td>1.70</td>\n",
       "      <td>0.426250</td>\n",
       "      <td>...</td>\n",
       "      <td>1.999604</td>\n",
       "      <td>35.3625</td>\n",
       "      <td>36.500</td>\n",
       "      <td>0.0</td>\n",
       "      <td>1.79</td>\n",
       "      <td>0.493292</td>\n",
       "      <td>0.430</td>\n",
       "      <td>0.513506</td>\n",
       "      <td>0.000</td>\n",
       "      <td>0.940</td>\n",
       "    </tr>\n",
       "    <tr>\n",
       "      <th>1</th>\n",
       "      <td>33.00</td>\n",
       "      <td>47.75</td>\n",
       "      <td>42.179813</td>\n",
       "      <td>43.500</td>\n",
       "      <td>3.670666</td>\n",
       "      <td>39.15</td>\n",
       "      <td>45.0000</td>\n",
       "      <td>0.0</td>\n",
       "      <td>3.00</td>\n",
       "      <td>0.696042</td>\n",
       "      <td>...</td>\n",
       "      <td>3.849448</td>\n",
       "      <td>30.4575</td>\n",
       "      <td>36.330</td>\n",
       "      <td>0.0</td>\n",
       "      <td>2.18</td>\n",
       "      <td>0.613521</td>\n",
       "      <td>0.500</td>\n",
       "      <td>0.524317</td>\n",
       "      <td>0.000</td>\n",
       "      <td>1.000</td>\n",
       "    </tr>\n",
       "    <tr>\n",
       "      <th>2</th>\n",
       "      <td>33.00</td>\n",
       "      <td>45.75</td>\n",
       "      <td>41.678063</td>\n",
       "      <td>41.750</td>\n",
       "      <td>2.243490</td>\n",
       "      <td>41.33</td>\n",
       "      <td>42.7500</td>\n",
       "      <td>0.0</td>\n",
       "      <td>2.83</td>\n",
       "      <td>0.535979</td>\n",
       "      <td>...</td>\n",
       "      <td>2.411026</td>\n",
       "      <td>28.4575</td>\n",
       "      <td>31.250</td>\n",
       "      <td>0.0</td>\n",
       "      <td>1.79</td>\n",
       "      <td>0.383292</td>\n",
       "      <td>0.430</td>\n",
       "      <td>0.389164</td>\n",
       "      <td>0.000</td>\n",
       "      <td>0.500</td>\n",
       "    </tr>\n",
       "    <tr>\n",
       "      <th>3</th>\n",
       "      <td>37.00</td>\n",
       "      <td>48.00</td>\n",
       "      <td>43.454958</td>\n",
       "      <td>43.250</td>\n",
       "      <td>1.386098</td>\n",
       "      <td>42.50</td>\n",
       "      <td>45.0000</td>\n",
       "      <td>0.0</td>\n",
       "      <td>1.58</td>\n",
       "      <td>0.378083</td>\n",
       "      <td>...</td>\n",
       "      <td>2.488862</td>\n",
       "      <td>22.2500</td>\n",
       "      <td>24.000</td>\n",
       "      <td>0.0</td>\n",
       "      <td>5.26</td>\n",
       "      <td>0.679646</td>\n",
       "      <td>0.500</td>\n",
       "      <td>0.622534</td>\n",
       "      <td>0.430</td>\n",
       "      <td>0.870</td>\n",
       "    </tr>\n",
       "    <tr>\n",
       "      <th>4</th>\n",
       "      <td>36.25</td>\n",
       "      <td>48.00</td>\n",
       "      <td>43.969125</td>\n",
       "      <td>44.500</td>\n",
       "      <td>1.618364</td>\n",
       "      <td>43.31</td>\n",
       "      <td>44.6700</td>\n",
       "      <td>0.0</td>\n",
       "      <td>1.50</td>\n",
       "      <td>0.413125</td>\n",
       "      <td>...</td>\n",
       "      <td>3.318301</td>\n",
       "      <td>20.5000</td>\n",
       "      <td>23.750</td>\n",
       "      <td>0.0</td>\n",
       "      <td>2.96</td>\n",
       "      <td>0.555313</td>\n",
       "      <td>0.490</td>\n",
       "      <td>0.487826</td>\n",
       "      <td>0.000</td>\n",
       "      <td>0.830</td>\n",
       "    </tr>\n",
       "    <tr>\n",
       "      <th>...</th>\n",
       "      <td>...</td>\n",
       "      <td>...</td>\n",
       "      <td>...</td>\n",
       "      <td>...</td>\n",
       "      <td>...</td>\n",
       "      <td>...</td>\n",
       "      <td>...</td>\n",
       "      <td>...</td>\n",
       "      <td>...</td>\n",
       "      <td>...</td>\n",
       "      <td>...</td>\n",
       "      <td>...</td>\n",
       "      <td>...</td>\n",
       "      <td>...</td>\n",
       "      <td>...</td>\n",
       "      <td>...</td>\n",
       "      <td>...</td>\n",
       "      <td>...</td>\n",
       "      <td>...</td>\n",
       "      <td>...</td>\n",
       "      <td>...</td>\n",
       "    </tr>\n",
       "    <tr>\n",
       "      <th>83</th>\n",
       "      <td>35.50</td>\n",
       "      <td>46.25</td>\n",
       "      <td>43.174938</td>\n",
       "      <td>43.670</td>\n",
       "      <td>1.989052</td>\n",
       "      <td>42.50</td>\n",
       "      <td>44.5000</td>\n",
       "      <td>0.0</td>\n",
       "      <td>2.12</td>\n",
       "      <td>0.506583</td>\n",
       "      <td>...</td>\n",
       "      <td>2.983976</td>\n",
       "      <td>12.7500</td>\n",
       "      <td>16.500</td>\n",
       "      <td>0.0</td>\n",
       "      <td>5.72</td>\n",
       "      <td>0.911979</td>\n",
       "      <td>0.830</td>\n",
       "      <td>0.666161</td>\n",
       "      <td>0.470</td>\n",
       "      <td>1.220</td>\n",
       "    </tr>\n",
       "    <tr>\n",
       "      <th>84</th>\n",
       "      <td>32.75</td>\n",
       "      <td>47.00</td>\n",
       "      <td>42.760563</td>\n",
       "      <td>44.500</td>\n",
       "      <td>3.398919</td>\n",
       "      <td>41.33</td>\n",
       "      <td>45.3725</td>\n",
       "      <td>0.0</td>\n",
       "      <td>3.34</td>\n",
       "      <td>0.486167</td>\n",
       "      <td>...</td>\n",
       "      <td>4.296574</td>\n",
       "      <td>13.0000</td>\n",
       "      <td>18.565</td>\n",
       "      <td>0.0</td>\n",
       "      <td>5.73</td>\n",
       "      <td>0.842271</td>\n",
       "      <td>0.710</td>\n",
       "      <td>0.722165</td>\n",
       "      <td>0.430</td>\n",
       "      <td>1.090</td>\n",
       "    </tr>\n",
       "    <tr>\n",
       "      <th>85</th>\n",
       "      <td>19.33</td>\n",
       "      <td>43.50</td>\n",
       "      <td>34.227771</td>\n",
       "      <td>35.500</td>\n",
       "      <td>4.889576</td>\n",
       "      <td>30.50</td>\n",
       "      <td>37.7500</td>\n",
       "      <td>0.0</td>\n",
       "      <td>14.50</td>\n",
       "      <td>3.995729</td>\n",
       "      <td>...</td>\n",
       "      <td>3.092094</td>\n",
       "      <td>14.7500</td>\n",
       "      <td>18.670</td>\n",
       "      <td>0.0</td>\n",
       "      <td>9.74</td>\n",
       "      <td>3.394125</td>\n",
       "      <td>3.100</td>\n",
       "      <td>1.792090</td>\n",
       "      <td>2.105</td>\n",
       "      <td>4.425</td>\n",
       "    </tr>\n",
       "    <tr>\n",
       "      <th>86</th>\n",
       "      <td>12.50</td>\n",
       "      <td>45.00</td>\n",
       "      <td>33.509729</td>\n",
       "      <td>34.125</td>\n",
       "      <td>4.850923</td>\n",
       "      <td>30.50</td>\n",
       "      <td>36.7500</td>\n",
       "      <td>0.0</td>\n",
       "      <td>13.05</td>\n",
       "      <td>4.450771</td>\n",
       "      <td>...</td>\n",
       "      <td>3.133564</td>\n",
       "      <td>14.6275</td>\n",
       "      <td>18.750</td>\n",
       "      <td>0.0</td>\n",
       "      <td>8.96</td>\n",
       "      <td>3.378479</td>\n",
       "      <td>3.085</td>\n",
       "      <td>1.787360</td>\n",
       "      <td>2.060</td>\n",
       "      <td>4.440</td>\n",
       "    </tr>\n",
       "    <tr>\n",
       "      <th>87</th>\n",
       "      <td>15.00</td>\n",
       "      <td>46.75</td>\n",
       "      <td>34.660583</td>\n",
       "      <td>35.000</td>\n",
       "      <td>5.315110</td>\n",
       "      <td>31.00</td>\n",
       "      <td>38.2500</td>\n",
       "      <td>0.0</td>\n",
       "      <td>13.44</td>\n",
       "      <td>4.200896</td>\n",
       "      <td>...</td>\n",
       "      <td>3.155015</td>\n",
       "      <td>14.2500</td>\n",
       "      <td>18.500</td>\n",
       "      <td>0.0</td>\n",
       "      <td>8.99</td>\n",
       "      <td>3.244396</td>\n",
       "      <td>3.000</td>\n",
       "      <td>1.630983</td>\n",
       "      <td>2.120</td>\n",
       "      <td>4.240</td>\n",
       "    </tr>\n",
       "  </tbody>\n",
       "</table>\n",
       "<p>88 rows × 42 columns</p>\n",
       "</div>"
      ],
      "text/plain": [
       "     min1   max1      mean1  median1      std1  1st quart1  3rd quart1  min2  \\\n",
       "0   35.00  47.40  43.954500   44.330  1.558835       43.00     45.0000   0.0   \n",
       "1   33.00  47.75  42.179813   43.500  3.670666       39.15     45.0000   0.0   \n",
       "2   33.00  45.75  41.678063   41.750  2.243490       41.33     42.7500   0.0   \n",
       "3   37.00  48.00  43.454958   43.250  1.386098       42.50     45.0000   0.0   \n",
       "4   36.25  48.00  43.969125   44.500  1.618364       43.31     44.6700   0.0   \n",
       "..    ...    ...        ...      ...       ...         ...         ...   ...   \n",
       "83  35.50  46.25  43.174938   43.670  1.989052       42.50     44.5000   0.0   \n",
       "84  32.75  47.00  42.760563   44.500  3.398919       41.33     45.3725   0.0   \n",
       "85  19.33  43.50  34.227771   35.500  4.889576       30.50     37.7500   0.0   \n",
       "86  12.50  45.00  33.509729   34.125  4.850923       30.50     36.7500   0.0   \n",
       "87  15.00  46.75  34.660583   35.000  5.315110       31.00     38.2500   0.0   \n",
       "\n",
       "     max2     mean2  ...      std5  1st quart5  3rd quart5  min6  max6  \\\n",
       "0    1.70  0.426250  ...  1.999604     35.3625      36.500   0.0  1.79   \n",
       "1    3.00  0.696042  ...  3.849448     30.4575      36.330   0.0  2.18   \n",
       "2    2.83  0.535979  ...  2.411026     28.4575      31.250   0.0  1.79   \n",
       "3    1.58  0.378083  ...  2.488862     22.2500      24.000   0.0  5.26   \n",
       "4    1.50  0.413125  ...  3.318301     20.5000      23.750   0.0  2.96   \n",
       "..    ...       ...  ...       ...         ...         ...   ...   ...   \n",
       "83   2.12  0.506583  ...  2.983976     12.7500      16.500   0.0  5.72   \n",
       "84   3.34  0.486167  ...  4.296574     13.0000      18.565   0.0  5.73   \n",
       "85  14.50  3.995729  ...  3.092094     14.7500      18.670   0.0  9.74   \n",
       "86  13.05  4.450771  ...  3.133564     14.6275      18.750   0.0  8.96   \n",
       "87  13.44  4.200896  ...  3.155015     14.2500      18.500   0.0  8.99   \n",
       "\n",
       "       mean6  median6      std6  1st quart6  3rd quart6  \n",
       "0   0.493292    0.430  0.513506       0.000       0.940  \n",
       "1   0.613521    0.500  0.524317       0.000       1.000  \n",
       "2   0.383292    0.430  0.389164       0.000       0.500  \n",
       "3   0.679646    0.500  0.622534       0.430       0.870  \n",
       "4   0.555313    0.490  0.487826       0.000       0.830  \n",
       "..       ...      ...       ...         ...         ...  \n",
       "83  0.911979    0.830  0.666161       0.470       1.220  \n",
       "84  0.842271    0.710  0.722165       0.430       1.090  \n",
       "85  3.394125    3.100  1.792090       2.105       4.425  \n",
       "86  3.378479    3.085  1.787360       2.060       4.440  \n",
       "87  3.244396    3.000  1.630983       2.120       4.240  \n",
       "\n",
       "[88 rows x 42 columns]"
      ]
     },
     "execution_count": 5,
     "metadata": {},
     "output_type": "execute_result"
    }
   ],
   "source": [
    "trainingDataframe = timeFeaturesColumns(trainingDataMap)\n",
    "testDataframe = timeFeaturesColumns(testDataMap)\n",
    "finalDataFrame = pd.concat([trainingDataframe,testDataframe]).reset_index(drop=True)\n",
    "finalDataFrame.iloc[:,:-1]"
   ]
  },
  {
   "cell_type": "markdown",
   "metadata": {
    "tags": []
   },
   "source": [
    "#### iii. Standard Deviation"
   ]
  },
  {
   "cell_type": "code",
   "execution_count": 6,
   "metadata": {},
   "outputs": [
    {
     "data": {
      "text/plain": [
       "min1          9.569975\n",
       "max1          4.394362\n",
       "mean1         5.335718\n",
       "median1       5.440054\n",
       "std1          1.772153\n",
       "1st quart1    6.153590\n",
       "3rd quart1    5.138925\n",
       "min2          0.000000\n",
       "max2          5.062729\n",
       "mean2         1.574164\n",
       "median2       1.412244\n",
       "std2          0.884105\n",
       "1st quart2    0.946386\n",
       "3rd quart2    2.125266\n",
       "min3          2.956462\n",
       "max3          4.875137\n",
       "mean3         4.008380\n",
       "median3       4.036396\n",
       "std3          0.946710\n",
       "1st quart3    4.220658\n",
       "3rd quart3    4.171628\n",
       "min4          0.000000\n",
       "max4          2.183625\n",
       "mean4         1.166114\n",
       "median4       1.145586\n",
       "std4          0.458242\n",
       "1st quart4    0.843620\n",
       "3rd quart4    1.552504\n",
       "min5          6.124001\n",
       "max5          5.741238\n",
       "mean5         5.675593\n",
       "median5       5.813782\n",
       "std5          1.024898\n",
       "1st quart5    6.096465\n",
       "3rd quart5    5.531720\n",
       "min6          0.045838\n",
       "max6          2.518921\n",
       "mean6         1.154812\n",
       "median6       1.086474\n",
       "std6          0.517617\n",
       "1st quart6    0.758584\n",
       "3rd quart6    1.523599\n",
       "dtype: float64"
      ]
     },
     "execution_count": 6,
     "metadata": {},
     "output_type": "execute_result"
    }
   ],
   "source": [
    "standard_deviation = finalDataFrame.std()\n",
    "standard_deviation[:-1]"
   ]
  },
  {
   "cell_type": "code",
   "execution_count": 9,
   "metadata": {},
   "outputs": [
    {
     "data": {
      "text/plain": [
       "{'min1': ConfidenceInterval(low=8.220030583677477, high=10.709495603487852),\n",
       " 'max1': ConfidenceInterval(low=3.314995620842594, high=5.2855270712546805),\n",
       " 'mean1': ConfidenceInterval(low=4.68118629427501, high=5.849899034669991),\n",
       " 'median1': ConfidenceInterval(low=4.76602008649444, high=5.967149662012756),\n",
       " 'std1': ConfidenceInterval(low=1.5630191079436122, high=1.9370584655327387),\n",
       " '1st quart1': ConfidenceInterval(low=5.5435084266101775, high=6.603828876321537),\n",
       " '3rd quart1': ConfidenceInterval(low=4.307611950806717, high=5.807620045905693),\n",
       " 'min2': ConfidenceInterval(low=0.0, high=0.0),\n",
       " 'max2': ConfidenceInterval(low=4.606956668619025, high=5.371280286178949),\n",
       " 'mean2': ConfidenceInterval(low=1.3898556652290928, high=1.6960694764705273),\n",
       " 'median2': ConfidenceInterval(low=1.2324907822015692, high=1.535499793042144),\n",
       " 'std2': ConfidenceInterval(low=0.7988282897194028, high=0.9370162792471377),\n",
       " '1st quart2': ConfidenceInterval(low=0.8263288170602067, high=1.030598676218863),\n",
       " '3rd quart2': ConfidenceInterval(low=1.8826217689356708, high=2.2818142013940164),\n",
       " 'min3': ConfidenceInterval(low=2.740666091944083, high=3.0904127005276636),\n",
       " 'max3': ConfidenceInterval(low=4.152125665337233, high=5.4381104764389905),\n",
       " 'mean3': ConfidenceInterval(low=3.391772137544172, high=4.468086779792583),\n",
       " 'median3': ConfidenceInterval(low=3.406837988287786, high=4.509065636136425),\n",
       " 'std3': ConfidenceInterval(low=0.7555647892200624, high=1.1174947544635778),\n",
       " '1st quart3': ConfidenceInterval(low=3.6076754229322194, high=4.680521778022237),\n",
       " '3rd quart3': ConfidenceInterval(low=3.5115774783567177, high=4.655696148099936),\n",
       " 'min4': ConfidenceInterval(low=0.0, high=0.0),\n",
       " 'max4': ConfidenceInterval(low=1.9623982099040038, high=2.346105120979564),\n",
       " 'mean4': ConfidenceInterval(low=1.06986851679371, high=1.2158620265126105),\n",
       " 'median4': ConfidenceInterval(low=1.0507111490613723, high=1.1956455946609013),\n",
       " 'std4': ConfidenceInterval(low=0.4189330129909765, high=0.48391034193746),\n",
       " '1st quart4': ConfidenceInterval(low=0.7714462988559924, high=0.8861509227197),\n",
       " '3rd quart4': ConfidenceInterval(low=1.425865519905639, high=1.6185701002374635),\n",
       " 'min5': ConfidenceInterval(low=4.385701255293721, high=7.4660576804053385),\n",
       " 'max5': ConfidenceInterval(low=4.728571650164345, high=6.511620731875581),\n",
       " 'mean5': ConfidenceInterval(low=4.397452567502831, high=6.68787341553135),\n",
       " 'median5': ConfidenceInterval(low=4.488943963173636, high=6.861055263740254),\n",
       " 'std5': ConfidenceInterval(low=0.8024342092703165, high=1.2111956100591135),\n",
       " '1st quart5': ConfidenceInterval(low=4.764679801716671, high=7.153505921468706),\n",
       " '3rd quart5': ConfidenceInterval(low=4.332708532503641, high=6.477329163111739),\n",
       " 'min6': ConfidenceInterval(low=0.0, high=0.07802896990623483),\n",
       " 'max6': ConfidenceInterval(low=2.2369708008567897, high=2.7551952633303327),\n",
       " 'mean6': ConfidenceInterval(low=1.055934146971299, high=1.2095358617019012),\n",
       " 'median6': ConfidenceInterval(low=0.9886446062452992, high=1.1427999727908877),\n",
       " 'std6': ConfidenceInterval(low=0.4764020838508802, high=0.5426014514483519),\n",
       " '1st quart6': ConfidenceInterval(low=0.6863589803018555, high=0.8036795638667403),\n",
       " '3rd quart6': ConfidenceInterval(low=1.3940261208233362, high=1.592665956854646)}"
      ]
     },
     "execution_count": 9,
     "metadata": {},
     "output_type": "execute_result"
    }
   ],
   "source": [
    "confidenceInterval = dict()\n",
    "for col in finalDataFrame.columns[:-1]:\n",
    "    cf = bootstrap((finalDataFrame[col],), np.std, confidence_level=0.90,\n",
    "                         random_state=1, method='percentile').confidence_interval\n",
    "    confidenceInterval[col] = cf\n",
    "\n",
    "confidenceInterval"
   ]
  },
  {
   "cell_type": "markdown",
   "metadata": {
    "tags": []
   },
   "source": [
    "#### iv. Select Features"
   ]
  },
  {
   "cell_type": "code",
   "execution_count": 10,
   "metadata": {},
   "outputs": [
    {
     "name": "stdout",
     "output_type": "stream",
     "text": [
      "min_avg :  0.10137056255594719\n",
      "max_avg :  0.19634376032101034\n",
      "mean_avg :  0.10833168743376688\n",
      "median_avg :  0.08695851306737325\n",
      "standardDeviation_avg :  0.028390269193569295\n",
      "firstQuartile_avg :  0.07585152017740815\n",
      "thirdQuartile_avg :  0.1435763978737987\n"
     ]
    }
   ],
   "source": [
    "classifier = logisticRegression(random_state = 42, max_iter=1000).fit(finalDataFrame.iloc[:,:-1], finalDataFrame['isBendingColumn'])\n",
    "coefficients = classifier.coef_\n",
    "# print(coefficients)\n",
    "\n",
    "coeff_dict = dict(zip(finalDataFrame.columns[:-1], coefficients[0]))\n",
    "coeff_dict\n",
    "\n",
    "featuresCount = 6\n",
    "minSum = 0\n",
    "maxSum = 0\n",
    "meanSum = 0 \n",
    "medianSum = 0\n",
    "stdSum = 0\n",
    "firstQuartileSum = 0\n",
    "thirdQuartileSum = 0\n",
    "\n",
    "for k,v in coeff_dict.items():\n",
    "    if(k == 'min1' or k == 'min2' or k == 'min3' or k == 'min4' or k == 'min5' or k == 'min6'):\n",
    "        minSum += abs(v)\n",
    "    elif (k == 'max1' or k == 'max2' or k == 'max3' or k == 'max4' or k == 'max5' or k == 'max6'):\n",
    "        maxSum += abs(v)\n",
    "    elif (k == 'mean1' or k == 'mean2' or k == 'mean3' or k == 'mean4' or k == 'mean5' or k == 'mean6'):\n",
    "        meanSum += abs(v)\n",
    "    elif (k == 'median1' or k == 'median2' or k == 'median3' or k == 'median4' or k == 'median5' or k == 'median6'):\n",
    "        medianSum += abs(v)\n",
    "    elif(k == 'std1' or k == 'std2' or k == 'std3' or k == 'std4' or k == 'std5' or k == 'std6'):\n",
    "        stdSum += abs(v)\n",
    "    elif(k == '1st quart1' or k == '1st quart2' or k == '1st quart3' or k == '1st quart4' or k == '1st quart5' or k == '1st quart6'):\n",
    "        firstQuartileSum += abs(v)\n",
    "    else:\n",
    "        thirdQuartileSum += abs(v)\n",
    "        \n",
    "\n",
    "print('min_avg : ',(minSum/featuresCount))\n",
    "print('max_avg : ',(maxSum/featuresCount))\n",
    "print('mean_avg : ',(meanSum/featuresCount))\n",
    "print('median_avg : ',(medianSum/featuresCount))\n",
    "print('standardDeviation_avg : ',(stdSum/featuresCount))\n",
    "print('firstQuartile_avg : ',(firstQuartileSum/featuresCount))\n",
    "print('thirdQuartile_avg : ',(thirdQuartileSum/featuresCount))"
   ]
  },
  {
   "cell_type": "markdown",
   "metadata": {},
   "source": [
    "I fitted a Logisitic Regression model to all the time-domain features and the target variable/class = Bending(isBendingColumn = 1)  or not Bending (isBendingColumn = 0). The averaged printed above are the averages of all the coefficients of the time-domain features. And as we can see the time-domain features **Max, 3rd Quartile and Mean** have the highest average. Hence these seem to be the most important time domain features."
   ]
  },
  {
   "cell_type": "markdown",
   "metadata": {},
   "source": [
    "## 2. ISLR 3.7.4"
   ]
  },
  {
   "cell_type": "markdown",
   "metadata": {},
   "source": [
    "### (a) Linear Train"
   ]
  },
  {
   "cell_type": "markdown",
   "metadata": {},
   "source": [
    "The **training RSS for cubic regression would be lower than the training RSS for linear regression**. Even if the true relation between X and Y is linear, the cubic regression would fit closer to some erroneous data points because of **overfitting** and hence give lower RSS than the linear regression."
   ]
  },
  {
   "cell_type": "markdown",
   "metadata": {},
   "source": [
    "### (b) Linear Test"
   ]
  },
  {
   "cell_type": "markdown",
   "metadata": {},
   "source": [
    "The **test RSS for linear regression would be lower than the cubic regression**. Since the true relation between X and Y is linear, linear regression would fit better to the underlying model. On the other hand the higher RSS for cubic regression would be attributed to **Overfitting** and it's lowered ability to generalise.\n"
   ]
  },
  {
   "cell_type": "markdown",
   "metadata": {},
   "source": [
    "### (c) Not Linear Train"
   ]
  },
  {
   "cell_type": "markdown",
   "metadata": {},
   "source": [
    "The **train RSS for cubic regression will be lower than the RSS of linear regression**. As explained in part a) the cubic regression fit closer to data points due to overfitting and hence would give lower RSS if the underlying relationship is not linear"
   ]
  },
  {
   "cell_type": "markdown",
   "metadata": {},
   "source": [
    "### (d) Not Linear Testing"
   ]
  },
  {
   "cell_type": "markdown",
   "metadata": {},
   "source": [
    "**Not enough information to conclude which regression would be better**. If the true/underlying relation is cubic or of even higher degree the test RSS for cubic regression would be lower. Whereas if the underlying relationship is close to linear relationship the test RSS for linear regression would be lower."
   ]
  }
 ],
 "metadata": {
  "kernelspec": {
   "display_name": "Python 3 (ipykernel)",
   "language": "python",
   "name": "python3"
  },
  "language_info": {
   "codemirror_mode": {
    "name": "ipython",
    "version": 3
   },
   "file_extension": ".py",
   "mimetype": "text/x-python",
   "name": "python",
   "nbconvert_exporter": "python",
   "pygments_lexer": "ipython3",
   "version": "3.9.13"
  },
  "toc": {
   "base_numbering": 1,
   "nav_menu": {},
   "number_sections": true,
   "sideBar": true,
   "skip_h1_title": true,
   "title_cell": "Table of Contents",
   "title_sidebar": "Contents",
   "toc_cell": false,
   "toc_position": {
    "height": "calc(100% - 180px)",
    "left": "10px",
    "top": "150px",
    "width": "294.435px"
   },
   "toc_section_display": true,
   "toc_window_display": true
  },
  "vscode": {
   "interpreter": {
    "hash": "3c20c2d94d2527936fe0f3a300eb11db30fed84423423838e2f93b74eb7aaebc"
   }
  }
 },
 "nbformat": 4,
 "nbformat_minor": 4
}
